{
  "nbformat": 4,
  "nbformat_minor": 0,
  "metadata": {
    "colab": {
      "name": "using GloVe Embedding.ipynb",
      "provenance": [],
      "toc_visible": true
    },
    "kernelspec": {
      "name": "python3",
      "display_name": "Python 3"
    }
  },
  "cells": [
    {
      "cell_type": "markdown",
      "metadata": {
        "id": "Khg5OLq5ico3"
      },
      "source": [
        "## **GloVe 임베딩을 활용하여 텍스트 분석하기**\n",
        "\n",
        "훈련 데이터가 부족하여 작업에 맞는 임베딩 벡터를 계산할 수 없다면, 사전 훈련된 단어 임베딩을 사용할 수 있다.\n",
        "\n",
        "여기서는 스탠포드 대학의 연구자들이 개발한 GloVe를 활용하여, 영화 리뷰 분석을 해보았다."
      ]
    },
    {
      "cell_type": "code",
      "metadata": {
        "colab": {
          "base_uri": "https://localhost:8080/",
          "height": 941
        },
        "id": "kpKXtISNidUo",
        "outputId": "f212aead-2564-46e7-96ea-13996bf60475"
      },
      "source": [
        "import os\n",
        "import matplotlib.pyplot as plt\n",
        "import numpy as np\n",
        "import tensorflow as tf\n",
        "\n",
        "from tensorflow.keras.models import Model\n",
        "from tensorflow.keras.layers import Input, Dense, Activation, Flatten, Embedding\n",
        "from tensorflow.keras.preprocessing.text import Tokenizer\n",
        "from tensorflow.keras.preprocessing.sequence import pad_sequences\n",
        "from google.colab import drive\n",
        "drive.mount('/content/drive')\n",
        "\n",
        "\n",
        "train_dir = '/content/drive/MyDrive/aclImdb.zip (Unzipped Files)/aclImdb/test'\n",
        "\n",
        "labels = []\n",
        "texts = []\n",
        "\n",
        "# 훈련용 리뷰 하나를 문자열 하나로 만들고, neg/pos 라벨링도 한다.\n",
        "for label_type in ['neg', 'pos']:\n",
        "  dir_name = os.path.join(train_dir, label_type)\n",
        "  for fname in os.listdir(dir_name):\n",
        "    if fname[-4:] == '.txt':\n",
        "      f = open(os.path.join(dir_name, fname), encoding=\"utf8\")\n",
        "      texts.append(f.read())\n",
        "      f.close()\n",
        "      if label_type == 'neg':\n",
        "        labels.append(0)\n",
        "      else:\n",
        "        labels.append(1)\n",
        "\n",
        "labels = np.array(labels)\n",
        "\n",
        "maxlen = 100\n",
        "training_samples = 2000\n",
        "validation_samples = 5000\n",
        "max_words = 10000\n",
        "\n",
        "# 문자열을 숫자로 인덱싱한다. \n",
        "tokenizer = Tokenizer(num_words=max_words)\n",
        "tokenizer.fit_on_texts(texts)\n",
        "sequences = tokenizer.texts_to_sequences(texts)\n",
        "data = pad_sequences(sequences, maxlen=maxlen)\n",
        "\n",
        "word_index = tokenizer.word_index\n",
        "\n",
        "# 훈련용 데이터와 검증 데이터를 나눈다.\n",
        "indices = np.arange(data.shape[0])\n",
        "np.random.shuffle(indices)\n",
        "data = data[indices]\n",
        "labels = labels[indices]\n",
        "\n",
        "x_train = data[:training_samples]\n",
        "y_train = labels[:training_samples]\n",
        "x_val = data[training_samples: training_samples + validation_samples]\n",
        "y_val = labels[training_samples: training_samples + validation_samples]\n",
        "\n",
        "# Glove 단어 임베딩 내려받기\n",
        "glove_dir = '/content/drive/MyDrive/glove.6B.zip (Unzipped Files)'\n",
        "\n",
        "embeddings_index = {}\n",
        "f = open(os.path.join(glove_dir, 'glove.6B.100d.txt'), encoding=\"utf8\")\n",
        "for line in f:\n",
        "  values = line.split()\n",
        "  word = values[0]\n",
        "  coefs = np.array(values[1:], dtype = 'float32')\n",
        "  embeddings_index[word] = coefs\n",
        "f.close()\n",
        "\n",
        "# Embedding층에 주입할 수 있도록 임베딩 행렬을 만든다.\n",
        "embedding_dim = 100\n",
        "\n",
        "embedding_matrix = np.zeros((max_words, embedding_dim))\n",
        "for word, i in word_index.items():\n",
        "  if i < max_words:\n",
        "    embedding_vector = embeddings_index.get(word)\n",
        "    if embedding_vector is not None:\n",
        "      embedding_matrix[i] = embedding_vector\n",
        "\n",
        "input = Input(shape = (maxlen,))\n",
        "R = Embedding(max_words, embedding_dim)(input)\n",
        "R = Flatten()(R)\n",
        "R = Dense(32)(R)\n",
        "R = Activation('relu')(R)\n",
        "R = Dense(1)(R)\n",
        "R = Activation('sigmoid')(R)\n",
        "\n",
        "model = Model(inputs = [input], outputs = R)\n",
        "\n",
        "# model의 첫 번째 가중치 층을 embedding_matrix로 교체한다.\n",
        "model.layers[1].set_weights([embedding_matrix])\n",
        "model.layers[1].trainable = False  # 동결한다.\n",
        "\n",
        "model.compile(optimizer='rmsprop', \n",
        "              loss='binary_crossentropy', \n",
        "              metrics=['acc'])\n",
        "history = model.fit(x_train, y_train,\n",
        "                    epochs=10,\n",
        "                    batch_size=32,\n",
        "                    validation_data=(x_val, y_val))\n",
        "\n",
        "model.save_weights('pre_trained_glove_model.h5')\n",
        "\n",
        "# 결과값 그리기\n",
        "acc = history.history['acc']\n",
        "val_acc = history.history['val_acc']\n",
        "loss = history.history['loss']\n",
        "val_loss = history.history['val_loss']\n",
        "\n",
        "epochs = range(1, len(acc) + 1)\n",
        "\n",
        "plt.plot(epochs, acc, 'bo', label = 'Training acc')\n",
        "plt.plot(epochs, val_acc, 'b', label = 'Validation acc')\n",
        "plt.title('Training and validation accuracy')\n",
        "plt.legend()\n",
        "\n",
        "plt.figure()\n",
        "\n",
        "plt.plot(epochs, loss, 'bo', label = 'Training loss')\n",
        "plt.plot(epochs, val_loss, 'b', label = 'Validation loss')\n",
        "plt.title('Training and validation loss')\n",
        "plt.legend()\n",
        "\n",
        "plt.show()\n",
        "\n"
      ],
      "execution_count": 18,
      "outputs": [
        {
          "output_type": "stream",
          "text": [
            "Drive already mounted at /content/drive; to attempt to forcibly remount, call drive.mount(\"/content/drive\", force_remount=True).\n",
            "Epoch 1/10\n",
            "63/63 [==============================] - 1s 11ms/step - loss: 1.0350 - acc: 0.5501 - val_loss: 0.7470 - val_acc: 0.4848\n",
            "Epoch 2/10\n",
            "63/63 [==============================] - 1s 8ms/step - loss: 0.6404 - acc: 0.6560 - val_loss: 0.9414 - val_acc: 0.4920\n",
            "Epoch 3/10\n",
            "63/63 [==============================] - 1s 8ms/step - loss: 0.5459 - acc: 0.7234 - val_loss: 0.9889 - val_acc: 0.5504\n",
            "Epoch 4/10\n",
            "63/63 [==============================] - 1s 8ms/step - loss: 0.5439 - acc: 0.7981 - val_loss: 0.6301 - val_acc: 0.6612\n",
            "Epoch 5/10\n",
            "63/63 [==============================] - 1s 9ms/step - loss: 0.3546 - acc: 0.8740 - val_loss: 0.9393 - val_acc: 0.5746\n",
            "Epoch 6/10\n",
            "63/63 [==============================] - 1s 9ms/step - loss: 0.2556 - acc: 0.9049 - val_loss: 0.7382 - val_acc: 0.6434\n",
            "Epoch 7/10\n",
            "63/63 [==============================] - 1s 9ms/step - loss: 0.2045 - acc: 0.9395 - val_loss: 0.7119 - val_acc: 0.6576\n",
            "Epoch 8/10\n",
            "63/63 [==============================] - 1s 9ms/step - loss: 0.1405 - acc: 0.9662 - val_loss: 0.7515 - val_acc: 0.6576\n",
            "Epoch 9/10\n",
            "63/63 [==============================] - 1s 9ms/step - loss: 0.1331 - acc: 0.9564 - val_loss: 0.7873 - val_acc: 0.6556\n",
            "Epoch 10/10\n",
            "63/63 [==============================] - 1s 8ms/step - loss: 0.0665 - acc: 0.9909 - val_loss: 0.8334 - val_acc: 0.6544\n"
          ],
          "name": "stdout"
        },
        {
          "output_type": "display_data",
          "data": {
            "image/png": "[encoded data removed]",
            "text/plain": [
              "<Figure size 432x288 with 1 Axes>"
            ]
          },
          "metadata": {
            "tags": [],
            "needs_background": "light"
          }
        },
        {
          "output_type": "display_data",
          "data": {
            "image/png": "[encoded data removed]",
            "text/plain": [
              "<Figure size 432x288 with 1 Axes>"
            ]
          },
          "metadata": {
            "tags": [],
            "needs_background": "light"
          }
        }
      ]
    }
  ]
}
