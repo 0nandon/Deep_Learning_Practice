{
  "nbformat": 4,
  "nbformat_minor": 0,
  "metadata": {
    "colab": {
      "name": "Untitled0.ipynb",
      "provenance": [],
      "collapsed_sections": []
    },
    "kernelspec": {
      "display_name": "Python 3",
      "name": "python3"
    }
  },
  "cells": [
    {
      "cell_type": "code",
      "metadata": {
        "colab": {
          "base_uri": "https://localhost:8080/"
        },
        "id": "kpKXtISNidUo",
        "outputId": "d5758f04-47ac-49d7-bce6-106229cd2a54"
      },
      "source": [
        "from collections import OrderedDict\n",
        "import tensorflow as tf\n",
        "import numpy as np\n",
        "from tensorflow import keras\n",
        "import matplotlib.pyplot as plt\n",
        "from tensorflow.keras.utils import to_categorical\n",
        "\n",
        "# 전처리\n",
        "def preprocess(text):\n",
        "  text = text.lower()\n",
        "  text = text.replace('.', ' .')\n",
        "  words = text.split(' ')\n",
        "\n",
        "  word_to_id = {}\n",
        "  id_to_word = {}\n",
        "\n",
        "  for word in words:\n",
        "    if word not in word_to_id:\n",
        "      new_id = len(word_to_id)\n",
        "      word_to_id[word] = new_id\n",
        "      id_to_word[new_id] = word\n",
        "\n",
        "  corpus = np.array([word_to_id[x] for x in words])\n",
        "  return corpus, word_to_id, id_to_word\n",
        "\n",
        "text = 'you say goodbye and I say hello.'\n",
        "corpus, word_to_id, id_to_word = preprocess(text)\n",
        "\n",
        "print(corpus)"
      ],
      "execution_count": 1,
      "outputs": [
        {
          "output_type": "stream",
          "text": [
            "[0 1 2 3 4 1 5 6]\n"
          ],
          "name": "stdout"
        }
      ]
    },
    {
      "cell_type": "markdown",
      "metadata": {
        "id": "6CDm-F95MU-R"
      },
      "source": [
        "### 동시발생 행렬\n",
        "동시발행 행렬은 단어를 벡터로 표현하기 위한 첫번째 시도이다.\n",
        "단어의 의미는 주변 단어에 의해 형성된다는 '분포 가설(distributional hypothesis)'에 기초하여 만들어진 기법이다."
      ]
    },
    {
      "cell_type": "code",
      "metadata": {
        "colab": {
          "base_uri": "https://localhost:8080/"
        },
        "id": "lrcgFqRYL4k-",
        "outputId": "d68275ce-7739-4137-88d1-006029cbf892"
      },
      "source": [
        "def create_co_matrix(corpus, vocab_size, window_size=1):\n",
        "  corpus_size = len(corpus)\n",
        "  co_matrix = np.zeros((vocab_size, vocab_size), dtype=np.int32)\n",
        "\n",
        "  for idx, word_id in enumerate(corpus):\n",
        "    for i in range(1, window_size + 1):\n",
        "      left_idx = idx - i\n",
        "      right_idx = idx + i\n",
        "\n",
        "      if left_idx >= 0:\n",
        "        left_word_id = corpus[left_idx]\n",
        "        co_matrix[word_id, left_word_id] += 1\n",
        "\n",
        "      if right_idx < corpus_size:\n",
        "        right_word_id = corpus[right_idx]\n",
        "        co_matrix[word_id, right_word_id] += 1\n",
        "      \n",
        "  return co_matrix\n",
        "\n",
        "C = create_co_matrix(corpus, len(word_to_id))\n",
        "print(C)"
      ],
      "execution_count": 6,
      "outputs": [
        {
          "output_type": "stream",
          "text": [
            "[[0 1 0 0 0 0 0]\n",
            " [1 0 1 0 1 1 0]\n",
            " [0 1 0 1 0 0 0]\n",
            " [0 0 1 0 1 0 0]\n",
            " [0 1 0 1 0 0 0]\n",
            " [0 1 0 0 0 0 1]\n",
            " [0 0 0 0 0 1 0]]\n"
          ],
          "name": "stdout"
        }
      ]
    },
    {
      "cell_type": "markdown",
      "metadata": {
        "id": "jSpJZ_LxMsZx"
      },
      "source": [
        "### 코사인 유사도(cosine similarity)\n",
        "\n",
        "코사인 유사도는 벡터 간 유사도를 구하는 가장 대표적인 기법이다.\n",
        "이는 직관적으로 해석하자면, 두 벡터가 가리키는 방향의 코사인 값을 구하는 것이다.\n",
        "두 벡터 사이의 각도가 작을 수록 값이 커진다."
      ]
    },
    {
      "cell_type": "code",
      "metadata": {
        "colab": {
          "base_uri": "https://localhost:8080/"
        },
        "id": "_diNcOhSMsD1",
        "outputId": "0f7d76d7-d9e9-45bc-cd46-b6484f38804a"
      },
      "source": [
        "def cos_similarity(x, y, eps=1e-8):\n",
        "  nx = x / np.sqrt(np.sum(x**2) + eps)\n",
        "  ny = y / np.sqrt(np.sum(y**2) + eps)\n",
        "  return np.dot(nx, ny)\n",
        "\n",
        "c0 = C[word_to_id['you']]\n",
        "c1 = C[word_to_id['i']]\n",
        "print(cos_similarity(c0, c1))"
      ],
      "execution_count": 7,
      "outputs": [
        {
          "output_type": "stream",
          "text": [
            "0.7071067758832467\n"
          ],
          "name": "stdout"
        }
      ]
    },
    {
      "cell_type": "markdown",
      "metadata": {
        "id": "wFjVVZQGOYzz"
      },
      "source": [
        "### 유사 단어의 랭킹 표시"
      ]
    },
    {
      "cell_type": "code",
      "metadata": {
        "colab": {
          "base_uri": "https://localhost:8080/"
        },
        "id": "OxccY008OcgG",
        "outputId": "3924df41-f853-41fd-f03d-a2a5abcf7afa"
      },
      "source": [
        "def most_similar(query, word_to_id, id_to_word, word_matrix, top=5):\n",
        "  if query not in word_to_id:\n",
        "    print('%s을 찾을 수 없습니다.' % query)\n",
        "    return\n",
        "  \n",
        "  print('\\n[query] ' + query)\n",
        "  query_id = word_to_id[query]\n",
        "  query_vec = word_matrix[query_id]\n",
        "\n",
        "  vocab_size = len(id_to_word)\n",
        "  similarity = np.zeros(vocab_size)\n",
        "  for i in range(vocab_size):\n",
        "    similarity[i] = cos_similarity(word_matrix[i], query_vec)\n",
        "\n",
        "  count = 0\n",
        "  for i in (-1 * similarity).argsort():\n",
        "    if id_to_word[i] == query:\n",
        "      continue\n",
        "    print(' %s: %s' % (id_to_word[i], similarity[i]))\n",
        "\n",
        "    count += 1\n",
        "    if count >= top:\n",
        "      return\n",
        "\n",
        "most_similar('you', word_to_id, id_to_word, C, top=5)"
      ],
      "execution_count": 10,
      "outputs": [
        {
          "output_type": "stream",
          "text": [
            "\n",
            "[query] you\n",
            " goodbye: 0.7071067758832467\n",
            " i: 0.7071067758832467\n",
            " hello: 0.7071067758832467\n",
            " say: 0.0\n",
            " and: 0.0\n"
          ],
          "name": "stdout"
        }
      ]
    },
    {
      "cell_type": "markdown",
      "metadata": {
        "id": "jIxbUlZ7QpDI"
      },
      "source": [
        "### 통계 기반 기법 계산하기\n",
        "\n",
        "동시발생 행렬의 원소는 두 단어가 동시에 발생한 횟수를 나타낸다. 그러나, 이 '발생' 횟수라는 것은 사실 그리 좋은 특징이 아니다. 예를 들어, 고빈도 단어 'the'와 일반 명사 'car'을 비교해 본다고 하자. 이 둘은 동시에 발생한 횟수가 꽤 많을 것인데, 이는 'the'와 'car'가 의미가 유사해서라기 보다는, 단지 'the'가 고빈도 단어이기 때문에 동시발생 횟수도 높게 나온 사례라고 할 수 있다.\n",
        "\n",
        "이러한 문제를 해결하기 위해, 조건부확률을 사용하여 PMI 지수라는 것을 사용한다."
      ]
    },
    {
      "cell_type": "code",
      "metadata": {
        "colab": {
          "base_uri": "https://localhost:8080/"
        },
        "id": "DYJN99X5RYy7",
        "outputId": "57ec40cd-6ac3-4029-9a45-c55e93a9d24a"
      },
      "source": [
        "def ppmi(C, verbose=False, eps=1e-8):\n",
        "  M = np.zeros_like(C, dtype=np.float32)\n",
        "  N = np.sum(C)\n",
        "  S = np.sum(C, axis=0)\n",
        "  total = C.shape[0] * C.shape[1]\n",
        "  cnt = 0\n",
        "\n",
        "  for i in range(C.shape[0]):\n",
        "    for j in range(C.shape[1]):\n",
        "      pmi = np.log2(N * C[i, j] / (S[i]*S[j]) + eps)\n",
        "      M[i, j] = max(0, pmi)\n",
        "\n",
        "      if verbose:\n",
        "        cnt += 1\n",
        "        if cnt % (total // 100) == 0:\n",
        "          print('%.1f%% 완료' % (100*cnt/total))\n",
        "\n",
        "  return M\n",
        "\n",
        "np.set_printoptions(precision=3)\n",
        "W = ppmi(C)\n",
        "\n",
        "print(W)"
      ],
      "execution_count": 24,
      "outputs": [
        {
          "output_type": "stream",
          "text": [
            "[[0.    1.807 0.    0.    0.    0.    0.   ]\n",
            " [1.807 0.    0.807 0.    0.807 0.807 0.   ]\n",
            " [0.    0.807 0.    1.807 0.    0.    0.   ]\n",
            " [0.    0.    1.807 0.    1.807 0.    0.   ]\n",
            " [0.    0.807 0.    1.807 0.    0.    0.   ]\n",
            " [0.    0.807 0.    0.    0.    0.    2.807]\n",
            " [0.    0.    0.    0.    0.    2.807 0.   ]]\n"
          ],
          "name": "stdout"
        }
      ]
    },
    {
      "cell_type": "markdown",
      "metadata": {
        "id": "bBPmPxLhUVGI"
      },
      "source": [
        "### 차원 감소 (dimensionality reduction)\n",
        "\n",
        "ppmi지수의 가장 큰 문제는 corpus의 크기가 커질 수록 단어의 벡터 길이도 같이\n",
        "길어진다는 것이다. 따라서, SVD를 활용한 차원 감소 기법을 활용하뎌 단어의 벡터 길이를 줄여볼 것이다."
      ]
    },
    {
      "cell_type": "code",
      "metadata": {
        "colab": {
          "base_uri": "https://localhost:8080/",
          "height": 265
        },
        "id": "W0v-OuDjUUxv",
        "outputId": "8e8e9c25-795e-4f16-e2bc-1b3d8c476e2f"
      },
      "source": [
        "U, S, V = np.linalg.svd(W) # 차원 감소\n",
        "\n",
        "for word, word_id in word_to_id.items():\n",
        "  plt.annotate(word, (U[word_id, 0], U[word_id, 1]))\n",
        "\n",
        "plt.scatter(U[:,0], U[:,1], alpha=0.5)\n",
        "plt.show()"
      ],
      "execution_count": 27,
      "outputs": [
        {
          "output_type": "display_data",
          "data": {
            "image/png": "[encoded data removed]",
            "text/plain": [
              "<Figure size 432x288 with 1 Axes>"
            ]
          },
          "metadata": {
            "tags": [],
            "needs_background": "light"
          }
        }
      ]
    }
  ]
}