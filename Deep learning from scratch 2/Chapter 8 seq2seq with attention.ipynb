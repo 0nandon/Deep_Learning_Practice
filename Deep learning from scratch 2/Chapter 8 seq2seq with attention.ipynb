{
  "nbformat": 4,
  "nbformat_minor": 0,
  "metadata": {
    "colab": {
      "name": "Untitled3.ipynb",
      "provenance": [],
      "collapsed_sections": []
    },
    "kernelspec": {
      "display_name": "Python 3",
      "name": "python3"
    },
    "language_info": {
      "name": "python"
    }
  },
  "cells": [
    {
      "cell_type": "markdown",
      "metadata": {
        "id": "T5IM8E7ECyDO"
      },
      "source": [
        "### **seq2seq의 문제점**\n",
        "\n",
        "#### **Encoder의 개선**\n",
        "seq2seq에서는 시계열 데이터를 인코딩한다. 이때, Encoder의 출력은 '고정 길이의 벡터'이다. 그러나 이 '고정 길이'라는 것에 큰 문제가 있다. 고정 길이 벡터라 함은 입력 문장의 길이에 관계없이, 한상 같은 길이의 벡터로 변환한다는 뜻이다.\n",
        "\n",
        "즉 문장의 길이가 아무리 길어도, '고정 길이'로 압축을 시켜야 하는 것이고, 이렇게 되면 인코딩 되는 과정에서 문장에 대한 정보가 많이 손실된다. 따라서, Encoder의 출력 길이는 입력 문장의 길이에 따라 바꿔주는게 좋다.\n",
        "\n",
        "#### **Decoder의 개선**\n",
        "\n",
        "Encoder는 각 단어에 대응하는 LSTM 계층의 은닉 상태 벡터를 hs로 모아 출력한다. 그리고 이 hs가 디코더에 전달되어 시계열 변환이 이루어진다.\n",
        "\n",
        "여기서 디코더는 hs에 응축되어 있는 입력문장의 데이터를 활용하게 되는데, 이 과정에서 attention이란 개념을 도입하여 입력 문장과 출력 문장의 대응 관계를 고려한 모델을 생성할 것이다. 예를들어, 사람이 문장을 번역할 때, 머릿속에서 어떤 일이 일어날까? 예컨대, '나는 고양이로소이다.'를 영어로 번역하려 한다면 아마 대부분이 '나' = '고양이'라고 생각할 것이다. 이처럼 입력 문장과 출력 문장의 대응관계가 있는 법이다. 이러한 대응관계를 학습시킬 예정이다.\n"
      ]
    },
    {
      "cell_type": "code",
      "metadata": {
        "id": "cFytuQFLjMgi"
      },
      "source": [
        "import numpy as np\n",
        "import matplotlib.pyplot as plt\n",
        "\n",
        "class WeightSum:\n",
        "  def __init__(self):\n",
        "    self.params, self.grads = [], []\n",
        "    self.cache = None\n",
        "\n",
        "  def forward(self, hs, a):\n",
        "    N, T, H = hs.shape\n",
        "\n",
        "    ar = a.reshape(N, T, 1).repeat(H, axis=2)\n",
        "    t = hs * ar\n",
        "    c = np.sum(t, axis=1)\n",
        "\n",
        "    self.cache = (hs, ar)\n",
        "    return c\n",
        "\n",
        "  def backward(self, dc):\n",
        "    hs, ar = self.cache\n",
        "    N, T, H = hs.shape\n",
        "\n",
        "    dt = dc.reshape(N, 1, H).repeat(T, axis=1)\n",
        "    dar = dt * hs\n",
        "    dhs = dt * ar\n",
        "    da = np.sum(dar, axis=2)\n",
        "\n",
        "    return dhs, da"
      ],
      "execution_count": 13,
      "outputs": []
    },
    {
      "cell_type": "markdown",
      "metadata": {
        "id": "YqXtW7nHlvsK"
      },
      "source": [
        "각 단어의 중요도를 나타내는 가중치 a가 있다면, 가중합을 이용해 '맥락 벡터'를 얻을 수 있다. Encoder에서 출력된 행렬을 hs라고 하고, Decoder의 첫 LSTM에서 출력된 은닉 상테 벡터를 h라고 하자. 중요한 것은 hs의 각 행벡터와 h가 얼마나 비슷한지를 계산하는 것인데, 이때 내적을 사용한다. 이후 소프트맥수 함수로 정규화를 진행한다.\n",
        "\n",
        "> a = softmax(hs * h)\n",
        "\n",
        "이와 같은 구현을 AttentionWeight 클래스로 구현해보자."
      ]
    },
    {
      "cell_type": "code",
      "metadata": {
        "id": "m9qt586llveO"
      },
      "source": [
        "class AttentionWeight:\n",
        "  def __init__(self):\n",
        "    self.params, self.grads = [], []\n",
        "    self.softmax = Softmax()\n",
        "    self.cache = None\n",
        "\n",
        "  def forward(self, hs, h):\n",
        "    N, T, H = hs.shape\n",
        "\n",
        "    hr = h.reshape(N, 1, H).repeat(T, axis=1)\n",
        "    t = hs * hr\n",
        "    s = np.sum(t, axis=2)\n",
        "    a = self.softmax.forward(s)\n",
        "\n",
        "    self.cache = (hs, hr)\n",
        "    return a\n",
        "\n",
        "  def backward(self, da):\n",
        "    hs, hr = self.cache\n",
        "    N, T, H = hs.shape\n",
        "\n",
        "    ds = self.softmax.backward(da)\n",
        "    dt = ds.reshape(N, T, 1).repeat(H, axis=2)\n",
        "    dhs = dt * hr\n",
        "    dhr = dt * hs\n",
        "    dh = np.sum(dhr, axis=1)\n",
        "\n",
        "    return dhs, dh"
      ],
      "execution_count": 12,
      "outputs": []
    },
    {
      "cell_type": "markdown",
      "metadata": {
        "id": "hl_KwfWzuH56"
      },
      "source": [
        "이후, 두 클래스를 사용하여 Attention 클래스를 만든다."
      ]
    },
    {
      "cell_type": "code",
      "metadata": {
        "id": "bHI-YAJduMUD"
      },
      "source": [
        "class Attention:\n",
        "  def __init__(self):\n",
        "    self.params, self.grads = [], []\n",
        "    self.attention_weight_layer = AttentionWeight()\n",
        "    self.weight_sum_layer = WeightSum()\n",
        "    self.attention_weight = None\n",
        "\n",
        "  def forward(self, hs, h):\n",
        "    a = self.attention_weight_layer.forward(hs, h)\n",
        "    out = self.weight_sum_layer.forward(hs, a)\n",
        "    self.attention_weight = a\n",
        "    return out\n",
        "\n",
        "  def backward(self, dout):\n",
        "    dhs0, da = self.weight_sum_layer.backward(dout)\n",
        "    dhs1, dh = self.attention_weight_layer.backward(da)\n",
        "    dhs = dhs0 + dhs1\n",
        "    return dhs, dh"
      ],
      "execution_count": 11,
      "outputs": []
    },
    {
      "cell_type": "markdown",
      "metadata": {
        "id": "OYVPMMh4zCCF"
      },
      "source": [
        "이제 Attention을 시간순으로 쌓은 TimeAttention 클래스를 구현한다."
      ]
    },
    {
      "cell_type": "code",
      "metadata": {
        "id": "3hfSe8m80xE0"
      },
      "source": [
        "class TimeAttention:\n",
        "  def __init__(self):\n",
        "    self.params, self.grads = [], []\n",
        "    self.layers = None\n",
        "    self.attention_weights = None\n",
        "\n",
        "  def forward(self, hs_enc, hs_dec):\n",
        "    N, T, H = hs_dec.shape\n",
        "    out = np.empty_like(hs_dec)\n",
        "    self.layers = []\n",
        "    self.attention_weights = []\n",
        "\n",
        "    for t in range(T):\n",
        "      layer = Attention()\n",
        "      out[:, t, :] = layer.forward(hs_enc, hs_dec[:, t, :])\n",
        "      self.layers.append(layer)\n",
        "      self.attention_weights.append(layer.attention_weight)\n",
        "\n",
        "    return out\n",
        "\n",
        "  def backward(self, dout):\n",
        "    N, T, H = dout.shape\n",
        "    dhs_enc = 0\n",
        "    dhs_dec = np.empty_like(dout)\n",
        "\n",
        "    for t in range(T):\n",
        "      layer = self.layers[t]\n",
        "      dhs, dh = layer.backward(dout[:, t, :])\n",
        "      dhs_enc += dhs\n",
        "      dhs_dec[:, t, :] = dh\n",
        "\n",
        "    return dhs_enc, dhs_dec"
      ],
      "execution_count": 10,
      "outputs": []
    },
    {
      "cell_type": "markdown",
      "metadata": {
        "id": "lb3D2GUn5QZK"
      },
      "source": [
        "이어서 AttentionEncoder를 구현해보도록 하겠다."
      ]
    },
    {
      "cell_type": "code",
      "metadata": {
        "id": "NrZfusJV5FiR"
      },
      "source": [
        "class AttentionEncoder(Encoder):\n",
        "  def forward(self, xs):\n",
        "    xs = self.embed.forward(xs)\n",
        "    hs = self.lstm.forward(xs)\n",
        "    return hs # AttentionEncoder 에서는 hs 전체를 출력한다.\n",
        "\n",
        "  def backward(self, dhs):\n",
        "    dout = self.lstm.backward(dhs)\n",
        "    dout = self.embed.backward(dout)\n",
        "    return dout"
      ],
      "execution_count": 9,
      "outputs": []
    },
    {
      "cell_type": "markdown",
      "metadata": {
        "id": "3zDc_HdC6Chi"
      },
      "source": [
        "이어서 AttentionDecoder를 구현해보도록 하자."
      ]
    },
    {
      "cell_type": "code",
      "metadata": {
        "id": "09ZBgnqC6Fft"
      },
      "source": [
        "class AttentionDecoder:\n",
        "  def __init__(self, vocab_size, wordvec_size, hidden_size):\n",
        "    V, D, H = vocab_size, wordvec_size, hidden_size\n",
        "    rn = np.random.randn\n",
        "\n",
        "    embed_W = (rn(V, D) / 100).astype('f')\n",
        "    lstm_Wx = (rn(D, 4*H) / np.sqrt(D)).astype('f')\n",
        "    lstm_Wh = (rn(H, 4*H) / np.sqrt(H)).astype('f')\n",
        "    lstm_b = np.zeros(4*H).astype('f')\n",
        "    affine_W = (rn(2*H, V) / np.sqrt(2*H)).astype('f')\n",
        "    affine_b = np.zeros(V).astype('f')\n",
        "\n",
        "    self.embed = TimeEmbedding(embed_W)\n",
        "    self.lstm = TimeLSTM(lstm_Wx, lstm_Wh, lstm_b, stateful=True)\n",
        "    self.attention = TimeAttention()\n",
        "    self.affine = TimeAffine(affine_W, affine_b)\n",
        "    layers = [self.embed, self.lstm, self.attention, self.affine]\n",
        "\n",
        "    self.params, self.grads = [], []\n",
        "    for layer in layers:\n",
        "      self.params += layer.params\n",
        "      self.grads += layer.grads\n",
        "\n",
        "  def forward(self, xs, enc_hs):\n",
        "    h = enc_hs[:, -1]\n",
        "    self.lstm.set_state(h)\n",
        "\n",
        "    out = self.embed.forward(xs)\n",
        "    dec_hs = self.lstm.forward(out)\n",
        "    c = self.attention.forward(enc_hs, dec_hs)\n",
        "    out = np.concatenate((c, dec_hs), axis=2)\n",
        "    score = self.affine.forward(out)\n",
        "\n",
        "    return score\n",
        "\n",
        "  def backward(self, dscore):\n",
        "    dout = self.affine.backward(dscore)\n",
        "    N, T, H2 = dout.shape\n",
        "    H = H2 // 2\n",
        "\n",
        "    dc, ddec_hs0 = dout[:,:,:H], dout[:,:,H:]\n",
        "    denc_hs, ddec_hs1 = self.attention.backward(dc)\n",
        "    ddec_hs = ddec_hs0 + ddec_hs1\n",
        "    dout = self.lstm.backward(ddec_hs)\n",
        "    dh = self.lstm.dh\n",
        "    denc_hs[:, -1] += dh\n",
        "    self.embed.backward(dout)\n",
        "\n",
        "    return denc_hs\n",
        "\n",
        "  # 문장 생성 함수\n",
        "  def generate(self, enc_hs, start_id, sample_size):\n",
        "    sampled = []\n",
        "    sample_id = start_id\n",
        "    h = enc_hs[:, -1]\n",
        "    self.lstm.set_state(h)\n",
        "\n",
        "    for _ in range(sample_size):\n",
        "      x = np.array([sample_id]).reshape(1, 1)\n",
        "      out = self.embed.forward(x)\n",
        "      dec_hs = self.lstm.forward(out)\n",
        "      c = self.attention.forward(enc_hs, dec_hs)\n",
        "      out = np.concatenate((c, dec_hs), axis=2)\n",
        "      score = self.affine.forward(out)\n",
        "\n",
        "      sample_id = np.argmax(score.flatten())\n",
        "      sampled.append(int(sample_id))\n",
        "    \n",
        "    return sampled"
      ],
      "execution_count": 8,
      "outputs": []
    },
    {
      "cell_type": "markdown",
      "metadata": {
        "id": "b6bOWLBeB-kw"
      },
      "source": [
        "seq2seq를 구현한다."
      ]
    },
    {
      "cell_type": "code",
      "metadata": {
        "id": "UQs7SUWsB-GX"
      },
      "source": [
        "class AttentionSeq2seq(Seq2seq):\n",
        "  def __init__(self, vocab_size, wordvec_size, hidden_size):\n",
        "    args = vocab_size, wordvec_size, hidden_size\n",
        "    self.encoder = AttentionEncoder(*args)\n",
        "    self.decoder = AttentionDecoder(*args)\n",
        "    self.softmax = TimeSoftmaxWithLoss()\n",
        "\n",
        "    self.params = self.encoder.params + self.decoder.params\n",
        "    self.grads = self.encoder.grads + self.decoder.grads"
      ],
      "execution_count": 7,
      "outputs": []
    },
    {
      "cell_type": "markdown",
      "metadata": {
        "id": "eV-Gg-BfDdEx"
      },
      "source": [
        "학습하는 코드를 작성한다."
      ]
    },
    {
      "cell_type": "code",
      "metadata": {
        "colab": {
          "base_uri": "https://localhost:8080/"
        },
        "id": "LY5XkhojDgXz",
        "outputId": "5ed3414c-5829-45c0-b9bb-ec8e13247e6e"
      },
      "source": [
        "(x_train, t_train), (x_test, t_test) = load_data('date.txt')\n",
        "char_to_id, id_to_char = get_vocab()\n",
        "\n",
        "# 입력 문장 반전\n",
        "x_train, x_test = x_train[:, ::-1], x_test[:, ::-1]\n",
        "\n",
        "# 하이퍼파라미터 설정\n",
        "vocab_size = len(char_to_id)\n",
        "wordvec_size = 16\n",
        "hidden_size = 256\n",
        "batch_size = 128\n",
        "max_epoch = 10\n",
        "max_grad = 5.0\n",
        "\n",
        "model = AttentionSeq2seq(vocab_size, wordvec_size, hidden_size)\n",
        "optimizer = Adam()\n",
        "trainer = Trainer(model, optimizer)\n",
        "\n",
        "acc_list = []\n",
        "for epoch in range(max_epoch):\n",
        "  trainer.fit(x_train, t_train, max_epoch=1, batch_size=batch_size, max_grad=max_grad)\n",
        "\n",
        "  correct_num = 0\n",
        "  for i in range(len(x_test)):\n",
        "    question, correct = x_test[[i]], t_test[[i]]\n",
        "    verbose = i < 10\n",
        "    correct_num += eval_seq2seq(model, question, correct, id_to_char, verbose, is_reverse=True)\n",
        "  \n",
        "  acc = float(correct_num) / len(x_test)\n",
        "  acc_list.append(acc)\n",
        "  print('val acc %.3f%%' % (acc * 100))\n",
        "\n",
        "model.save_params()"
      ],
      "execution_count": 16,
      "outputs": [
        {
          "output_type": "stream",
          "name": "stdout",
          "text": [
            "| 에폭 1 | 시간 252[s] | 손실 1.00\n",
            "Q 10/15/94                     \n",
            "T 1994-10-15\n",
            "\u001b[91m☒\u001b[0m 1978-08-11\n",
            "---\n",
            "Q thursday, november 13, 2008  \n",
            "T 2008-11-13\n",
            "\u001b[91m☒\u001b[0m 1978-08-11\n",
            "---\n",
            "Q Mar 25, 2003                 \n",
            "T 2003-03-25\n",
            "\u001b[91m☒\u001b[0m 1978-08-11\n",
            "---\n",
            "Q Tuesday, November 22, 2016   \n",
            "T 2016-11-22\n",
            "\u001b[91m☒\u001b[0m 1978-08-11\n",
            "---\n",
            "Q Saturday, July 18, 1970      \n",
            "T 1970-07-18\n",
            "\u001b[91m☒\u001b[0m 1978-08-11\n",
            "---\n",
            "Q october 6, 1992              \n",
            "T 1992-10-06\n",
            "\u001b[91m☒\u001b[0m 1978-08-11\n",
            "---\n",
            "Q 8/23/08                      \n",
            "T 2008-08-23\n",
            "\u001b[91m☒\u001b[0m 1978-08-11\n",
            "---\n",
            "Q 8/30/07                      \n",
            "T 2007-08-30\n",
            "\u001b[91m☒\u001b[0m 1978-08-11\n",
            "---\n",
            "Q 10/28/13                     \n",
            "T 2013-10-28\n",
            "\u001b[91m☒\u001b[0m 1978-08-11\n",
            "---\n",
            "Q sunday, november 6, 2016     \n",
            "T 2016-11-06\n",
            "\u001b[91m☒\u001b[0m 1978-08-11\n",
            "---\n",
            "val acc 0.000%\n",
            "| 에폭 2 | 시간 254[s] | 손실 0.46\n",
            "Q 10/15/94                     \n",
            "T 1994-10-15\n",
            "\u001b[92m☑\u001b[0m 1994-10-15\n",
            "---\n",
            "Q thursday, november 13, 2008  \n",
            "T 2008-11-13\n",
            "\u001b[91m☒\u001b[0m 2006-11-13\n",
            "---\n",
            "Q Mar 25, 2003                 \n",
            "T 2003-03-25\n",
            "\u001b[92m☑\u001b[0m 2003-03-25\n",
            "---\n",
            "Q Tuesday, November 22, 2016   \n",
            "T 2016-11-22\n",
            "\u001b[92m☑\u001b[0m 2016-11-22\n",
            "---\n",
            "Q Saturday, July 18, 1970      \n",
            "T 1970-07-18\n",
            "\u001b[92m☑\u001b[0m 1970-07-18\n",
            "---\n",
            "Q october 6, 1992              \n",
            "T 1992-10-06\n",
            "\u001b[92m☑\u001b[0m 1992-10-06\n",
            "---\n",
            "Q 8/23/08                      \n",
            "T 2008-08-23\n",
            "\u001b[92m☑\u001b[0m 2008-08-23\n",
            "---\n",
            "Q 8/30/07                      \n",
            "T 2007-08-30\n",
            "\u001b[91m☒\u001b[0m 2007-08-09\n",
            "---\n",
            "Q 10/28/13                     \n",
            "T 2013-10-28\n",
            "\u001b[91m☒\u001b[0m 1983-10-28\n",
            "---\n",
            "Q sunday, november 6, 2016     \n",
            "T 2016-11-06\n",
            "\u001b[91m☒\u001b[0m 2016-11-08\n",
            "---\n",
            "val acc 51.480%\n",
            "| 에폭 3 | 시간 258[s] | 손실 0.01\n",
            "Q 10/15/94                     \n",
            "T 1994-10-15\n",
            "\u001b[92m☑\u001b[0m 1994-10-15\n",
            "---\n",
            "Q thursday, november 13, 2008  \n",
            "T 2008-11-13\n",
            "\u001b[92m☑\u001b[0m 2008-11-13\n",
            "---\n",
            "Q Mar 25, 2003                 \n",
            "T 2003-03-25\n",
            "\u001b[92m☑\u001b[0m 2003-03-25\n",
            "---\n",
            "Q Tuesday, November 22, 2016   \n",
            "T 2016-11-22\n",
            "\u001b[92m☑\u001b[0m 2016-11-22\n",
            "---\n",
            "Q Saturday, July 18, 1970      \n",
            "T 1970-07-18\n",
            "\u001b[92m☑\u001b[0m 1970-07-18\n",
            "---\n",
            "Q october 6, 1992              \n",
            "T 1992-10-06\n",
            "\u001b[92m☑\u001b[0m 1992-10-06\n",
            "---\n",
            "Q 8/23/08                      \n",
            "T 2008-08-23\n",
            "\u001b[92m☑\u001b[0m 2008-08-23\n",
            "---\n",
            "Q 8/30/07                      \n",
            "T 2007-08-30\n",
            "\u001b[92m☑\u001b[0m 2007-08-30\n",
            "---\n",
            "Q 10/28/13                     \n",
            "T 2013-10-28\n",
            "\u001b[92m☑\u001b[0m 2013-10-28\n",
            "---\n",
            "Q sunday, november 6, 2016     \n",
            "T 2016-11-06\n",
            "\u001b[92m☑\u001b[0m 2016-11-06\n",
            "---\n",
            "val acc 99.900%\n",
            "| 에폭 4 | 시간 259[s] | 손실 0.00\n",
            "Q 10/15/94                     \n",
            "T 1994-10-15\n",
            "\u001b[92m☑\u001b[0m 1994-10-15\n",
            "---\n",
            "Q thursday, november 13, 2008  \n",
            "T 2008-11-13\n",
            "\u001b[92m☑\u001b[0m 2008-11-13\n",
            "---\n",
            "Q Mar 25, 2003                 \n",
            "T 2003-03-25\n",
            "\u001b[92m☑\u001b[0m 2003-03-25\n",
            "---\n",
            "Q Tuesday, November 22, 2016   \n",
            "T 2016-11-22\n",
            "\u001b[92m☑\u001b[0m 2016-11-22\n",
            "---\n",
            "Q Saturday, July 18, 1970      \n",
            "T 1970-07-18\n",
            "\u001b[92m☑\u001b[0m 1970-07-18\n",
            "---\n",
            "Q october 6, 1992              \n",
            "T 1992-10-06\n",
            "\u001b[92m☑\u001b[0m 1992-10-06\n",
            "---\n",
            "Q 8/23/08                      \n",
            "T 2008-08-23\n",
            "\u001b[92m☑\u001b[0m 2008-08-23\n",
            "---\n",
            "Q 8/30/07                      \n",
            "T 2007-08-30\n",
            "\u001b[92m☑\u001b[0m 2007-08-30\n",
            "---\n",
            "Q 10/28/13                     \n",
            "T 2013-10-28\n",
            "\u001b[92m☑\u001b[0m 2013-10-28\n",
            "---\n",
            "Q sunday, november 6, 2016     \n",
            "T 2016-11-06\n",
            "\u001b[92m☑\u001b[0m 2016-11-06\n",
            "---\n",
            "val acc 99.900%\n",
            "| 에폭 5 | 시간 260[s] | 손실 0.00\n",
            "Q 10/15/94                     \n",
            "T 1994-10-15\n",
            "\u001b[92m☑\u001b[0m 1994-10-15\n",
            "---\n",
            "Q thursday, november 13, 2008  \n",
            "T 2008-11-13\n",
            "\u001b[92m☑\u001b[0m 2008-11-13\n",
            "---\n",
            "Q Mar 25, 2003                 \n",
            "T 2003-03-25\n",
            "\u001b[92m☑\u001b[0m 2003-03-25\n",
            "---\n",
            "Q Tuesday, November 22, 2016   \n",
            "T 2016-11-22\n",
            "\u001b[92m☑\u001b[0m 2016-11-22\n",
            "---\n",
            "Q Saturday, July 18, 1970      \n",
            "T 1970-07-18\n",
            "\u001b[92m☑\u001b[0m 1970-07-18\n",
            "---\n",
            "Q october 6, 1992              \n",
            "T 1992-10-06\n",
            "\u001b[92m☑\u001b[0m 1992-10-06\n",
            "---\n",
            "Q 8/23/08                      \n",
            "T 2008-08-23\n",
            "\u001b[92m☑\u001b[0m 2008-08-23\n",
            "---\n",
            "Q 8/30/07                      \n",
            "T 2007-08-30\n",
            "\u001b[92m☑\u001b[0m 2007-08-30\n",
            "---\n",
            "Q 10/28/13                     \n",
            "T 2013-10-28\n",
            "\u001b[92m☑\u001b[0m 2013-10-28\n",
            "---\n",
            "Q sunday, november 6, 2016     \n",
            "T 2016-11-06\n",
            "\u001b[92m☑\u001b[0m 2016-11-06\n",
            "---\n",
            "val acc 99.920%\n",
            "| 에폭 6 | 시간 258[s] | 손실 0.00\n",
            "Q 10/15/94                     \n",
            "T 1994-10-15\n",
            "\u001b[92m☑\u001b[0m 1994-10-15\n",
            "---\n",
            "Q thursday, november 13, 2008  \n",
            "T 2008-11-13\n",
            "\u001b[92m☑\u001b[0m 2008-11-13\n",
            "---\n",
            "Q Mar 25, 2003                 \n",
            "T 2003-03-25\n",
            "\u001b[92m☑\u001b[0m 2003-03-25\n",
            "---\n",
            "Q Tuesday, November 22, 2016   \n",
            "T 2016-11-22\n",
            "\u001b[92m☑\u001b[0m 2016-11-22\n",
            "---\n",
            "Q Saturday, July 18, 1970      \n",
            "T 1970-07-18\n",
            "\u001b[92m☑\u001b[0m 1970-07-18\n",
            "---\n",
            "Q october 6, 1992              \n",
            "T 1992-10-06\n",
            "\u001b[92m☑\u001b[0m 1992-10-06\n",
            "---\n",
            "Q 8/23/08                      \n",
            "T 2008-08-23\n",
            "\u001b[92m☑\u001b[0m 2008-08-23\n",
            "---\n",
            "Q 8/30/07                      \n",
            "T 2007-08-30\n",
            "\u001b[92m☑\u001b[0m 2007-08-30\n",
            "---\n",
            "Q 10/28/13                     \n",
            "T 2013-10-28\n",
            "\u001b[92m☑\u001b[0m 2013-10-28\n",
            "---\n",
            "Q sunday, november 6, 2016     \n",
            "T 2016-11-06\n",
            "\u001b[92m☑\u001b[0m 2016-11-06\n",
            "---\n",
            "val acc 99.920%\n",
            "| 에폭 7 | 시간 257[s] | 손실 0.00\n",
            "Q 10/15/94                     \n",
            "T 1994-10-15\n",
            "\u001b[92m☑\u001b[0m 1994-10-15\n",
            "---\n",
            "Q thursday, november 13, 2008  \n",
            "T 2008-11-13\n",
            "\u001b[92m☑\u001b[0m 2008-11-13\n",
            "---\n",
            "Q Mar 25, 2003                 \n",
            "T 2003-03-25\n",
            "\u001b[92m☑\u001b[0m 2003-03-25\n",
            "---\n",
            "Q Tuesday, November 22, 2016   \n",
            "T 2016-11-22\n",
            "\u001b[92m☑\u001b[0m 2016-11-22\n",
            "---\n",
            "Q Saturday, July 18, 1970      \n",
            "T 1970-07-18\n",
            "\u001b[92m☑\u001b[0m 1970-07-18\n",
            "---\n",
            "Q october 6, 1992              \n",
            "T 1992-10-06\n",
            "\u001b[92m☑\u001b[0m 1992-10-06\n",
            "---\n",
            "Q 8/23/08                      \n",
            "T 2008-08-23\n",
            "\u001b[92m☑\u001b[0m 2008-08-23\n",
            "---\n",
            "Q 8/30/07                      \n",
            "T 2007-08-30\n",
            "\u001b[92m☑\u001b[0m 2007-08-30\n",
            "---\n",
            "Q 10/28/13                     \n",
            "T 2013-10-28\n",
            "\u001b[92m☑\u001b[0m 2013-10-28\n",
            "---\n",
            "Q sunday, november 6, 2016     \n",
            "T 2016-11-06\n",
            "\u001b[92m☑\u001b[0m 2016-11-06\n",
            "---\n",
            "val acc 99.920%\n",
            "| 에폭 8 | 시간 259[s] | 손실 0.00\n",
            "Q 10/15/94                     \n",
            "T 1994-10-15\n",
            "\u001b[92m☑\u001b[0m 1994-10-15\n",
            "---\n",
            "Q thursday, november 13, 2008  \n",
            "T 2008-11-13\n",
            "\u001b[92m☑\u001b[0m 2008-11-13\n",
            "---\n",
            "Q Mar 25, 2003                 \n",
            "T 2003-03-25\n",
            "\u001b[92m☑\u001b[0m 2003-03-25\n",
            "---\n",
            "Q Tuesday, November 22, 2016   \n",
            "T 2016-11-22\n",
            "\u001b[92m☑\u001b[0m 2016-11-22\n",
            "---\n",
            "Q Saturday, July 18, 1970      \n",
            "T 1970-07-18\n",
            "\u001b[92m☑\u001b[0m 1970-07-18\n",
            "---\n",
            "Q october 6, 1992              \n",
            "T 1992-10-06\n",
            "\u001b[92m☑\u001b[0m 1992-10-06\n",
            "---\n",
            "Q 8/23/08                      \n",
            "T 2008-08-23\n",
            "\u001b[92m☑\u001b[0m 2008-08-23\n",
            "---\n",
            "Q 8/30/07                      \n",
            "T 2007-08-30\n",
            "\u001b[92m☑\u001b[0m 2007-08-30\n",
            "---\n",
            "Q 10/28/13                     \n",
            "T 2013-10-28\n",
            "\u001b[92m☑\u001b[0m 2013-10-28\n",
            "---\n",
            "Q sunday, november 6, 2016     \n",
            "T 2016-11-06\n",
            "\u001b[92m☑\u001b[0m 2016-11-06\n",
            "---\n",
            "val acc 99.960%\n",
            "| 에폭 9 | 시간 257[s] | 손실 0.00\n",
            "Q 10/15/94                     \n",
            "T 1994-10-15\n",
            "\u001b[92m☑\u001b[0m 1994-10-15\n",
            "---\n",
            "Q thursday, november 13, 2008  \n",
            "T 2008-11-13\n",
            "\u001b[92m☑\u001b[0m 2008-11-13\n",
            "---\n",
            "Q Mar 25, 2003                 \n",
            "T 2003-03-25\n",
            "\u001b[92m☑\u001b[0m 2003-03-25\n",
            "---\n",
            "Q Tuesday, November 22, 2016   \n",
            "T 2016-11-22\n",
            "\u001b[92m☑\u001b[0m 2016-11-22\n",
            "---\n",
            "Q Saturday, July 18, 1970      \n",
            "T 1970-07-18\n",
            "\u001b[92m☑\u001b[0m 1970-07-18\n",
            "---\n",
            "Q october 6, 1992              \n",
            "T 1992-10-06\n",
            "\u001b[92m☑\u001b[0m 1992-10-06\n",
            "---\n",
            "Q 8/23/08                      \n",
            "T 2008-08-23\n",
            "\u001b[92m☑\u001b[0m 2008-08-23\n",
            "---\n",
            "Q 8/30/07                      \n",
            "T 2007-08-30\n",
            "\u001b[92m☑\u001b[0m 2007-08-30\n",
            "---\n",
            "Q 10/28/13                     \n",
            "T 2013-10-28\n",
            "\u001b[92m☑\u001b[0m 2013-10-28\n",
            "---\n",
            "Q sunday, november 6, 2016     \n",
            "T 2016-11-06\n",
            "\u001b[92m☑\u001b[0m 2016-11-06\n",
            "---\n",
            "val acc 99.960%\n",
            "| 에폭 10 | 시간 256[s] | 손실 0.00\n",
            "Q 10/15/94                     \n",
            "T 1994-10-15\n",
            "\u001b[92m☑\u001b[0m 1994-10-15\n",
            "---\n",
            "Q thursday, november 13, 2008  \n",
            "T 2008-11-13\n",
            "\u001b[92m☑\u001b[0m 2008-11-13\n",
            "---\n",
            "Q Mar 25, 2003                 \n",
            "T 2003-03-25\n",
            "\u001b[92m☑\u001b[0m 2003-03-25\n",
            "---\n",
            "Q Tuesday, November 22, 2016   \n",
            "T 2016-11-22\n",
            "\u001b[92m☑\u001b[0m 2016-11-22\n",
            "---\n",
            "Q Saturday, July 18, 1970      \n",
            "T 1970-07-18\n",
            "\u001b[92m☑\u001b[0m 1970-07-18\n",
            "---\n",
            "Q october 6, 1992              \n",
            "T 1992-10-06\n",
            "\u001b[92m☑\u001b[0m 1992-10-06\n",
            "---\n",
            "Q 8/23/08                      \n",
            "T 2008-08-23\n",
            "\u001b[92m☑\u001b[0m 2008-08-23\n",
            "---\n",
            "Q 8/30/07                      \n",
            "T 2007-08-30\n",
            "\u001b[92m☑\u001b[0m 2007-08-30\n",
            "---\n",
            "Q 10/28/13                     \n",
            "T 2013-10-28\n",
            "\u001b[92m☑\u001b[0m 2013-10-28\n",
            "---\n",
            "Q sunday, november 6, 2016     \n",
            "T 2016-11-06\n",
            "\u001b[92m☑\u001b[0m 2016-11-06\n",
            "---\n",
            "val acc 99.960%\n"
          ]
        }
      ]
    },
    {
      "cell_type": "markdown",
      "metadata": {
        "id": "NBMn02Cd0loc"
      },
      "source": [
        "이제 정확도를 시각화해보자."
      ]
    },
    {
      "cell_type": "code",
      "metadata": {
        "colab": {
          "base_uri": "https://localhost:8080/",
          "height": 560
        },
        "id": "gjUlVLzE0k0X",
        "outputId": "3d9596ba-bf14-4013-bb3d-472ebda614a0"
      },
      "source": [
        "trainer.plot()\n",
        "\n",
        "print()\n",
        "plt.plot(range(len(acc_list)), acc_list, marker='o')\n",
        "plt.xlabel('epochs')\n",
        "plt.ylabel('accuracy')\n",
        "plt.show()"
      ],
      "execution_count": 26,
      "outputs": [
        {
          "output_type": "display_data",
          "data": {
            "image/png": "[encoded data removed]",
            "text/plain": [
              "<Figure size 432x288 with 1 Axes>"
            ]
          },
          "metadata": {
            "needs_background": "light"
          }
        },
        {
          "output_type": "stream",
          "name": "stdout",
          "text": [
            "\n"
          ]
        },
        {
          "output_type": "display_data",
          "data": {
            "image/png": "[encoded data removed]",
            "text/plain": [
              "<Figure size 432x288 with 1 Axes>"
            ]
          },
          "metadata": {
            "needs_background": "light"
          }
        }
      ]
    },
    {
      "cell_type": "markdown",
      "metadata": {
        "id": "XTXs1NeozWcn"
      },
      "source": [
        "마지막으로 attention 결과를 시각화해보자. 우리 구현에서는 TimeAttention 계층에 있는 인스턴스 변수 attention_weights에 각 시각의 어텐션 가중치가 저장된다. 이것을 사용하면 입력 문장과 출력문장의 단어 대응 관계를 2차원 맵으로 그릴 수 있다. 출력된 그래프를 보면, 각 날짜와 년도가 입력과 출력끼리 잘 대응되는 것을 확인할 수 있다."
      ]
    },
    {
      "cell_type": "code",
      "metadata": {
        "colab": {
          "base_uri": "https://localhost:8080/",
          "height": 1000
        },
        "id": "TvXzNj-NzWI6",
        "outputId": "d218ca9e-0640-4710-a227-d021a4b01624"
      },
      "source": [
        "def visualize(attention_map, row_labels, column_labels):\n",
        "  fig, ax = plt.subplots()\n",
        "  ax.pcolor(attention_map, cmap=plt.cm.Greys_r, vmin=0.0, vmax=1.0)\n",
        "\n",
        "  ax.patch.set_facecolor('black')\n",
        "  ax.set_yticks(np.arange(attention_map.shape[0])+0.5, minor=False)\n",
        "  ax.set_xticks(np.arange(attention_map.shape[1])+0.5, minor=False)\n",
        "  ax.invert_yaxis()\n",
        "  ax.set_xticklabels(row_labels, minor=False)\n",
        "  ax.set_yticklabels(column_labels, minor=False)\n",
        "\n",
        "  plt.show()\n",
        "\n",
        "\n",
        "np.random.seed(1984)\n",
        "for _ in range(5):\n",
        "  idx = [np.random.randint(0, len(x_test))]\n",
        "  x = x_test[idx]\n",
        "  t = t_test[idx]\n",
        "\n",
        "  model.forward(x, t)\n",
        "  d = model.decoder.attention.attention_weights\n",
        "  d = np.array(d)\n",
        "  attention_map = d.reshape(d.shape[0], d.shape[2])\n",
        "\n",
        "  # 출력하기 위해 반전\n",
        "  attention_map = attention_map[:,::-1]\n",
        "  x = x[:,::-1]\n",
        "\n",
        "  row_labels = [id_to_char[i] for i in x[0]]\n",
        "  column_labels = [id_to_char[i] for i in t[0]]\n",
        "  column_labels = column_labels[1:]\n",
        "\n",
        "  visualize(attention_map, row_labels, column_labels)"
      ],
      "execution_count": 18,
      "outputs": [
        {
          "output_type": "display_data",
          "data": {
            "image/png": "[encoded data removed]",
            "text/plain": [
              "<Figure size 432x288 with 1 Axes>"
            ]
          },
          "metadata": {
            "needs_background": "light"
          }
        },
        {
          "output_type": "display_data",
          "data": {
            "image/png": "[encoded data removed]",
            "text/plain": [
              "<Figure size 432x288 with 1 Axes>"
            ]
          },
          "metadata": {
            "needs_background": "light"
          }
        },
        {
          "output_type": "display_data",
          "data": {
            "image/png": "[encoded data removed]",
            "text/plain": [
              "<Figure size 432x288 with 1 Axes>"
            ]
          },
          "metadata": {
            "needs_background": "light"
          }
        },
        {
          "output_type": "display_data",
          "data": {
            "image/png": "[encoded data removed]",
            "text/plain": [
              "<Figure size 432x288 with 1 Axes>"
            ]
          },
          "metadata": {
            "needs_background": "light"
          }
        },
        {
          "output_type": "display_data",
          "data": {
            "image/png": "[encoded data removed]",
            "text/plain": [
              "<Figure size 432x288 with 1 Axes>"
            ]
          },
          "metadata": {
            "needs_background": "light"
          }
        }
      ]
    }
  ]
}