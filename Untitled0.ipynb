{
  "nbformat": 4,
  "nbformat_minor": 0,
  "metadata": {
    "colab": {
      "name": "Untitled0.ipynb",
      "provenance": [],
      "authorship_tag": "ABX9TyNzZnr9QkyPOfJUnqNDRmy2",
      "include_colab_link": true
    },
    "kernelspec": {
      "name": "python3",
      "display_name": "Python 3"
    }
  },
  "cells": [
    {
      "cell_type": "markdown",
      "metadata": {
        "id": "view-in-github",
        "colab_type": "text"
      },
      "source": [
        "<a href=\"https://colab.research.google.com/github/0nandon/Deep_Learning_Practice/blob/main/Untitled0.ipynb\" target=\"_parent\"><img src=\"https://colab.research.google.com/assets/colab-badge.svg\" alt=\"Open In Colab\"/></a>"
      ]
    },
    {
      "cell_type": "markdown",
      "metadata": {
        "id": "Khg5OLq5ico3"
      },
      "source": [
        "## **컨브넷을 사용한 시퀀스 처리**\n",
        "\n",
        "1D 합성곱 층은 시퀀스에 있는 지역 패턴을 인식할 수 있다. 동일한 변환이 시퀀스에 있는 모든 패치에 적용되기 때문에 특정 위치에서 학습한 패턴을 나중에 다른 위치에서 인식할 수 있다. 이는 1D 컨브넷이 이동 불변성(translation invariant)를 제공한다. \n",
        "\n",
        "이 컨브넷은 이 단어가 입력 시퀀스의 어느 문장에 있더라도 인식할 수 있다. 그래서 1D 컨브넷은 단어 형태학(word morphology)에 관해 학습할 수 있다.\n",
        "\n",
        "1D 컨브넷은 특정 시퀀스 처리 문제에서 RNN과 견줄만 하다. 일반적으로 계산비용이 훨씬 싸고, 빠르다."
      ]
    },
    {
      "cell_type": "code",
      "metadata": {
        "colab": {
          "base_uri": "https://localhost:8080/",
          "height": 760
        },
        "id": "kpKXtISNidUo",
        "outputId": "b16b5152-fb5d-404e-e479-c94af65bbbc1"
      },
      "source": [
        "import numpy as np\n",
        "import matplotlib.pyplot as plt\n",
        "\n",
        "from tensorflow.keras.models import Model\n",
        "from tensorflow.keras.layers import Input, Dense, Flatten, Embedding, Conv1D, MaxPooling1D, GlobalMaxPooling1D\n",
        "from tensorflow.keras.preprocessing.text import Tokenizer\n",
        "from tensorflow.keras.preprocessing.sequence import pad_sequences\n",
        "from tensorflow.keras.optimizers import RMSprop\n",
        "from tensorflow.keras.datasets import imdb\n",
        "\n",
        "max_features = 10000\n",
        "max_len = 500\n",
        "\n",
        "(x_train, y_train), (x_test, y_test) = imdb.load_data(num_words = max_features)\n",
        "x_train = pad_sequences(x_train, maxlen = max_len)\n",
        "x_test = pad_sequences(x_test, maxlen = max_len)\n",
        "\n",
        "input = Input(max_len,)\n",
        "R = Embedding(max_features, 128, input_length = max_len)(input)\n",
        "R = Conv1D(32, 7, activation = 'relu')(R)\n",
        "R = MaxPooling1D(5)(R)\n",
        "R = Conv1D(32, 7, activation = 'relu')(R)\n",
        "R = GlobalMaxPooling1D()(R)\n",
        "R = Dense(1)(R)\n",
        "\n",
        "model = Model(inputs = [input], outputs = R)\n",
        "\n",
        "model.compile(optimizer=RMSprop(lr=1e-4),\n",
        "              loss = 'binary_crossentropy',\n",
        "              metrics=['acc'])\n",
        "history = model.fit(\n",
        "    x_train, y_train,\n",
        "    epochs = 10,\n",
        "    batch_size = 128,\n",
        "    validation_split = 0.2\n",
        ")\n",
        "\n",
        "acc = history.history['acc']\n",
        "val_acc = history.history['val_acc']\n",
        "\n",
        "plt.figure()\n",
        "plt.plot(range(10), acc, 'bo', label = 'Training acc')\n",
        "plt.plot(range(10), val_acc, 'b', label = 'Validation acc')\n",
        "plt.legend()\n",
        "\n",
        "plt.show()\n"
      ],
      "execution_count": 11,
      "outputs": [
        {
          "output_type": "stream",
          "text": [
            "<string>:6: VisibleDeprecationWarning: Creating an ndarray from ragged nested sequences (which is a list-or-tuple of lists-or-tuples-or ndarrays with different lengths or shapes) is deprecated. If you meant to do this, you must specify 'dtype=object' when creating the ndarray\n",
            "/usr/local/lib/python3.6/dist-packages/tensorflow/python/keras/datasets/imdb.py:159: VisibleDeprecationWarning: Creating an ndarray from ragged nested sequences (which is a list-or-tuple of lists-or-tuples-or ndarrays with different lengths or shapes) is deprecated. If you meant to do this, you must specify 'dtype=object' when creating the ndarray\n",
            "  x_train, y_train = np.array(xs[:idx]), np.array(labels[:idx])\n",
            "/usr/local/lib/python3.6/dist-packages/tensorflow/python/keras/datasets/imdb.py:160: VisibleDeprecationWarning: Creating an ndarray from ragged nested sequences (which is a list-or-tuple of lists-or-tuples-or ndarrays with different lengths or shapes) is deprecated. If you meant to do this, you must specify 'dtype=object' when creating the ndarray\n",
            "  x_test, y_test = np.array(xs[idx:]), np.array(labels[idx:])\n"
          ],
          "name": "stderr"
        },
        {
          "output_type": "stream",
          "text": [
            "Epoch 1/10\n",
            "157/157 [==============================] - 71s 448ms/step - loss: 6.8088 - acc: 0.4952 - val_loss: 0.7660 - val_acc: 0.5062\n",
            "Epoch 2/10\n",
            "157/157 [==============================] - 67s 426ms/step - loss: 0.7157 - acc: 0.5166 - val_loss: 0.6812 - val_acc: 0.6108\n",
            "Epoch 3/10\n",
            "157/157 [==============================] - 66s 424ms/step - loss: 0.6659 - acc: 0.6727 - val_loss: 0.6510 - val_acc: 0.6954\n",
            "Epoch 4/10\n",
            "157/157 [==============================] - 67s 426ms/step - loss: 0.6168 - acc: 0.7696 - val_loss: 0.5732 - val_acc: 0.7722\n",
            "Epoch 5/10\n",
            "157/157 [==============================] - 68s 434ms/step - loss: 0.5158 - acc: 0.8219 - val_loss: 0.4458 - val_acc: 0.8182\n",
            "Epoch 6/10\n",
            "157/157 [==============================] - 68s 432ms/step - loss: 0.3888 - acc: 0.8606 - val_loss: 0.3988 - val_acc: 0.8410\n",
            "Epoch 7/10\n",
            "157/157 [==============================] - 66s 420ms/step - loss: 0.3322 - acc: 0.8843 - val_loss: 0.3988 - val_acc: 0.8514\n",
            "Epoch 8/10\n",
            "157/157 [==============================] - 66s 417ms/step - loss: 0.2976 - acc: 0.8931 - val_loss: 0.4175 - val_acc: 0.8622\n",
            "Epoch 9/10\n",
            "157/157 [==============================] - 67s 428ms/step - loss: 0.2743 - acc: 0.9091 - val_loss: 0.4405 - val_acc: 0.8644\n",
            "Epoch 10/10\n",
            "157/157 [==============================] - 67s 428ms/step - loss: 0.2430 - acc: 0.9225 - val_loss: 0.4717 - val_acc: 0.8654\n"
          ],
          "name": "stdout"
        },
        {
          "output_type": "display_data",
          "data": {
            "image/png": "[encoded data removed]",
            "text/plain": [
              "<Figure size 432x288 with 1 Axes>"
            ]
          },
          "metadata": {
            "tags": [],
            "needs_background": "light"
          }
        }
      ]
    }
  ]
}