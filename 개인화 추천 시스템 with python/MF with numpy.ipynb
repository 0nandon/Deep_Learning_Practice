{
  "nbformat": 4,
  "nbformat_minor": 0,
  "metadata": {
    "colab": {
      "name": "Untitled0.ipynb",
      "provenance": [],
      "collapsed_sections": [],
      "toc_visible": true
    },
    "kernelspec": {
      "name": "python3",
      "display_name": "Python 3"
    }
  },
  "cells": [
    {
      "cell_type": "markdown",
      "metadata": {
        "id": "Khg5OLq5ico3"
      },
      "source": [
        "## **행렬 요인화 (Matrix Factorization)**\n",
        "* 추천을 위한 다양한 알고리즘을 분류를 해보면 크게 메모리 기반(memory-based)과 모델 기반(model-based)으로 나눌 수 있다. 메모리 기반 알고리즘은 추천을 위한 데이터를 모두 메모리에 가지고 있으면서 추천이 필요할 때마다 이 데이터를 사용해서 계산을 해서 추천하는 방식을 말한다. 대표적으로 CF가 있다.\n",
        "* 여기서 설명하는 MF 알고리즘은 대표적인 모델 기반 알고리즘으로, 원래 데이터는 모델을 만드는데에만 사용하고, 일단 모델이 만들어지면 원래 데이터는 사용하지 않기 때문에 계산이 빠르다.\n",
        "* 일반적으로 메모리 기반 추천은 개별 사용자의 데이터에 집중하는 데 비해, 모델 기반 추천은 전체 사용자의 평가 패턴으로부터 모델을 구성하기 때문에, 데이터가 가지고 있는 약한 신호(weak signal)도 더 잘 잡아내는 경향이 있다.\n",
        "\n",
        "\n",
        "\n",
        "\n",
        "\n",
        "\n",
        "\n",
        "\n",
        "\n"
      ]
    },
    {
      "cell_type": "code",
      "metadata": {
        "colab": {
          "base_uri": "https://localhost:8080/",
          "height": 435
        },
        "id": "kpKXtISNidUo",
        "outputId": "c5828413-ca56-4b61-e85e-706659edc6e1"
      },
      "source": [
        "import pandas as pd\n",
        "import numpy as np\n",
        "import matplotlib.pyplot as plt\n",
        "from sklearn.utils import shuffle\n",
        "\n",
        "r_cols = ['user_id', 'movie_id', 'rating', 'timestamp']\n",
        "ratings = pd.read_csv('/content/u.data', names = r_cols, sep='\\t', encoding = 'latin-1')\n",
        "ratings = ratings[['user_id', 'movie_id', 'rating']].astype(int)\n",
        "\n",
        "# train set과 test set을 나눈다.\n",
        "TRAIN_SIZE = 0.75\n",
        "ratings = shuffle(ratings, random_state = 1)\n",
        "cutoff = int(TRAIN_SIZE * len(ratings))\n",
        "ratings_train = ratings[:cutoff]\n",
        "ratings_test = ratings[cutoff:]\n",
        "\n",
        "class NEW_MF():\n",
        "\n",
        "  # 변수 선언\n",
        "  def __init__(self, ratings, K, alpha, beta, iterations, verbose = True):\n",
        "    self.R = np.array(ratings)\n",
        "    self.num_users, self.num_items = self.R.shape\n",
        "    self.k = K # 요소 수\n",
        "    self.alpha = alpha # 학습률\n",
        "    self.beta = beta # 규제 정도\n",
        "    self.iterations = iterations # 반복수\n",
        "    self.verbose = verbose\n",
        "\n",
        "    # item id와 user id를 순서대로 인덱싱한다.\n",
        "    self.R = np.array(ratings)\n",
        "    item_id_index = []\n",
        "    index_item_id = []\n",
        "    for i, one_id in enumerate(ratings):\n",
        "      item_id_index.append([one_id, i])\n",
        "      index_item_id.append([i,one_id])\n",
        "    self.item_id_index = dict(item_id_index)\n",
        "    self.index_item_id = dict(index_item_id)\n",
        "    user_id_index = []\n",
        "    index_user_id = []\n",
        "    for i, one_id in enumerate(ratings):\n",
        "      user_id_index.append([one_id, i])\n",
        "      index_user_id.append([i, one_id])\n",
        "    self.user_id_index = dict(user_id_index)\n",
        "    self.index_user_id = dict(index_user_id)\n",
        "\n",
        "  # test set을 코드에 맞게 형태를 바꾼다.\n",
        "  def set_test(self, ratings_test):\n",
        "    test_set = []\n",
        "    for i in range(len(ratings_test)):\n",
        "      x = self.user_id_index[ratings_test.iloc[i, 0]]\n",
        "      y = self.item_id_index[ratings_test.iloc[i, 1]]\n",
        "      z = ratings_test.iloc[i, 2]\n",
        "\n",
        "      test_set.append([x, y, z])\n",
        "      self.R[x, y] = 0\n",
        "    self.test_set = test_set\n",
        "    return test_set\n",
        "\n",
        "  # Test RMSE 계산\n",
        "  def test_rmse(self):\n",
        "    error = 0\n",
        "    for one_set in self.test_set:\n",
        "      predicted = self.get_one_prediction(one_set[0], one_set[1])\n",
        "      error += pow(one_set[2] - predicted, 2)\n",
        "    return np.sqrt(error / len(test_set))\n",
        "\n",
        "  # RMSE 계산\n",
        "  def rmse(self):\n",
        "    xs, ys = self.R.nonzero()\n",
        "    self.predictions = []\n",
        "    self.errors = []\n",
        "    for x, y in zip(xs, ys):\n",
        "      prediction = self.get_one_prediction(x, y)\n",
        "      self.errors.append(self.R[x, y] - prediction)\n",
        "    self.predictions = np.array(self.predictions)\n",
        "    self.errors = np.array(self.errors)\n",
        "    return np.sqrt(np.mean(self.errors ** 2))\n",
        "\n",
        "  def test(self):\n",
        "    self.P = np.random.normal(scale=1./self.k, size = (self.num_users, self.k))\n",
        "    self.Q = np.random.normal(scale = 1./self.k, size=(self.num_items, self.k))\n",
        "    self.b_u = np.zeros(self.num_users)\n",
        "    self.b_d = np.zeros(self.num_items)\n",
        "    self.b = np.mean(self.R[self.R.nonzero()])\n",
        "\n",
        "    rows, columns = self.R.nonzero()\n",
        "    self.samples = [(i, j, self.R[i, j]) for i, j in zip(rows, columns)]\n",
        "    training_process = []\n",
        "    \n",
        "    for i in range(self.iterations):\n",
        "      np.random.shuffle(self.samples)\n",
        "      self.sgd()\n",
        "      rmse1 = self.rmse()\n",
        "      rmse2 = self.test_rmse()\n",
        "      training_process.append((i+1, rmse1, rmse2))\n",
        "      if self.verbose:\n",
        "        if (i+1) % 10 == 0:\n",
        "          print(\"Iteration: %d ; Train RMSE = %.4f ; Test RMSE = %.4f\" % (i+1, rmse1, rmse2))\n",
        "    return training_process\n",
        "\n",
        "  # 경사하강법 수행\n",
        "  def sgd(self):\n",
        "    for i, j, r in self.samples:\n",
        "      prediction = self.get_one_prediction(i, j)\n",
        "      e = (r-prediction)\n",
        "\n",
        "      self.b_u[i] += self.alpha * (e - self.beta * self.b_u[i])\n",
        "      self.b_d[j] += self.alpha * (e - self.beta * self.b_d[j])\n",
        "\n",
        "      self.P[i, :] += self.alpha * (e * self.Q[j, :] - self.beta * self.P[i, :])\n",
        "      self.Q[j, :] += self.alpha * (e * self.P[i, :] - self.beta * self.Q[j, :])\n",
        "\n",
        "  def get_one_prediction(self, user_id, item_id):\n",
        "    return np.dot(self.P[user_id, :], self.Q[item_id,:]) + self.b_u[user_id] + self.b_d[item_id] + self.b\n",
        "  \n",
        "  def full_prediction(self):\n",
        "    return self.b + self.b_u[:, np.newaxis] + self.b_d[np.newaxis, :] + np.dot(self.P, self.Q.T)\n",
        "\n",
        "R_temp = ratings.pivot(index='user_id', columns='movie_id', values='rating').fillna(0)\n",
        "mf = NEW_MF(R_temp, K=30, alpha=0.001, beta=0.02, iterations=100, verbose=True)\n",
        "test_set = mf.set_test(ratings_test)\n",
        "results = mf.test()\n",
        "\n",
        "# 결과값 그리기\n",
        "results = np.array(results)\n",
        "plt.plot(results[:, 0], results[:, 1], label = 'RMSE')\n",
        "plt.plot(results[:, 0], results[:, 2], label = 'Test RMSE')\n",
        "plt.legend()\n",
        "plt.show()\n"
      ],
      "execution_count": 33,
      "outputs": [
        {
          "output_type": "stream",
          "text": [
            "Iteration: 10 ; Train RMSE = 0.9659 ; Test RMSE = 0.9834\n",
            "Iteration: 20 ; Train RMSE = 0.9409 ; Test RMSE = 0.9645\n",
            "Iteration: 30 ; Train RMSE = 0.9297 ; Test RMSE = 0.9566\n",
            "Iteration: 40 ; Train RMSE = 0.9230 ; Test RMSE = 0.9524\n",
            "Iteration: 50 ; Train RMSE = 0.9182 ; Test RMSE = 0.9497\n",
            "Iteration: 60 ; Train RMSE = 0.9143 ; Test RMSE = 0.9478\n",
            "Iteration: 70 ; Train RMSE = 0.9106 ; Test RMSE = 0.9464\n",
            "Iteration: 80 ; Train RMSE = 0.9065 ; Test RMSE = 0.9452\n",
            "Iteration: 90 ; Train RMSE = 0.9015 ; Test RMSE = 0.9438\n",
            "Iteration: 100 ; Train RMSE = 0.8950 ; Test RMSE = 0.9421\n"
          ],
          "name": "stdout"
        },
        {
          "output_type": "display_data",
          "data": {
            "image/png": "[encoded data removed]",
            "text/plain": [
              "<Figure size 432x288 with 1 Axes>"
            ]
          },
          "metadata": {
            "tags": [],
            "needs_background": "light"
          }
        }
      ]
    },
    {
      "cell_type": "markdown",
      "metadata": {
        "id": "LJASwXoxgvdO"
      },
      "source": [
        "## **MF의 최적 파라미터 찾기**\n",
        "* MF 알고리즘에서는 iterations(반복 횟수), K(잠재 요인 수), alpha(학습률), beta(규제화 정도) 같은 수 많은 하이퍼 파라이터들이 사용되며, 이러한 하이퍼 파라이터들을 최적화 하기 위해 모델을 튜닝해야 한다.\n",
        "* K같은 경우, 모델의 가중치 개수를 결정하는 요인인데, 이 K가 많을 수록 예측 정확도는 높아질 것이다. 그러나, 너무 많아지면 overfitting이 일어날 수 있으므로 적절한 값을 찾을 필요가 있다."
      ]
    },
    {
      "cell_type": "code",
      "metadata": {
        "colab": {
          "base_uri": "https://localhost:8080/"
        },
        "id": "0J48ApxThkvA",
        "outputId": "4552873f-0f48-4dcc-8da1-775c20d05897"
      },
      "source": [
        "# 최적의 K를 찾기위해 50~ 260까지 10씩 증가시키며 SGD를 실행한다.\n",
        "results = []\n",
        "index = []\n",
        "for K in range(50, 260, 10):\n",
        "  print('k =', K)\n",
        "  R_temp = ratings.pivot(index='user_id', columns='movie_id', values='rating').fillna(0)\n",
        "  mf = NEW_MF(R_temp, K=K, alpha=0.001, beta=0.02, iterations=300, verbose=True)\n",
        "  test_set = mf.set_test()\n",
        "  result = mf.test()\n",
        "  index.append(K)\n",
        "  results.append(result)\n",
        "\n",
        "# 각 K값마다 최소의 RMSE를 반환하는 iterations과, 최소의 RMSE 값을 저장한다.\n",
        "summary = []\n",
        "for i in range(len(results)):\n",
        "  RMSE = []\n",
        "  for result in results[i]:\n",
        "    RMSE.append(result[2]))\n",
        "  min = np.min(RMSE)\n",
        "  j = RMSE.index(min)\n",
        "  summary.append([index[i], j+1, RMSE[j]])\n",
        "\n",
        "plt.plot(index, [x[2] for x in summary])\n",
        "plt.ylim(0.89, 0.94)\n",
        "plt.xlabel('k')\n",
        "plt.ylabel('RMSE')\n",
        "plt.show()"
      ],
      "execution_count": null,
      "outputs": [
        {
          "output_type": "execute_result",
          "data": {
            "text/plain": [
              "1.007633929920189"
            ]
          },
          "metadata": {
            "tags": []
          },
          "execution_count": 19
        }
      ]
    }
  ]
}