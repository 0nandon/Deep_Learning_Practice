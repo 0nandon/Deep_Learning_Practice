{
  "nbformat": 4,
  "nbformat_minor": 0,
  "metadata": {
    "colab": {
      "name": "Untitled3.ipynb",
      "provenance": [],
      "collapsed_sections": []
    },
    "kernelspec": {
      "display_name": "Python 3",
      "name": "python3"
    },
    "language_info": {
      "name": "python"
    }
  },
  "cells": [
    {
      "cell_type": "markdown",
      "metadata": {
        "id": "yWW2cygXueLR"
      },
      "source": [
        "### Step 42. 선형 회귀\n",
        "\n",
        "머신러닝은 '데이터'를 사용하여 문제를 해결한다. 이번 단계에서는 머신러닝의 가장 기본적인 문제인 '선형 회귀(linear regression)'를 Dezero를 활용하여 해결해 볼 것이다."
      ]
    },
    {
      "cell_type": "code",
      "metadata": {
        "colab": {
          "base_uri": "https://localhost:8080/",
          "height": 265
        },
        "id": "Kl89kF_ZvZmi",
        "outputId": "52b4ed8b-4c2c-48df-d356-4a7ece76d30c"
      },
      "source": [
        "import numpy as np\n",
        "import matplotlib.pyplot as plt\n",
        "\n",
        "np.random.seed(0)\n",
        "x = np.random.randn(100, 1)\n",
        "y = 5 + 2 * x + np.random.randn(100, 1)\n",
        "\n",
        "plt.scatter(x, y)\n",
        "plt.show()"
      ],
      "execution_count": null,
      "outputs": [
        {
          "output_type": "display_data",
          "data": {
            "image/png": "[encoded data removed]",
            "text/plain": [
              "<Figure size 432x288 with 1 Axes>"
            ]
          },
          "metadata": {
            "needs_background": "light"
          }
        }
      ]
    },
    {
      "cell_type": "code",
      "metadata": {
        "id": "qjmNMNInzArm"
      },
      "source": [
        "import dezero.functions as F\n",
        "from dezero import *\n",
        "\n",
        "np.random.seed(0)\n",
        "x = np.random.randn(100, 1)\n",
        "y = 5 + 2 * x + np.random.randn(100, 1)\n",
        "\n",
        "W = Variable(np.zeros((1, 1)))\n",
        "b = Variable(np.zeros(1))\n",
        "\n",
        "x, y = Variable(x), Variable(y)\n",
        "\n",
        "def predict(x):\n",
        "  y = F.matmul(x, W) + b\n",
        "  return y"
      ],
      "execution_count": null,
      "outputs": []
    },
    {
      "cell_type": "markdown",
      "metadata": {
        "id": "S05vALcd4MgC"
      },
      "source": [
        "선형회귀에서는 손실함수로 보통 MSE(meaned squared error)를 자주 사용하므로, Dezero로 MSE를 구현해준다."
      ]
    },
    {
      "cell_type": "code",
      "metadata": {
        "colab": {
          "base_uri": "https://localhost:8080/"
        },
        "id": "WMavUREe3guX",
        "outputId": "8adce2e5-72a9-461f-d5fe-0eb73fb5b9c5"
      },
      "source": [
        "# MSE\n",
        "def mean_squared_error(x0, x1):\n",
        "  diff = x0 - x1\n",
        "  return F.sum(diff ** 2) / len(diff)\n",
        "\n",
        "y_p = predict(x)\n",
        "loss = mean_squared_error(y, y_p)\n",
        "loss.backward()\n",
        "\n",
        "print(W.grad)"
      ],
      "execution_count": null,
      "outputs": [
        {
          "output_type": "stream",
          "name": "stdout",
          "text": [
            "variable([[-4.91853214]])\n"
          ]
        }
      ]
    },
    {
      "cell_type": "markdown",
      "metadata": {
        "id": "zd5Erni2t6K7"
      },
      "source": [
        "다음은 위 코드를 약간 변형시켜, 경사하강법으로 선형회귀를 구현해보겠다."
      ]
    },
    {
      "cell_type": "code",
      "metadata": {
        "colab": {
          "base_uri": "https://localhost:8080/"
        },
        "id": "ux6R8Tyq6ZjD",
        "outputId": "cda829bc-31bf-4009-d82f-ec9217cb28e6"
      },
      "source": [
        "lr = 0.1\n",
        "iters = 100\n",
        "\n",
        "for i in range(iters):\n",
        "  y_pred = predict(x)\n",
        "  loss = mean_squared_error(y, y_pred)\n",
        "\n",
        "  W.cleargrad()\n",
        "  b.cleargrad()\n",
        "  loss.backward()\n",
        "\n",
        "  # 매개변수 갱신\n",
        "  W.data -= lr * W.grad.data\n",
        "  b.data -= lr * b.grad.data\n",
        "  print(W, b, loss)"
      ],
      "execution_count": null,
      "outputs": [
        {
          "output_type": "stream",
          "name": "stdout",
          "text": [
            "variable([[0.49185321]]) variable([1.0403258]) variable(32.65684143290435)\n",
            "variable([[0.87098307]]) variable([1.86670309]) variable(20.8049653938767)\n",
            "variable([[1.16293087]]) variable([2.52326992]) variable(13.405480828635747)\n",
            "variable([[1.38750254]]) variable([3.04503122]) variable(8.783241422956205)\n",
            "variable([[1.56004728]]) variable([3.45975402]) variable(5.894230127462607)\n",
            "variable([[1.69245272]]) variable([3.78946835]) variable(4.087467116592623)\n",
            "variable([[1.79391933]]) variable([4.05165603]) variable(2.9568445746276204)\n",
            "variable([[1.87156267]]) variable([4.26019247]) variable(2.248885834520452)\n",
            "variable([[1.9308816]]) variable([4.42609289]) variable(1.8052961399692495)\n",
            "variable([[1.97612211]]) variable([4.55810367]) variable(1.5271664114616335)\n",
            "variable([[2.01055989]]) variable([4.66317115]) variable(1.352658545853154)\n",
            "variable([[2.0367197]]) variable([4.7468132]) variable(1.2430881436096468)\n",
            "variable([[2.05654553]]) variable([4.81341393]) variable(1.1742401964288234)\n",
            "variable([[2.07153261]]) variable([4.86645736]) variable(1.130947281335902)\n",
            "variable([[2.08282962]]) variable([4.90871284]) variable(1.1037027660492316)\n",
            "variable([[2.09131795]]) variable([4.94238209]) variable(1.086544011239224)\n",
            "variable([[2.09767293]]) variable([4.96921596]) variable(1.0757285632165476)\n",
            "variable([[2.10241128]]) variable([4.99060704]) variable(1.0689057646903457)\n",
            "variable([[2.1059277]]) variable([5.00766322]) variable(1.064598052977042)\n",
            "variable([[2.10852317]]) variable([5.0212661]) variable(1.0618759595194345)\n",
            "variable([[2.11042676]]) variable([5.03211737]) variable(1.0601543388332906)\n",
            "variable([[2.11181245]]) variable([5.04077561]) variable(1.059064518022486)\n",
            "variable([[2.11281206]]) variable([5.04768562]) variable(1.058374023186869)\n",
            "variable([[2.11352521]]) variable([5.05320168]) variable(1.0579361409079033)\n",
            "variable([[2.11402698]]) variable([5.05760599]) variable(1.0576582021503207)\n",
            "variable([[2.11437377]]) variable([5.06112344]) variable(1.0574816235073754)\n",
            "variable([[2.11460778]]) variable([5.06393326]) variable(1.0573693373143267)\n",
            "variable([[2.11476047]]) variable([5.06617831]) variable(1.0572978688036483)\n",
            "variable([[2.11485517]]) variable([5.06797252]) variable(1.0572523381764114)\n",
            "variable([[2.11490911]]) variable([5.06940676]) variable(1.057223305126602)\n",
            "variable([[2.11493489]]) variable([5.0705535]) variable(1.0572047749024729)\n",
            "variable([[2.1149417]]) variable([5.07147059]) variable(1.057192937243938)\n",
            "variable([[2.11493615]]) variable([5.07220418]) variable(1.0571853681222083)\n",
            "variable([[2.11492296]]) variable([5.07279112]) variable(1.0571805239849006)\n",
            "variable([[2.11490544]]) variable([5.07326083]) variable(1.057177421035239)\n",
            "variable([[2.11488587]]) variable([5.0736368]) variable(1.0571754316643447)\n",
            "variable([[2.11486579]]) variable([5.07393782]) variable(1.0571741551246168)\n",
            "variable([[2.11484621]]) variable([5.07417887]) variable(1.0571733352929618)\n",
            "variable([[2.11482773]]) variable([5.07437194]) variable(1.0571728083295147)\n",
            "variable([[2.11481071]]) variable([5.07452663]) variable(1.0571724693332196)\n",
            "variable([[2.11479532]]) variable([5.07465057]) variable(1.0571722510799284)\n",
            "variable([[2.11478157]]) variable([5.07474992]) variable(1.0571721104523915)\n",
            "variable([[2.11476945]]) variable([5.07482956]) variable(1.0571720197715333)\n",
            "variable([[2.11475884]]) variable([5.07489341]) variable(1.0571719612537047)\n",
            "variable([[2.11474963]]) variable([5.07494462]) variable(1.0571719234634798)\n",
            "variable([[2.11474168]]) variable([5.0749857]) variable(1.0571718990415147)\n",
            "variable([[2.11473487]]) variable([5.07501866]) variable(1.0571718832478638)\n",
            "variable([[2.11472905]]) variable([5.07504511]) variable(1.0571718730272708)\n",
            "variable([[2.1147241]]) variable([5.07506634]) variable(1.0571718664088856)\n",
            "variable([[2.1147199]]) variable([5.07508338]) variable(1.0571718621204296)\n",
            "variable([[2.11471636]]) variable([5.07509707]) variable(1.0571718593399897)\n",
            "variable([[2.11471337]]) variable([5.07510806]) variable(1.0571718575362226)\n",
            "variable([[2.11471087]]) variable([5.07511688]) variable(1.0571718563653971)\n",
            "variable([[2.11470877]]) variable([5.07512397]) variable(1.057171855605001)\n",
            "variable([[2.11470701]]) variable([5.07512967]) variable(1.0571718551109015)\n",
            "variable([[2.11470554]]) variable([5.07513425]) variable(1.0571718547896791)\n",
            "variable([[2.11470432]]) variable([5.07513793]) variable(1.0571718545807458)\n",
            "variable([[2.1147033]]) variable([5.07514089]) variable(1.057171854444787)\n",
            "variable([[2.11470245]]) variable([5.07514327]) variable(1.0571718543562754)\n",
            "variable([[2.11470175]]) variable([5.07514519]) variable(1.0571718542986286)\n",
            "variable([[2.11470117]]) variable([5.07514673]) variable(1.0571718542610684)\n",
            "variable([[2.11470069]]) variable([5.07514797]) variable(1.0571718542365864)\n",
            "variable([[2.11470029]]) variable([5.07514896]) variable(1.0571718542206234)\n",
            "variable([[2.11469996]]) variable([5.07514977]) variable(1.057171854210211)\n",
            "variable([[2.11469969]]) variable([5.07515041]) variable(1.0571718542034167)\n",
            "variable([[2.11469946]]) variable([5.07515093]) variable(1.0571718541989825)\n",
            "variable([[2.11469928]]) variable([5.07515135]) variable(1.057171854196087)\n",
            "variable([[2.11469913]]) variable([5.07515169]) variable(1.0571718541941961)\n",
            "variable([[2.114699]]) variable([5.07515196]) variable(1.0571718541929611)\n",
            "variable([[2.1146989]]) variable([5.07515218]) variable(1.0571718541921542)\n",
            "variable([[2.11469882]]) variable([5.07515235]) variable(1.0571718541916264)\n",
            "variable([[2.11469875]]) variable([5.07515249]) variable(1.0571718541912813)\n",
            "variable([[2.11469869]]) variable([5.07515261]) variable(1.057171854191056)\n",
            "variable([[2.11469864]]) variable([5.0751527]) variable(1.0571718541909083)\n",
            "variable([[2.11469861]]) variable([5.07515278]) variable(1.057171854190812)\n",
            "variable([[2.11469857]]) variable([5.07515284]) variable(1.0571718541907489)\n",
            "variable([[2.11469855]]) variable([5.07515288]) variable(1.0571718541907074)\n",
            "variable([[2.11469853]]) variable([5.07515292]) variable(1.0571718541906805)\n",
            "variable([[2.11469851]]) variable([5.07515295]) variable(1.057171854190663)\n",
            "variable([[2.1146985]]) variable([5.07515298]) variable(1.0571718541906512)\n",
            "variable([[2.11469848]]) variable([5.075153]) variable(1.0571718541906439)\n",
            "variable([[2.11469848]]) variable([5.07515302]) variable(1.0571718541906387)\n",
            "variable([[2.11469847]]) variable([5.07515303]) variable(1.0571718541906354)\n",
            "variable([[2.11469846]]) variable([5.07515304]) variable(1.0571718541906332)\n",
            "variable([[2.11469846]]) variable([5.07515305]) variable(1.0571718541906319)\n",
            "variable([[2.11469845]]) variable([5.07515306]) variable(1.0571718541906308)\n",
            "variable([[2.11469845]]) variable([5.07515306]) variable(1.05717185419063)\n",
            "variable([[2.11469845]]) variable([5.07515307]) variable(1.0571718541906299)\n",
            "variable([[2.11469844]]) variable([5.07515307]) variable(1.0571718541906296)\n",
            "variable([[2.11469844]]) variable([5.07515307]) variable(1.0571718541906296)\n",
            "variable([[2.11469844]]) variable([5.07515307]) variable(1.0571718541906292)\n",
            "variable([[2.11469844]]) variable([5.07515308]) variable(1.0571718541906292)\n",
            "variable([[2.11469844]]) variable([5.07515308]) variable(1.0571718541906292)\n",
            "variable([[2.11469844]]) variable([5.07515308]) variable(1.0571718541906292)\n",
            "variable([[2.11469844]]) variable([5.07515308]) variable(1.0571718541906292)\n",
            "variable([[2.11469844]]) variable([5.07515308]) variable(1.0571718541906292)\n",
            "variable([[2.11469844]]) variable([5.07515308]) variable(1.057171854190629)\n",
            "variable([[2.11469844]]) variable([5.07515308]) variable(1.0571718541906288)\n",
            "variable([[2.11469843]]) variable([5.07515308]) variable(1.0571718541906292)\n",
            "variable([[2.11469843]]) variable([5.07515308]) variable(1.0571718541906292)\n"
          ]
        }
      ]
    },
    {
      "cell_type": "markdown",
      "metadata": {
        "id": "W1RA5byMwMs_"
      },
      "source": [
        "결과값을 그려보자."
      ]
    },
    {
      "cell_type": "code",
      "metadata": {
        "colab": {
          "base_uri": "https://localhost:8080/",
          "height": 265
        },
        "id": "N-sPnD3NvOSc",
        "outputId": "105eab6e-6b48-4570-d9f8-305a16269d48"
      },
      "source": [
        "t = x * W + b\n",
        "\n",
        "plt.scatter(x.data, y.data, label='data')\n",
        "plt.plot(x.data, t.data, label='predict', color='r')\n",
        "plt.legend()\n",
        "plt.show()"
      ],
      "execution_count": null,
      "outputs": [
        {
          "output_type": "display_data",
          "data": {
            "image/png": "[encoded data removed]",
            "text/plain": [
              "<Figure size 432x288 with 1 Axes>"
            ]
          },
          "metadata": {
            "needs_background": "light"
          }
        }
      ]
    },
    {
      "cell_type": "markdown",
      "metadata": {
        "id": "gQ7PUU8Oz_mc"
      },
      "source": [
        "앞에서 구현한 `mean_squared_error` 함수를 살펴보자.\n",
        "\n",
        "```python\n",
        "import dezero.functions as F\n",
        "\n",
        "def mean_square_error(x0, x1):\n",
        "  diff = (x0 - x1)\n",
        "  return F.sum(diff**2) / len(diff)\n",
        "```\n",
        "\n",
        "위의 함수는 정삭적으로 잘 작동하지만, 계산을 할 때 사용되는 모든 변수들이 계산 그래프에 기록되어 메모리 사용량이 많아진다. (Variable 객체를 사용하는 계산은 모두 객체들이 계산 그래프에 기록된다.)\n",
        "\n",
        "따라서, 우리는 이 MSE 연산을 클래스로 구현하여, forward() 함수 내부에서 ndarray 타입의 배열들로 계산이 이루어지도록 하여 메모리 사용량을 줄일 것이다."
      ]
    },
    {
      "cell_type": "code",
      "metadata": {
        "id": "N8Px6Y0ey094"
      },
      "source": [
        "class MeanedSquaredError(Function):\n",
        "  def forward(self, x0, x1):\n",
        "    diff = x0 - x1\n",
        "    y = (diff ** 2).sum() / len(diff)\n",
        "    return y\n",
        "\n",
        "  def backward(self, gy):\n",
        "    x0, x1 = self.inputs\n",
        "    diff = x0 - x1\n",
        "    gx0 = gy * diff * (2. / len(diff))\n",
        "    gx1 = -gx0\n",
        "    return gx0, gx1\n",
        "\n",
        "def mean_squared_error(x0, x1):\n",
        "  return MeanedSquaredError()(x0, x1)"
      ],
      "execution_count": null,
      "outputs": []
    },
    {
      "cell_type": "markdown",
      "metadata": {
        "id": "z75lNjKWv8at"
      },
      "source": [
        "### Step 43. 신경망\n",
        "\n",
        "앞절에서 우리가 수행한 계산은 다음과 같다.\n",
        "\n",
        "```python\n",
        "y = F.matmul(x, W) + b\n",
        "```\n",
        "\n",
        "이와 같이 입력 x와 매개변수 W 사이에서 행렬 곱을 구하고, 거기에 b를 더한 연산을 선형 변환(linear transformation) 혹은 아핀 변환(affine transformation)이라고 한다. 이 선형변환을 구현하는 방법은 2가지가 있는데, 다음과 같다.\n",
        "\n",
        "* Function 클래스를 상속하여 새롭게 Linear라는 함수 클래스를 구현하는 방식\n",
        "* 클래스가 아닌, 함수로 구현하는 방식\n",
        "\n",
        "전자가 메모리를 더 효율적으로 쓰기는 하지만, 후자를 사용하면서 메모리를 절약하는 방법 또한 있다.\n",
        "\n",
        "먼저, 선형 변환을 `linear_simple`이란 함수로 구현을 하면 다음과 같다.\n",
        "\n",
        "```python\n",
        "def linear_simple(x, W, b=None):\n",
        "  t = matmul(x, W)\n",
        "  if b is None:\n",
        "    return t\n",
        "  \n",
        "  y = t + b\n",
        "  t.data = None # t의 데이터 삭제\n",
        "  return y\n",
        "```\n",
        "이 방식에서는 중간 결과가 Variable 인스턴스로 보존되기 때문에, 메모리 사용량이 전자 보다 많다. 그러나, 위 `linear_simple` 함수의 역전파 방식을 생각해보면 몇가지 개선점이 있다. 먼저 '+' 연산 같은 경우 출력쪽의 기울기를 단순히 흘려보내기만 할 뿐, 역전파를 계산함에 있어 그다지 필요하지 않다. 따라서 `t.data = None`으로 필요없는 메모리를 수동으로 지워주는 것이다.\n",
        "\n",
        "그러나, 클래스로 구현하는 것이 일관성이 있으므로, `Linear`클래스를 따로 구현하여 사용하겠다.\n"
      ]
    },
    {
      "cell_type": "code",
      "metadata": {
        "id": "EBhOI1RezEbY"
      },
      "source": [
        "class Linear(Function):\n",
        "  def forward(self, x, W, b):\n",
        "    y = x.dot(W)\n",
        "    if b is not None:\n",
        "      y += b\n",
        "    return y\n",
        "\n",
        "  def backward(self, gy):\n",
        "    x, W, b = self.inputs\n",
        "    gb = None if b.data is None else sum_to(gy, b.shape)\n",
        "    gx = matmul(gy, W.T)\n",
        "    gW = matmul(x.T, gy)\n",
        "    return gx, gW, gb\n",
        "\n",
        "\n",
        "def linear(x, W, b=None):\n",
        "    return Linear()(x, W, b)"
      ],
      "execution_count": null,
      "outputs": []
    },
    {
      "cell_type": "markdown",
      "metadata": {
        "id": "p4x-h__kBmlj"
      },
      "source": [
        "이번에는 위 코드로 임의의 데이터셋을 통해 테스트해보겠다."
      ]
    },
    {
      "cell_type": "code",
      "metadata": {
        "colab": {
          "base_uri": "https://localhost:8080/",
          "height": 265
        },
        "id": "XssYf7OaB_Of",
        "outputId": "6be51285-ca4c-4841-df1e-7534f9c93190"
      },
      "source": [
        "import numpy as np\n",
        "import matplotlib.pyplot as plt\n",
        "\n",
        "np.random.seed(0)\n",
        "x = np.random.rand(100, 1)\n",
        "y = np.sin(2 * np.pi * x) + np.random.randn(100, 1)\n",
        "\n",
        "plt.scatter(x, y)\n",
        "plt.show()"
      ],
      "execution_count": null,
      "outputs": [
        {
          "output_type": "display_data",
          "data": {
            "image/png": "[encoded data removed]",
            "text/plain": [
              "<Figure size 432x288 with 1 Axes>"
            ]
          },
          "metadata": {
            "needs_background": "light"
          }
        }
      ]
    },
    {
      "cell_type": "markdown",
      "metadata": {
        "id": "vU3Y0x5lCmxf"
      },
      "source": [
        "이번에는 활성화함수로 시그모이드를 사용하여 예측을 해볼것이다."
      ]
    },
    {
      "cell_type": "code",
      "metadata": {
        "id": "E7SEnxIWCqKK"
      },
      "source": [
        "from dezero import cuda\n",
        "\n",
        "class sigmoid(Function):\n",
        "  def forward(self, x):\n",
        "    xp = cuda.get_array_module(x)\n",
        "    y = xp.tanh(x * 0.5) * 0.5 + 0.5\n",
        "    return y\n",
        "\n",
        "  def backward(self, gy):\n",
        "    y = self.outputs[0]()\n",
        "    gx = gy * y * (1 - y)\n",
        "    return gx\n",
        "\n",
        "def sigmoid(x):\n",
        "  return Sigmoid()(x)"
      ],
      "execution_count": null,
      "outputs": []
    },
    {
      "cell_type": "markdown",
      "metadata": {
        "id": "P_6ICWj-LUgD"
      },
      "source": [
        "다음은 이를 통해 간단히 신경망을 구성해보겠다."
      ]
    },
    {
      "cell_type": "code",
      "metadata": {
        "colab": {
          "base_uri": "https://localhost:8080/"
        },
        "id": "D3pKuW4pLbv-",
        "outputId": "3f904b2d-1c9d-439f-f0d7-45a2b86f54f2"
      },
      "source": [
        "import dezero.functions as F\n",
        "from dezero import Variable\n",
        "import numpy as np\n",
        "\n",
        "np.random.seed(0)\n",
        "x = np.random.rand(100, 1)\n",
        "y = np.sin(2 * np.pi * x) + np.random.randn(100, 1)\n",
        "\n",
        "# 가중치 초기화\n",
        "I, H, O = 1, 10, 1\n",
        "W1 = Variable(0.01 * np.random.randn(I, H))\n",
        "b1 = Variable(np.zeros(H))\n",
        "W2 = Variable(0.01 * np.random.randn(H, O))\n",
        "b2 = Variable(np.zeros(O))\n",
        "\n",
        "# 추론\n",
        "def predict(x):\n",
        "  y = F.linear(x, W1, b1)\n",
        "  y = F.sigmoid(y)\n",
        "  y = F.linear(y, W2, b2)\n",
        "  return y\n",
        "\n",
        "lr = 0.2\n",
        "iters = 10000\n",
        "\n",
        "for i in range(iters):\n",
        "  y_pred = predict(x)\n",
        "  loss = F.mean_squared_error(y_pred, y)\n",
        "\n",
        "  W1.cleargrad()\n",
        "  b1.cleargrad()\n",
        "  W2.cleargrad()\n",
        "  b2.cleargrad()\n",
        "  loss.backward()\n",
        "\n",
        "  W1.data -= lr * W1.grad.data\n",
        "  b1.data -= lr * b1.grad.data\n",
        "  W2.data -= lr * W2.grad.data\n",
        "  b2.data -= lr * b2.grad.data\n",
        "  if i % 1000 == 0:\n",
        "    print(loss)"
      ],
      "execution_count": null,
      "outputs": [
        {
          "output_type": "stream",
          "name": "stdout",
          "text": [
            "variable(1.561203444074998)\n",
            "variable(1.2215365347357967)\n",
            "variable(1.2049206264286754)\n",
            "variable(1.16000021564832)\n",
            "variable(1.0512625008594494)\n",
            "variable(0.9753021219785029)\n",
            "variable(0.9724238403041572)\n",
            "variable(0.9723031972784436)\n",
            "variable(0.9722195738900116)\n",
            "variable(0.9721412239619128)\n"
          ]
        }
      ]
    },
    {
      "cell_type": "markdown",
      "metadata": {
        "id": "MtJFwhTzPwtt"
      },
      "source": [
        "결과물을 그려보자."
      ]
    },
    {
      "cell_type": "code",
      "metadata": {
        "colab": {
          "base_uri": "https://localhost:8080/",
          "height": 265
        },
        "id": "IFaaxfpZPwTn",
        "outputId": "d5c8a0cb-62f7-44c3-df0a-ed126c90ce29"
      },
      "source": [
        "t = predict(x)\n",
        "t = t.data\n",
        "\n",
        "x_t = x.copy()\n",
        "\n",
        "x_t = x_t.reshape(-1)\n",
        "index = x_t.argsort()\n",
        "\n",
        "x_t = x_t[index]\n",
        "t = t[index]\n",
        "\n",
        "plt.plot(x_t, t, label='predict', color='red')\n",
        "plt.scatter(x, y, label='data')\n",
        "plt.legend()\n",
        "plt.show()"
      ],
      "execution_count": null,
      "outputs": [
        {
          "output_type": "display_data",
          "data": {
            "image/png": "[encoded data removed]",
            "text/plain": [
              "<Figure size 432x288 with 1 Axes>"
            ]
          },
          "metadata": {
            "needs_background": "light"
          }
        }
      ]
    },
    {
      "cell_type": "markdown",
      "metadata": {
        "id": "DoNPV61-aY4W"
      },
      "source": [
        "### class 44. 매개변수를 모아두는 계층\n",
        "\n",
        "먼저, 매개변수를 담는 클래스 `Parameter`를 만듦으로써, 경사하강법에 따라 값이 갱신되는 변수와, 그렇지 않은 변수를 구분해주어야 한다."
      ]
    },
    {
      "cell_type": "code",
      "metadata": {
        "colab": {
          "base_uri": "https://localhost:8080/"
        },
        "id": "_UCzFqMIcKCH",
        "outputId": "14b96711-ffe8-45e2-dca3-ae9631e1f355"
      },
      "source": [
        "class Parameter(Variable):\n",
        "  pass\n",
        "\n",
        "x = Variable(np.array(1.0))\n",
        "p = Parameter(np.array(2.0))\n",
        "y = x * p\n",
        "\n",
        "print(isinstance(p, Parameter))\n",
        "print(isinstance(x, Parameter))\n",
        "print(isinstance(y, Parameter))"
      ],
      "execution_count": null,
      "outputs": [
        {
          "output_type": "stream",
          "name": "stdout",
          "text": [
            "True\n",
            "False\n",
            "False\n"
          ]
        }
      ]
    },
    {
      "cell_type": "markdown",
      "metadata": {
        "id": "j1dQzH9oeBUW"
      },
      "source": [
        ""
      ]
    },
    {
      "cell_type": "code",
      "metadata": {
        "colab": {
          "base_uri": "https://localhost:8080/"
        },
        "id": "BFaL6-l9clib",
        "outputId": "4d56615b-a64d-4ee2-95ac-6e53893bc9ce"
      },
      "source": [
        "from dezero.core import Variable\n",
        "from dezero.core import Parameter\n",
        "import numpy as np\n",
        "\n",
        "class Layer:\n",
        "  def __init__(self):\n",
        "    self._params = set()\n",
        "\n",
        "  def __setattr__(self, name, value):\n",
        "    if isinstance(value, Parameter):\n",
        "      self._params.add(name)\n",
        "    super().__setattr__(name, value)\n",
        "\n",
        "layer = Layer()\n",
        "layer.p1 = Parameter(np.array(1.0))\n",
        "layer.p2 = Parameter(np.array(2.0))\n",
        "layer.p3 = Variable(np.array(3.0))\n",
        "layer.p4 = 'test'\n",
        "\n",
        "for name in layer._params:\n",
        "  print(name, layer.__dict__[name])"
      ],
      "execution_count": null,
      "outputs": [
        {
          "output_type": "stream",
          "name": "stdout",
          "text": [
            "p2 variable(2.0)\n",
            "p1 variable(1.0)\n"
          ]
        }
      ]
    },
    {
      "cell_type": "code",
      "metadata": {
        "id": "DVcRkyMyii-D"
      },
      "source": [
        "class Layer:\n",
        "  def __init__(self):\n",
        "    self._params = set()\n",
        "\n",
        "  def __setattr__(self, name, value):\n",
        "    if isinstance(value, Parameter):\n",
        "      self._params.add(name)\n",
        "    super().__setattr__(name, value)\n",
        "\n",
        "  def __call__(self, *inputs):\n",
        "    outputs = self.forward(*inputs)\n",
        "    if not isinstance(outputs, tuple):\n",
        "      outputs = (outputs,)\n",
        "    self.inputs = [weakref.ref(x) for x in inputs]\n",
        "    self.outputs = [weakref.ref(x) for x in outputs]\n",
        "    return outputs if len(outputs) > 1 else outputs[0]\n",
        "\n",
        "  def forward(self, inputs):\n",
        "    return NotImplementedError()\n",
        "\n",
        "  def params(self):\n",
        "    for name in self._params:\n",
        "      yield self.__dict__[name]\n",
        "\n",
        "  def cleargrads(self):\n",
        "    for param in self.params():\n",
        "      param.cleargrad()"
      ],
      "execution_count": null,
      "outputs": []
    },
    {
      "cell_type": "markdown",
      "metadata": {
        "id": "ty2bublbl9Tm"
      },
      "source": [
        "이어서, 선형변환을 하는 (계층으로써의)Linear 클래스를 구현해보겠다. 이 Linear 클래스는 Layer 클래스를 상속받아, 구현되며, 내부적으로 가중치 초기화와 계산이 구현되어 있다."
      ]
    },
    {
      "cell_type": "code",
      "metadata": {
        "id": "qhKadOlVjOhi"
      },
      "source": [
        "class Linear(Layer):\n",
        "  def __init__(self, out_size, nobias=False, dtype=np.float32, in_size=None):\n",
        "    super().__init__()\n",
        "    self.in_size = in_size\n",
        "    self.out_size = out_size\n",
        "    self.dtype = dtype\n",
        "\n",
        "    self.W = Parameter(None, name='W')\n",
        "    if self.in_size is not None:\n",
        "      self._init_W()\n",
        "\n",
        "    if nobias:\n",
        "      self.b = None\n",
        "    else:\n",
        "      self.b = Parameter(np.zeros(out_size, dtype=dtype), name='b')\n",
        "\n",
        "  def _init_W(self):\n",
        "    I, O = self.in_size, self.out_size\n",
        "    W_data = np.random.randn(I, O).astype(self.dtype) * np.sqrt(1/I)\n",
        "    self.W.data = W_data\n",
        "\n",
        "  def forward(self, x):\n",
        "    if self.W.data is None:\n",
        "      self.in_size = inputs.shape[0]\n",
        "      self._init_W()\n",
        "    y = F.linear(x, self.W, self.b)\n",
        "    return y"
      ],
      "execution_count": null,
      "outputs": []
    },
    {
      "cell_type": "markdown",
      "metadata": {
        "id": "sVtUI73oy1HY"
      },
      "source": [
        "이제 위 Layer로 실제 신경망을 구현해보겠다."
      ]
    },
    {
      "cell_type": "code",
      "metadata": {
        "colab": {
          "base_uri": "https://localhost:8080/"
        },
        "id": "cS7WXQ7Ryypw",
        "outputId": "188e8f4a-00d0-4e94-d667-81e33d622f78"
      },
      "source": [
        "import numpy as np\n",
        "from dezero import Variable\n",
        "import dezero.functions as F\n",
        "import dezero.layers as L\n",
        "\n",
        "np.random.seed(0)\n",
        "x = np.random.rand(100, 1)\n",
        "y = np.sin(2 * np.pi * x) + np.random.rand(100, 1)\n",
        "\n",
        "l1 = L.Linear(10)\n",
        "l2 = L.Linear(1)\n",
        "\n",
        "def predict(x):\n",
        "  y = l1(x)\n",
        "  y = F.sigmoid(y)\n",
        "  y = l2(y)\n",
        "  return y\n",
        "\n",
        "lr = 0.2\n",
        "iters = 10000\n",
        "\n",
        "for i in range(iters):\n",
        "  y_pred = predict(x)\n",
        "  loss = F.mean_squared_error(y_pred, y)\n",
        "\n",
        "  l1.cleargrads()\n",
        "  l2.cleargrads()\n",
        "  loss.backward()\n",
        "\n",
        "  for l in [l1, l2]:\n",
        "    for p in l.params():\n",
        "      p.data -= lr * p.grad.data\n",
        "\n",
        "  if i % 1000 == 0:\n",
        "    print(loss)"
      ],
      "execution_count": null,
      "outputs": [
        {
          "output_type": "stream",
          "name": "stdout",
          "text": [
            "variable(0.8165178492839196)\n",
            "variable(0.24990280802148895)\n",
            "variable(0.24609876581126014)\n",
            "variable(0.2372159081431807)\n",
            "variable(0.20793216413350174)\n",
            "variable(0.12311905720649353)\n",
            "variable(0.07888166506355149)\n",
            "variable(0.07655073683421637)\n",
            "variable(0.0763780308623822)\n",
            "variable(0.07618764131185571)\n"
          ]
        }
      ]
    },
    {
      "cell_type": "markdown",
      "metadata": {
        "id": "8T5HYa5FX3bl"
      },
      "source": [
        "### Step 45. 계층을 모아두는 계층\n",
        "\n",
        "이전 단계에서는 Layer 클래스를 만들었다. Layer 클래스에는 매개변수를 관리하는 구조가 녹아 있어서 Layer 클래스를 사용하면 매개변수를 직접 다루지 않아도 되어 편리하다. 그러나 결국 Layer 인스턴스 자체에 대한 관리도 필요하다. 예를 들어 10층 신경망을 구현하려면 10개의 Layer 인스턴스를 관리해야 한다. 따라서, 이러한 부담을 줄이기 위해 Layer 클래스를 확장하겠다."
      ]
    },
    {
      "cell_type": "code",
      "metadata": {
        "id": "UJUF4nKsa5DS"
      },
      "source": [
        "class Layer:\n",
        "  def __init__(self):\n",
        "    self._params = set()\n",
        "\n",
        "  def __setattr__(self, name, value):\n",
        "    if isinstance(value, (Parameter, Layer)):\n",
        "      self._params.add(name)\n",
        "    super().__init__(name, value)\n",
        "\n",
        "  def params(self):\n",
        "    for name in self._params:\n",
        "      obj = self.__dict__[name]\n",
        "      if isinstance(obj, Layer):\n",
        "        yield from obj.params()\n",
        "      else:\n",
        "        yield obj"
      ],
      "execution_count": null,
      "outputs": []
    },
    {
      "cell_type": "markdown",
      "metadata": {
        "id": "NiEMVnHTa5pk"
      },
      "source": [
        "위 Layer 클래스를 활용하면 아래와 같이 신경망을 구성할 수 있다."
      ]
    },
    {
      "cell_type": "code",
      "metadata": {
        "id": "033S8vS5X3LN"
      },
      "source": [
        "import dezero.layers as L\n",
        "import dezero.functions as F\n",
        "from dezero import Layer\n",
        "\n",
        "model = Layer()\n",
        "model.l1 = L.Linear(5)\n",
        "model.l2 = L.Linear(3)\n",
        "\n",
        "def predict(model, x):\n",
        "  y = model.l1(x)\n",
        "  y = F.sigmoid(y)\n",
        "  y = model.l2(x)\n",
        "\n",
        "for p in model.params():\n",
        "  print(p)\n",
        "\n",
        "model.cleargrads()"
      ],
      "execution_count": null,
      "outputs": []
    },
    {
      "cell_type": "markdown",
      "metadata": {
        "id": "YK1bDOcYbdwp"
      },
      "source": [
        "한편 Layer 클래스를 더 편리하게 사용하는 방법도 있다. 바로 Layer 클래스를 상속하여 모델 전체를 하나의 '클래스'로 정의하는 방법이다."
      ]
    },
    {
      "cell_type": "code",
      "metadata": {
        "id": "saT76vmsbjuh"
      },
      "source": [
        "class TwoLayerNet(Layer):\n",
        "  def __init__(self, hidden_size, out_size):\n",
        "    super().__init__()\n",
        "    self.l1 = L.Linear(hidden_size)\n",
        "    self.l2 = L.Linear(out_size)\n",
        "\n",
        "  def forward(self, x):\n",
        "    y = F.sigmoid(self.l1(X))\n",
        "    y = self.l2(y)\n",
        "    return y"
      ],
      "execution_count": null,
      "outputs": []
    },
    {
      "cell_type": "markdown",
      "metadata": {
        "id": "bjcLdSngdAlx"
      },
      "source": [
        "이번에는 Layer 클래스를 상속받는 Model 클래스를 하나 만든다. 이 Model 클래스는 계산 그래프를 시각화하는 기능을 가지고 있다."
      ]
    },
    {
      "cell_type": "code",
      "metadata": {
        "id": "zS0vZcrAdAGX"
      },
      "source": [
        "from dezero import Layer\n",
        "from dezero import utils\n",
        "\n",
        "class Model(Layer):\n",
        "  def plot(self, *inputs, to_file='model.png'):\n",
        "    y = self.forward(*inputs)\n",
        "    return utils.plot_dot_graph(y, verbose=True, to_file=to_file)"
      ],
      "execution_count": null,
      "outputs": []
    },
    {
      "cell_type": "markdown",
      "metadata": {
        "id": "3ifNv2S7d4Yl"
      },
      "source": [
        "이후 TwoLayerNet 클래스가 이 Model 클래스를 상속받을 수 있도록 한다."
      ]
    },
    {
      "cell_type": "code",
      "metadata": {
        "colab": {
          "base_uri": "https://localhost:8080/",
          "height": 580
        },
        "id": "JlNOL_4Wd9nS",
        "outputId": "b59fc7b6-3cc2-4016-ed7e-29e734b9ebc3"
      },
      "source": [
        "from dezero import Variable\n",
        "import numpy as np\n",
        "\n",
        "class TwoLayerNet(Model):\n",
        "  def __init__(self, hidden_size, out_size):\n",
        "    super().__init__()\n",
        "    self.l1 = L.Linear(hidden_size)\n",
        "    self.l2 = L.Linear(out_size)\n",
        "\n",
        "  def forward(self, x):\n",
        "    y = F.sigmoid(self.l1(x))\n",
        "    y = self.l2(y)\n",
        "    return y\n",
        "\n",
        "x = Variable(np.random.randn(5, 10), name='x')\n",
        "model = TwoLayerNet(100, 10)\n",
        "model.plot(x)"
      ],
      "execution_count": null,
      "outputs": [
        {
          "output_type": "execute_result",
          "data": {
            "image/png": "[encoded data removed]",
            "text/plain": [
              "<IPython.core.display.Image object>"
            ]
          },
          "metadata": {},
          "execution_count": 4
        }
      ]
    },
    {
      "cell_type": "code",
      "metadata": {
        "colab": {
          "base_uri": "https://localhost:8080/"
        },
        "id": "OP4bUzvDfJgf",
        "outputId": "9f5dd3e4-6884-443f-f420-914009c199d9"
      },
      "source": [
        "import dezero.layers as L\n",
        "import dezero.functions as F\n",
        "from dezero import Layer\n",
        "import numpy as np\n",
        "\n",
        "np.random.seed(0)\n",
        "x = np.random.rand(100, 1)\n",
        "y = np.sin(2 * np.pi * x) + np.random.rand(100, 1)\n",
        "\n",
        "lr = 0.2\n",
        "max_iter = 10000\n",
        "hidden_size = 10\n",
        "\n",
        "model = TwoLayerNet(hidden_size, 1)\n",
        "\n",
        "for i in range(max_iter):\n",
        "  y_pred = model(x)\n",
        "  loss = F.mean_squared_error(y_pred, y)\n",
        "\n",
        "  model.cleargrads()\n",
        "  loss.backward()\n",
        "\n",
        "  for p in model.params():\n",
        "    p.data -= lr * p.grad.data\n",
        "\n",
        "  if i % 1000 == 0:\n",
        "    print(loss)"
      ],
      "execution_count": null,
      "outputs": [
        {
          "output_type": "stream",
          "name": "stdout",
          "text": [
            "variable(0.8165178492839196)\n",
            "variable(0.24990280802148895)\n",
            "variable(0.24609876581126014)\n",
            "variable(0.2372159081431807)\n",
            "variable(0.20793216413350174)\n",
            "variable(0.12311905720649353)\n",
            "variable(0.07888166506355149)\n",
            "variable(0.07655073683421637)\n",
            "variable(0.0763780308623822)\n",
            "variable(0.07618764131185571)\n"
          ]
        }
      ]
    },
    {
      "cell_type": "markdown",
      "metadata": {
        "id": "NQ56yWA5jdP3"
      },
      "source": [
        "앞에서 2층 신경망을 구현했다면, 이번에는 더 범용적인 신경망을 구현해보겠다. 여러개의 층이 쌓이는 MLP를 하나의 클래스에 구현해보는 것이다."
      ]
    },
    {
      "cell_type": "code",
      "metadata": {
        "id": "Ztf6QzpMjq6q"
      },
      "source": [
        "class MLP(Model):\n",
        "  def __init__(self, fc_output_sizes, activation=F.sigmoid):\n",
        "    super().__init__()\n",
        "    self.activation = activation\n",
        "    self.layers = []\n",
        "\n",
        "    for i, out_size in enumerate(fc_output_sizes):\n",
        "      layer = L.Linear(out_size)\n",
        "      setattr(self, 'l' + str(i), layer)\n",
        "      self.layers.append(layer)\n",
        "\n",
        "  def forward(self, x):\n",
        "    for layer in self.layers[:-1]:\n",
        "      x = self.activation(layer(x))\n",
        "    return self.layers[-1](x)\n",
        "\n",
        "\n",
        "model = MLP((10, 1))\n",
        "model = MLP((10, 20, 30, 40, 1))"
      ],
      "execution_count": null,
      "outputs": []
    },
    {
      "cell_type": "markdown",
      "metadata": {
        "id": "3CiElx5lXpva"
      },
      "source": [
        "### Step 46. Opimizer로 수행하는 매개변수 갱신\n",
        "\n",
        "지금까지는 경사하강법으로 매개변수를 갱신했지만, 딥러닝 분야애서는 경사하강법 외에도 다양한 최적화 기법이 제안되고 있다. 이번 단계에서는 매개변수 갱신 작업(갱신 코드)을 모듈화하고 쉽게 다른 모듈로 대체할 수 있는 구조를 만들것이다.\n",
        "\n",
        "먼저, 모든 최적화 기법의 기반이 되는 Optimizer 클래스를 구현해보겠다. 여기에는 `target`과 `hooks`라는 두 개의 인스턴스 변수를 초기화한다. target 변수는 매개변수를 갱신할 `Layer`가 들어가고, `hooks`는 매개변수를 갱신하기전 전처리를 할 함수들(Gradient clipping, Weight Decay)이 들어간다."
      ]
    },
    {
      "cell_type": "code",
      "metadata": {
        "id": "3s5OEO4NZ-PV"
      },
      "source": [
        "class Optimizer:\n",
        "  def __init__(self):\n",
        "    self.target = None\n",
        "    self.hooks = []\n",
        "\n",
        "  def setup(self, target):\n",
        "    self.target = target\n",
        "    return self\n",
        "\n",
        "  def update(self):\n",
        "    params = [p for p in self.target.params() if p.grad is not None]\n",
        "\n",
        "    for f in self.hooks:\n",
        "      f(params)\n",
        "\n",
        "    for param in params:\n",
        "      self.update_one(param)\n",
        "\n",
        "  def update_one(self, param):\n",
        "    return NotImplementedError()\n",
        "\n",
        "  def add_hook(self, f):\n",
        "    self.hooks.append(f)"
      ],
      "execution_count": null,
      "outputs": []
    },
    {
      "cell_type": "markdown",
      "metadata": {
        "id": "hJRv6R6rceK1"
      },
      "source": [
        "위 Optimizer 클래스를 상속받아, SGD 클래스를 구현해보겠다."
      ]
    },
    {
      "cell_type": "code",
      "metadata": {
        "id": "RMa53InCdj1K"
      },
      "source": [
        "class SGD(Optimizer):\n",
        "  def __init__(self, lr=0.01):\n",
        "    super().__init__()\n",
        "    self.lr = lr\n",
        "\n",
        "  def update_one(self, param):\n",
        "    param.data -= self.lr * param.grad.data"
      ],
      "execution_count": null,
      "outputs": []
    },
    {
      "cell_type": "markdown",
      "metadata": {
        "id": "EKX4mzJzn-Sh"
      },
      "source": [
        "SGD 클래스를 사용하여 이전 단계와 똑같은 문제를 풀어보겠다."
      ]
    },
    {
      "cell_type": "code",
      "metadata": {
        "colab": {
          "base_uri": "https://localhost:8080/"
        },
        "id": "AuljV1NhoDc8",
        "outputId": "0bcc6a9e-eab0-40b2-f5eb-d82b51e07cb5"
      },
      "source": [
        "import numpy as np\n",
        "from dezero import Variable\n",
        "from dezero import optimizers\n",
        "import dezero.functions as F\n",
        "from dezero.models import MLP\n",
        "\n",
        "\n",
        "np.random.seed(0)\n",
        "x = np.random.rand(100, 1)\n",
        "y = np.sin(2 * np.pi * x) + np.random.rand(100, 1)\n",
        "\n",
        "lr = 0.2\n",
        "max_iter = 10000\n",
        "hidden_size = 10\n",
        "\n",
        "model = MLP((hidden_size, 1))\n",
        "optimizer = optimizers.SGD(lr)\n",
        "optimizer.setup(model)\n",
        "\n",
        "for i in range(max_iter):\n",
        "    y_pred = model(x)\n",
        "    loss = F.mean_squared_error(y_pred, y)\n",
        "    \n",
        "    model.cleargrads()\n",
        "    loss.backward()\n",
        "    optimizer.update()\n",
        "    \n",
        "    if i % 1000 == 0:\n",
        "      print(loss)"
      ],
      "execution_count": null,
      "outputs": [
        {
          "output_type": "stream",
          "name": "stdout",
          "text": [
            "variable(0.8165178492839196)\n",
            "variable(0.24990280802148895)\n",
            "variable(0.24609876581126014)\n",
            "variable(0.2372159081431807)\n",
            "variable(0.20793216413350174)\n",
            "variable(0.12311905720649353)\n",
            "variable(0.07888166506355149)\n",
            "variable(0.07655073683421637)\n",
            "variable(0.0763780308623822)\n",
            "variable(0.07618764131185571)\n"
          ]
        }
      ]
    },
    {
      "cell_type": "markdown",
      "metadata": {
        "id": "p7YNjONQuftf"
      },
      "source": [
        "기울기를 이용한 최적화 기법은 다양하다. 대표적인 기법으로는 Momentum, AdaGrad, AdaDelta, Adam 등이 있다. Optimizer 클래스를 도입한 첫 번째 목표는 이처럼 다양한 최적화 기법을 필요에 따라 손쉽게 전환하기 위해서였다.\n",
        "\n",
        "이번 절에는 최적화 기법중 하나인 Momentum을 구현해보겠다."
      ]
    },
    {
      "cell_type": "code",
      "metadata": {
        "colab": {
          "base_uri": "https://localhost:8080/"
        },
        "id": "2CBDzreGrcaw",
        "outputId": "46891548-b586-421e-e61d-498a34225827"
      },
      "source": [
        "from dezero.optimizers import Optimizer\n",
        "from dezero import cuda\n",
        "\n",
        "class MomentumSGD(Optimizer):\n",
        "  def __init__(self, lr=0.01, momentum=0.9):\n",
        "    super().__init__()\n",
        "    self.lr = lr\n",
        "    self.momentum = momentum\n",
        "    self.vs = {}\n",
        "\n",
        "  def update_one(self, param):\n",
        "    v_key = id(param)\n",
        "    if v_key not in self.vs:\n",
        "      self.vs[v_key]= np.zeros_like(param.data)\n",
        "\n",
        "    v = self.vs[v_key]\n",
        "    v *= self.momentum\n",
        "    v -= self.lr * param.grad.data\n",
        "    param.data += v"
      ],
      "execution_count": null,
      "outputs": [
        {
          "output_type": "stream",
          "name": "stdout",
          "text": [
            "variable(0.8165178492839196)\n",
            "variable(0.11840018025339007)\n",
            "variable(0.08152180221829822)\n",
            "variable(0.07905731786447272)\n",
            "variable(0.07755462646456998)\n",
            "variable(0.07654778400113067)\n",
            "variable(0.0758762942253763)\n",
            "variable(0.0754066851735185)\n",
            "variable(0.07505508258184952)\n",
            "variable(0.07477445307154697)\n"
          ]
        }
      ]
    },
    {
      "cell_type": "markdown",
      "metadata": {
        "id": "2CGiYDnt5lzT"
      },
      "source": [
        "### 소프트맥스 함수오 교차 엔트로피 오차\n",
        "\n",
        "지금까지는 회귀 문제만 해결했지만, 이번에는 다중 클래스 분류(multi-class classification) 문제를 해결해보고자 한다. 그전에 먼저, 슬라이스 조작 함수를 하나 추가해보겠다."
      ]
    },
    {
      "cell_type": "code",
      "metadata": {
        "colab": {
          "base_uri": "https://localhost:8080/"
        },
        "id": "I2nL5nmL29zy",
        "outputId": "94456e24-c2cf-4379-dc5f-09eedb2a976a"
      },
      "source": [
        "from dezero import Function\n",
        "\n",
        "class GetItem(Function):\n",
        "  def __init__(self, slices):\n",
        "    self.slices = slices\n",
        "    super().__init__()\n",
        "\n",
        "  def forward(self, x):\n",
        "    y = x[self.slices]\n",
        "    return y\n",
        "\n",
        "  def backward(self, gy):\n",
        "    x = self.inputs[0]\n",
        "    f = GetItemGrad(self.slices, x.shape)\n",
        "    return f(gy)\n",
        "\n",
        "\n",
        "def get_item(x, slices):\n",
        "  return GetItem(slices)(x)\n",
        "\n",
        "\n",
        "class GetItemGrad(Function):\n",
        "  def __init__(self, slices, in_shape):\n",
        "    self.slices = slices\n",
        "    self.in_shape = in_shape\n",
        "    super().__init__()\n",
        "\n",
        "  def forward(self, x):\n",
        "    xp = dezero.cuda.get_array_module(x)\n",
        "    gx = xp.zeros(self.in_shape)\n",
        "\n",
        "    if xp is np:\n",
        "      np.add.at(gx, self.slices, gy)\n",
        "    else:\n",
        "      xp.scatter_add(gx, self.slices, gy)\n",
        "    return gx\n",
        "\n",
        "  def backward(self, ggx):\n",
        "    return get_item(ggx, slices)\n",
        "\n",
        "\n",
        "x = Variable(np.array([[1, 2, 3], [4, 5, 6]]))\n",
        "print(get_item(x, 1))"
      ],
      "execution_count": null,
      "outputs": [
        {
          "output_type": "stream",
          "name": "stdout",
          "text": [
            "variable([4 5 6])\n"
          ]
        }
      ]
    },
    {
      "cell_type": "markdown",
      "metadata": {
        "id": "QKtMxDoRCk4b"
      },
      "source": [
        "이제 위에서 구현한 `get_item` 함수를 `Variable`의 메서드로 사용할 수 있게 특수 메서드로 설정한다."
      ]
    },
    {
      "cell_type": "code",
      "metadata": {
        "colab": {
          "base_uri": "https://localhost:8080/"
        },
        "id": "1DLd_mN5Cynv",
        "outputId": "55613ce5-f389-4d7d-d020-cffa39663501"
      },
      "source": [
        "Variable.__getitem__ = F.get_item\n",
        "\n",
        "x = Variable(np.array([[1, 2, 3], [4, 5, 6]]))\n",
        "print(x[0])"
      ],
      "execution_count": null,
      "outputs": [
        {
          "output_type": "stream",
          "name": "stdout",
          "text": [
            "variable([1 2 3])\n"
          ]
        }
      ]
    },
    {
      "cell_type": "markdown",
      "metadata": {
        "id": "mXGN-0pSHNJN"
      },
      "source": [
        "이번에는 다중 클래스 분류에 반드시 필요한 `Softmax` 클래스를 구현해보겠다. softmax 함수는 출력값을 확률로 해석할 수 있도록, 0~1 사이의 값들을 출력한다."
      ]
    },
    {
      "cell_type": "code",
      "metadata": {
        "colab": {
          "base_uri": "https://localhost:8080/"
        },
        "id": "KIO5kyz5HkEt",
        "outputId": "b1b24a7b-70e8-4c1c-c324-ee9df1e6e283"
      },
      "source": [
        "from dezero import Function\n",
        "from dezero.models import MLP\n",
        "from dezero import cuda\n",
        "\n",
        "class Softmax(Function):\n",
        "  def forward(self, x):\n",
        "    xp = cuda.get_array_module(x)\n",
        "    x -= x.max(axis=1, keepdims=True)\n",
        "    y = xp.exp(x)\n",
        "    return y / y.sum(axis=1, keepdims=True)\n",
        "\n",
        "  def backward(self, gy):\n",
        "    y = self.outputs[0]()\n",
        "    gx = y * gy\n",
        "    sumdx = gx.sum(axis=self.axis, keepdims=True)\n",
        "    gx -= y * sumdx\n",
        "    return gx\n",
        "\n",
        "def softmax(x):\n",
        "  return Softmax()(x)\n",
        "\n",
        "model = MLP((10, 3))\n",
        "x = Variable(np.array([[0.2, -0.4]]))\n",
        "y = model(x)\n",
        "p = softmax(y)\n",
        "print(y)\n",
        "print(p)"
      ],
      "execution_count": null,
      "outputs": [
        {
          "output_type": "stream",
          "name": "stdout",
          "text": [
            "variable([[-1.46039933  0.         -1.26186822]])\n",
            "variable([[0.15320295 0.6599492  0.18684785]])\n"
          ]
        }
      ]
    },
    {
      "cell_type": "code",
      "metadata": {
        "id": "cIiUYhQIQ71n"
      },
      "source": [
        "class SoftmaxCrossEntropy(Function):\n",
        "  def forward(self, x, t):\n",
        "    N = x.shape[0]\n",
        "    log_z = utils.logsumexp(x, axis=1)\n",
        "    log_p = x - log_z\n",
        "    log_p = log_p[np.arange(N), t.ravel()]\n",
        "    return -log_p.sum() / np.float32(N)\n",
        "    \n",
        "\n",
        "  def backward(self, gy):\n",
        "    x, t = self.inputs\n",
        "    N, CLS_NUM = x.shape\n",
        "\n",
        "    gy *= 1/N\n",
        "    y = softmax(x)\n",
        "\n",
        "    xp = cuda.get_array_module()\n",
        "    \"\"\"\n",
        "    [another expression]\n",
        "    y[np.arange(N), t.data] -= 1\n",
        "    return y * gy\n",
        "    \"\"\"\n",
        "    t_onehot = xp.eye(CLS_NUM, dtype=t.dtype)[t.data]\n",
        "    y = (y - t_onehot) * gy\n",
        "    return y"
      ],
      "execution_count": null,
      "outputs": []
    },
    {
      "cell_type": "markdown",
      "metadata": {
        "id": "PSXt2Lcx-qmw"
      },
      "source": [
        "### Step 48 다중 클래스\n",
        "\n",
        "이번에는 스파이럴 데이터셋이라는 작은 데이터셋을 사용하여 다중 클래스 분류를 실제로 해보겠다.  먼저, 스파이럴 데이터셋의 형상을 확인해보자."
      ]
    },
    {
      "cell_type": "code",
      "metadata": {
        "colab": {
          "base_uri": "https://localhost:8080/",
          "height": 265
        },
        "id": "4irC2byPpzzl",
        "outputId": "45af2434-c2fc-4c63-d7b4-a6f3b3b36f96"
      },
      "source": [
        "import dezero\n",
        "import numpy as np\n",
        "import matplotlib.pyplot as plt\n",
        "\n",
        "x, t = dezero.datasets.get_spiral(train=True)\n",
        "\n",
        "idx0, idx1, idx2 = [], [], []\n",
        "idxs = [idx0, idx1, idx2]\n",
        "\n",
        "for i in range(x.shape[0]):\n",
        "  idxs[t[i]].append(i)\n",
        "\n",
        "plt.plot(x[idx0, 0], x[idx0, 1], 'go', label='t = 0')\n",
        "plt.plot(x[idx1, 0], x[idx1, 1], 'bx', label='t = 1')\n",
        "plt.plot(x[idx2, 0], x[idx2, 1], '*', label='t = 2')\n",
        "plt.legend()\n",
        "plt.show()"
      ],
      "execution_count": null,
      "outputs": [
        {
          "output_type": "display_data",
          "data": {
            "image/png": "[encoded data removed]",
            "text/plain": [
              "<Figure size 432x288 with 1 Axes>"
            ]
          },
          "metadata": {
            "needs_background": "light"
          }
        }
      ]
    },
    {
      "cell_type": "markdown",
      "metadata": {
        "id": "WPiQfPT1GyBI"
      },
      "source": [
        "이제 위 데이터를 사용해서 다중 클래스 분류를 시행하는 코드를 작성해보자."
      ]
    },
    {
      "cell_type": "code",
      "metadata": {
        "colab": {
          "base_uri": "https://localhost:8080/",
          "height": 1000
        },
        "id": "X7dtiMM_OBP5",
        "outputId": "9b83e0ad-8d92-4294-9cb6-86754ce39659"
      },
      "source": [
        "import math\n",
        "import numpy as np\n",
        "from dezero import optimizers, datasets\n",
        "import dezero.functions as F\n",
        "from dezero.models import MLP\n",
        "import matplotlib.pyplot as plt\n",
        "\n",
        "max_epoch = 300\n",
        "batch_size = 30\n",
        "hidden_size = 10\n",
        "lr = 1.0\n",
        "\n",
        "x, t = datasets.get_spiral(train=True)\n",
        "model = MLP((hidden_size, 3))\n",
        "optimizer = optimizers.SGD(lr).setup(model)\n",
        "\n",
        "data_size = len(x)\n",
        "max_iter = math.ceil(data_size / batch_size)\n",
        "\n",
        "avg_loss_list = []\n",
        "for epoch in range(max_epoch):\n",
        "  idx = np.random.permutation(np.arange(data_size))\n",
        "  sum_loss = 0\n",
        "\n",
        "  for iter in range(max_iter):\n",
        "    batch_index = idx[iter:(iter+1) * batch_size]\n",
        "    batch_x = x[batch_index]\n",
        "    batch_t = t[batch_index]\n",
        "\n",
        "    y = model(batch_x)\n",
        "    loss = F.softmax_cross_entropy(y, batch_t)\n",
        "    model.cleargrads()\n",
        "    loss.backward()\n",
        "    optimizer.update()\n",
        "    sum_loss += float(loss.data) * len(batch_t)\n",
        "\n",
        "  avg_loss = sum_loss / data_size\n",
        "  avg_loss_list.append(avg_loss)\n",
        "  print('epoch %d, loss %.2f' % (epoch + 1, avg_loss))\n",
        "\n",
        "plt.plot(range(max_epoch), avg_loss_list)\n",
        "plt.xlabel('epochs')\n",
        "plt.ylabel('loss')\n",
        "plt.show()"
      ],
      "execution_count": null,
      "outputs": [
        {
          "output_type": "stream",
          "name": "stdout",
          "text": [
            "epoch 1, loss 5.71\n",
            "epoch 2, loss 5.29\n",
            "epoch 3, loss 5.00\n",
            "epoch 4, loss 4.73\n",
            "epoch 5, loss 4.49\n",
            "epoch 6, loss 4.27\n",
            "epoch 7, loss 4.21\n",
            "epoch 8, loss 4.14\n",
            "epoch 9, loss 4.07\n",
            "epoch 10, loss 4.08\n",
            "epoch 11, loss 4.00\n",
            "epoch 12, loss 3.99\n",
            "epoch 13, loss 3.98\n",
            "epoch 14, loss 3.84\n",
            "epoch 15, loss 4.05\n",
            "epoch 16, loss 3.91\n",
            "epoch 17, loss 4.04\n",
            "epoch 18, loss 3.90\n",
            "epoch 19, loss 4.04\n",
            "epoch 20, loss 3.64\n",
            "epoch 21, loss 3.82\n",
            "epoch 22, loss 3.73\n",
            "epoch 23, loss 3.81\n",
            "epoch 24, loss 3.77\n",
            "epoch 25, loss 3.79\n",
            "epoch 26, loss 3.91\n",
            "epoch 27, loss 3.79\n",
            "epoch 28, loss 3.70\n",
            "epoch 29, loss 3.77\n",
            "epoch 30, loss 3.76\n",
            "epoch 31, loss 3.75\n",
            "epoch 32, loss 3.82\n",
            "epoch 33, loss 3.65\n",
            "epoch 34, loss 3.76\n",
            "epoch 35, loss 3.65\n",
            "epoch 36, loss 3.82\n",
            "epoch 37, loss 3.67\n",
            "epoch 38, loss 3.57\n",
            "epoch 39, loss 3.78\n",
            "epoch 40, loss 3.71\n",
            "epoch 41, loss 3.52\n",
            "epoch 42, loss 3.58\n",
            "epoch 43, loss 3.57\n",
            "epoch 44, loss 3.57\n",
            "epoch 45, loss 3.63\n",
            "epoch 46, loss 3.67\n",
            "epoch 47, loss 3.62\n",
            "epoch 48, loss 3.70\n",
            "epoch 49, loss 3.49\n",
            "epoch 50, loss 3.64\n",
            "epoch 51, loss 3.61\n",
            "epoch 52, loss 3.46\n",
            "epoch 53, loss 3.43\n",
            "epoch 54, loss 3.36\n",
            "epoch 55, loss 3.52\n",
            "epoch 56, loss 3.54\n",
            "epoch 57, loss 3.30\n",
            "epoch 58, loss 3.31\n",
            "epoch 59, loss 3.35\n",
            "epoch 60, loss 3.28\n",
            "epoch 61, loss 3.30\n",
            "epoch 62, loss 3.20\n",
            "epoch 63, loss 3.34\n",
            "epoch 64, loss 3.14\n",
            "epoch 65, loss 3.14\n",
            "epoch 66, loss 3.15\n",
            "epoch 67, loss 3.23\n",
            "epoch 68, loss 3.01\n",
            "epoch 69, loss 3.05\n",
            "epoch 70, loss 3.05\n",
            "epoch 71, loss 2.95\n",
            "epoch 72, loss 2.97\n",
            "epoch 73, loss 3.07\n",
            "epoch 74, loss 2.99\n",
            "epoch 75, loss 2.94\n",
            "epoch 76, loss 2.87\n",
            "epoch 77, loss 2.83\n",
            "epoch 78, loss 2.93\n",
            "epoch 79, loss 2.95\n",
            "epoch 80, loss 2.76\n",
            "epoch 81, loss 2.68\n",
            "epoch 82, loss 2.62\n",
            "epoch 83, loss 2.73\n",
            "epoch 84, loss 2.60\n",
            "epoch 85, loss 2.63\n",
            "epoch 86, loss 2.79\n",
            "epoch 87, loss 2.62\n",
            "epoch 88, loss 2.56\n",
            "epoch 89, loss 2.59\n",
            "epoch 90, loss 2.65\n",
            "epoch 91, loss 2.60\n",
            "epoch 92, loss 2.48\n",
            "epoch 93, loss 2.45\n",
            "epoch 94, loss 2.55\n",
            "epoch 95, loss 2.38\n",
            "epoch 96, loss 2.40\n",
            "epoch 97, loss 2.37\n",
            "epoch 98, loss 2.35\n",
            "epoch 99, loss 2.42\n",
            "epoch 100, loss 2.42\n",
            "epoch 101, loss 2.37\n",
            "epoch 102, loss 2.28\n",
            "epoch 103, loss 2.30\n",
            "epoch 104, loss 2.24\n",
            "epoch 105, loss 2.25\n",
            "epoch 106, loss 2.23\n",
            "epoch 107, loss 2.04\n",
            "epoch 108, loss 2.40\n",
            "epoch 109, loss 2.19\n",
            "epoch 110, loss 2.17\n",
            "epoch 111, loss 2.13\n",
            "epoch 112, loss 2.31\n",
            "epoch 113, loss 2.09\n",
            "epoch 114, loss 2.04\n",
            "epoch 115, loss 2.14\n",
            "epoch 116, loss 2.02\n",
            "epoch 117, loss 1.97\n",
            "epoch 118, loss 2.17\n",
            "epoch 119, loss 2.00\n",
            "epoch 120, loss 2.03\n",
            "epoch 121, loss 1.87\n",
            "epoch 122, loss 1.99\n",
            "epoch 123, loss 1.90\n",
            "epoch 124, loss 1.77\n",
            "epoch 125, loss 1.97\n",
            "epoch 126, loss 1.86\n",
            "epoch 127, loss 1.86\n",
            "epoch 128, loss 1.93\n",
            "epoch 129, loss 1.77\n",
            "epoch 130, loss 1.87\n",
            "epoch 131, loss 1.84\n",
            "epoch 132, loss 1.79\n",
            "epoch 133, loss 1.72\n",
            "epoch 134, loss 1.71\n",
            "epoch 135, loss 1.78\n",
            "epoch 136, loss 1.66\n",
            "epoch 137, loss 1.62\n",
            "epoch 138, loss 1.68\n",
            "epoch 139, loss 1.64\n",
            "epoch 140, loss 1.69\n",
            "epoch 141, loss 1.55\n",
            "epoch 142, loss 1.65\n",
            "epoch 143, loss 1.66\n",
            "epoch 144, loss 1.65\n",
            "epoch 145, loss 1.59\n",
            "epoch 146, loss 1.63\n",
            "epoch 147, loss 1.39\n",
            "epoch 148, loss 1.48\n",
            "epoch 149, loss 1.51\n",
            "epoch 150, loss 1.44\n",
            "epoch 151, loss 1.54\n",
            "epoch 152, loss 1.35\n",
            "epoch 153, loss 1.49\n",
            "epoch 154, loss 1.36\n",
            "epoch 155, loss 1.47\n",
            "epoch 156, loss 1.43\n",
            "epoch 157, loss 1.45\n",
            "epoch 158, loss 1.46\n",
            "epoch 159, loss 1.28\n",
            "epoch 160, loss 1.28\n",
            "epoch 161, loss 1.38\n",
            "epoch 162, loss 1.38\n",
            "epoch 163, loss 1.22\n",
            "epoch 164, loss 1.32\n",
            "epoch 165, loss 1.25\n",
            "epoch 166, loss 1.26\n",
            "epoch 167, loss 1.33\n",
            "epoch 168, loss 1.22\n",
            "epoch 169, loss 1.22\n",
            "epoch 170, loss 1.13\n",
            "epoch 171, loss 1.35\n",
            "epoch 172, loss 1.21\n",
            "epoch 173, loss 1.19\n",
            "epoch 174, loss 1.26\n",
            "epoch 175, loss 1.20\n",
            "epoch 176, loss 1.12\n",
            "epoch 177, loss 1.07\n",
            "epoch 178, loss 1.09\n",
            "epoch 179, loss 1.12\n",
            "epoch 180, loss 1.10\n",
            "epoch 181, loss 1.18\n",
            "epoch 182, loss 1.07\n",
            "epoch 183, loss 1.06\n",
            "epoch 184, loss 1.16\n",
            "epoch 185, loss 1.10\n",
            "epoch 186, loss 0.99\n",
            "epoch 187, loss 1.08\n",
            "epoch 188, loss 1.11\n",
            "epoch 189, loss 1.05\n",
            "epoch 190, loss 1.07\n",
            "epoch 191, loss 1.05\n",
            "epoch 192, loss 1.08\n",
            "epoch 193, loss 1.00\n",
            "epoch 194, loss 0.97\n",
            "epoch 195, loss 1.04\n",
            "epoch 196, loss 1.05\n",
            "epoch 197, loss 1.03\n",
            "epoch 198, loss 1.03\n",
            "epoch 199, loss 1.01\n",
            "epoch 200, loss 0.99\n",
            "epoch 201, loss 0.95\n",
            "epoch 202, loss 0.98\n",
            "epoch 203, loss 1.04\n",
            "epoch 204, loss 1.02\n",
            "epoch 205, loss 0.98\n",
            "epoch 206, loss 1.05\n",
            "epoch 207, loss 0.94\n",
            "epoch 208, loss 1.02\n",
            "epoch 209, loss 0.94\n",
            "epoch 210, loss 0.94\n",
            "epoch 211, loss 0.90\n",
            "epoch 212, loss 0.92\n",
            "epoch 213, loss 0.90\n",
            "epoch 214, loss 0.92\n",
            "epoch 215, loss 0.98\n",
            "epoch 216, loss 0.91\n",
            "epoch 217, loss 0.94\n",
            "epoch 218, loss 0.92\n",
            "epoch 219, loss 0.89\n",
            "epoch 220, loss 1.02\n",
            "epoch 221, loss 0.90\n",
            "epoch 222, loss 0.85\n",
            "epoch 223, loss 0.98\n",
            "epoch 224, loss 0.86\n",
            "epoch 225, loss 0.92\n",
            "epoch 226, loss 0.85\n",
            "epoch 227, loss 0.94\n",
            "epoch 228, loss 0.89\n",
            "epoch 229, loss 0.87\n",
            "epoch 230, loss 0.89\n",
            "epoch 231, loss 0.86\n",
            "epoch 232, loss 0.84\n",
            "epoch 233, loss 0.93\n",
            "epoch 234, loss 0.94\n",
            "epoch 235, loss 0.76\n",
            "epoch 236, loss 0.82\n",
            "epoch 237, loss 0.80\n",
            "epoch 238, loss 0.83\n",
            "epoch 239, loss 0.82\n",
            "epoch 240, loss 0.88\n",
            "epoch 241, loss 0.81\n",
            "epoch 242, loss 0.83\n",
            "epoch 243, loss 0.84\n",
            "epoch 244, loss 0.77\n",
            "epoch 245, loss 0.81\n",
            "epoch 246, loss 0.90\n",
            "epoch 247, loss 0.76\n",
            "epoch 248, loss 0.82\n",
            "epoch 249, loss 0.81\n",
            "epoch 250, loss 0.89\n",
            "epoch 251, loss 0.73\n",
            "epoch 252, loss 0.78\n",
            "epoch 253, loss 0.77\n",
            "epoch 254, loss 0.89\n",
            "epoch 255, loss 0.76\n",
            "epoch 256, loss 0.80\n",
            "epoch 257, loss 0.77\n",
            "epoch 258, loss 0.81\n",
            "epoch 259, loss 0.75\n",
            "epoch 260, loss 0.82\n",
            "epoch 261, loss 0.90\n",
            "epoch 262, loss 0.78\n",
            "epoch 263, loss 0.74\n",
            "epoch 264, loss 0.77\n",
            "epoch 265, loss 0.76\n",
            "epoch 266, loss 0.82\n",
            "epoch 267, loss 0.86\n",
            "epoch 268, loss 0.81\n",
            "epoch 269, loss 0.78\n",
            "epoch 270, loss 0.83\n",
            "epoch 271, loss 0.73\n",
            "epoch 272, loss 0.79\n",
            "epoch 273, loss 0.76\n",
            "epoch 274, loss 0.83\n",
            "epoch 275, loss 0.78\n",
            "epoch 276, loss 0.77\n",
            "epoch 277, loss 0.85\n",
            "epoch 278, loss 0.70\n",
            "epoch 279, loss 0.79\n",
            "epoch 280, loss 0.67\n",
            "epoch 281, loss 0.79\n",
            "epoch 282, loss 0.82\n",
            "epoch 283, loss 0.78\n",
            "epoch 284, loss 0.75\n",
            "epoch 285, loss 0.80\n",
            "epoch 286, loss 0.78\n",
            "epoch 287, loss 0.66\n",
            "epoch 288, loss 0.76\n",
            "epoch 289, loss 0.64\n",
            "epoch 290, loss 0.74\n",
            "epoch 291, loss 0.76\n",
            "epoch 292, loss 0.70\n",
            "epoch 293, loss 0.74\n",
            "epoch 294, loss 0.71\n",
            "epoch 295, loss 0.71\n",
            "epoch 296, loss 0.77\n",
            "epoch 297, loss 0.71\n",
            "epoch 298, loss 0.68\n",
            "epoch 299, loss 0.68\n",
            "epoch 300, loss 0.69\n"
          ]
        },
        {
          "output_type": "display_data",
          "data": {
            "image/png": "[encoded data removed]",
            "text/plain": [
              "<Figure size 432x288 with 1 Axes>"
            ]
          },
          "metadata": {
            "needs_background": "light"
          }
        }
      ]
    },
    {
      "cell_type": "markdown",
      "metadata": {
        "id": "TVdn63fIV_-6"
      },
      "source": [
        "### Step 49. Dataset 클래스와 전처리\n",
        "\n",
        "앞 단계에서의 스파이럴 데이터셋은 300개 정도의 작은 데이터셋이라서 ndarray 인스턴스 하나로 처리할 수 있었지만, 대규모 데이터셋을 처리할 때는 문제가 된다. 그래서 이러한 문제에 대응할 수 있도록 데이터셋 전용 클래스인 Dataset 클래스를 만들려 한다. Dataset 클래스에는 데이터를 전처리할 수 있는 구조도 추가할 것이다."
      ]
    },
    {
      "cell_type": "code",
      "metadata": {
        "id": "FTOoK3Q6W7S4"
      },
      "source": [
        "class Dataset:\n",
        "  def __init__(self, train=True):\n",
        "    self.train = train\n",
        "    self.data = None\n",
        "    self.label = None\n",
        "    self.prepare()\n",
        "\n",
        "  def __getitem__(self, index):\n",
        "    if self.label is None:\n",
        "      return self.data[index], None\n",
        "    else:\n",
        "      return self.data[index], self.label[index]\n",
        "\n",
        "  def __len__(self):\n",
        "    return len(self.data)\n",
        "\n",
        "  def prepare(self):\n",
        "    pass"
      ],
      "execution_count": null,
      "outputs": []
    },
    {
      "cell_type": "markdown",
      "metadata": {
        "id": "TXL_yZJbf_Nl"
      },
      "source": [
        "위 Dataset 클래스를 상속하여 스파이럴 데이터셋을 구현해보겠다."
      ]
    },
    {
      "cell_type": "code",
      "metadata": {
        "colab": {
          "base_uri": "https://localhost:8080/"
        },
        "id": "HqbOvTqyeVjp",
        "outputId": "c298cbf1-c94d-4a65-cbb1-96db7bfd8de2"
      },
      "source": [
        "import dezero\n",
        "\n",
        "class Spiral(Dataset):\n",
        "  def prepare(self):\n",
        "    self.data, self.label = dezero.datasets.get_spiral(self.train)\n",
        "\n",
        "trian_set = Spiral(train=True)\n",
        "print(trian_set[0])"
      ],
      "execution_count": null,
      "outputs": [
        {
          "output_type": "stream",
          "name": "stdout",
          "text": [
            "(array([-0.13981389, -0.00721657], dtype=float32), 1)\n"
          ]
        }
      ]
    },
    {
      "cell_type": "markdown",
      "metadata": {
        "id": "l4C1xFtXhxeb"
      },
      "source": [
        "스파이럴 데이터셋 같은 작은 데이터셋이라면 Dataset 클래스의 인스턴스 변수인 data와 label에 직접 ndarray 인스턴스를 유지해도 무리가 없다. 하지만, 데이터셋이 훨씬 크다면 이런 구현 방식은 사용할 수 없다. \n",
        "\n",
        "따라서 아래의 BigData 클래스는 조금 다른 방식을 사용하는데, 클래스를 초기화 할 때는 데이터를 읽지 않고, 데이터에 접근할 때 비로소 읽게 하는 것이다."
      ]
    },
    {
      "cell_type": "code",
      "metadata": {
        "id": "s2PFhvRPiDSZ"
      },
      "source": [
        "class BigData(Dataset):\n",
        "  def __getitem__(self, index):\n",
        "    x = np.load('data/{}.npy'.format(index))\n",
        "    t = np.load('label/{}.npy'.format(index))\n",
        "    return x, t\n",
        "\n",
        "  def __len__(self):\n",
        "    return 1000000"
      ],
      "execution_count": null,
      "outputs": []
    },
    {
      "cell_type": "markdown",
      "metadata": {
        "id": "WY-zn5GgjAHm"
      },
      "source": [
        "이번에는 Dataset 클래스에 전처리 기능을 추가해보겠다."
      ]
    },
    {
      "cell_type": "code",
      "metadata": {
        "id": "zgmkVmJGi_66"
      },
      "source": [
        "class Dataset:\n",
        "  def __init__(self, train=True, transform=None, target_transform=None):\n",
        "    self.train = train\n",
        "    self.transform = transform\n",
        "    self.target_transform\n",
        "    if self.transform is None:\n",
        "      self.transform = lambda x : x\n",
        "    if self.target_transform is None:\n",
        "      self.transform = lambda x : x\n",
        "\n",
        "    self.data = None\n",
        "    self.label = None\n",
        "    self.prepare()\n",
        "\n",
        "  def __getitem__(self, index):\n",
        "    assert np.isscalar(index)\n",
        "    if self.label is None:\n",
        "      return self.transform(self.data[index]), None\n",
        "    else:\n",
        "      return self.transform(self.data[index]), self.target_transform(self.label[index])\n",
        "    \n",
        "  def __len__(self):\n",
        "    return len(self.data)\n",
        "  \n",
        "  def prepare(self):\n",
        "    pass"
      ],
      "execution_count": null,
      "outputs": []
    },
    {
      "cell_type": "markdown",
      "metadata": {
        "id": "XmR_03TZoUnJ"
      },
      "source": [
        "### Step 50. 미니배치를 뽑아주는 DataLoader\n",
        "\n",
        "이번 단계에서는 Dataset 클래스에서 미니배치를 뽑아주는 DataLoader 클래스를 구현한다.\n",
        "\n",
        "먼저 그전에, 파이썬 클래스로 iterator를 구현할 수 있다는 사실을 알아보자.\n",
        "\n",
        "```python\n",
        "class MyIterator:\n",
        "  def __init__(self, max_cnt):\n",
        "    self.max_cnt = max_cnt\n",
        "    self.cnt = 0\n",
        "\n",
        "  def __iter__(self):\n",
        "    return self\n",
        "\n",
        "  def __next__(self):\n",
        "    if self.cnt == self.max_cnt:\n",
        "      raise StopIteration\n",
        "    \n",
        "    self.cnt += 1\n",
        "    return self.cnt\n",
        "\n",
        "# iterator 생성\n",
        "obj = MyIterator(5)\n",
        "for i in obj:\n",
        "  print(i)\n",
        "```\n",
        "\n",
        "위 코드를 보면 알 수 "
      ]
    },
    {
      "cell_type": "code",
      "metadata": {
        "id": "htpl_nFoousk"
      },
      "source": [
        "import math\n",
        "import random\n",
        "import numpy as np\n",
        "\n",
        "class DataLoader:\n",
        "  def __init__(self, dataset, batch_size, shuffle=True):\n",
        "    self.dataset = dataset\n",
        "    self.batch_size = batch_size\n",
        "    self.shuffle = shuffle\n",
        "    self.data_size = len(dataset)\n",
        "    self.max_iter = math.ceil(self.data_size / batch_size)\n",
        "\n",
        "    self.reset()\n",
        "\n",
        "  def reset(self):\n",
        "    self.iteration = 0\n",
        "    if self.shuffle:\n",
        "      self.index = np.random.permutation(len(self.dataset))\n",
        "    else:\n",
        "      self.index = np.arange(len(self.dataset))\n",
        "\n",
        "  # iterator로 인식\n",
        "  def __iter__(self):\n",
        "    return self\n",
        "\n",
        "  def __next__(self):\n",
        "    if self.iteration >= self.max_iter:\n",
        "      self.reset()\n",
        "      raise StopIteration\n",
        "\n",
        "    i, batch_size = self.iteration, self.batch_size\n",
        "    batch_index = self.index[i*batch_size:(i+1)*batch_size]\n",
        "    batch = [self.dataset[i] for i in batch_index]\n",
        "    \n",
        "    x = np.array([example[0] for example in batch])\n",
        "    t = np.array([example[1] for example in batch])\n",
        "\n",
        "    self.iteration += 1\n",
        "    return x, t\n",
        "\n",
        "  def next(self):\n",
        "    return __next__(self)"
      ],
      "execution_count": null,
      "outputs": []
    },
    {
      "cell_type": "markdown",
      "metadata": {
        "id": "nPD1nkUav7jW"
      },
      "source": [
        "이제 위 `DataLoader`를 사용해서 학습을 해볼 것인데, 그전에 모델의 정확도를 측정할 수 있는 함수를 추가한다."
      ]
    },
    {
      "cell_type": "code",
      "metadata": {
        "id": "leQg94yXwFBr"
      },
      "source": [
        "from dezero import *\n",
        "\n",
        "def accuracy(y, t):\n",
        "  y, t = as_variable(y), as_variable(t)\n",
        "\n",
        "  pred = y.data.argmax(axis=1).reshape(t.shape)\n",
        "  result = (pred == t.data)\n",
        "  acc = result.mean()\n",
        "  return Variable(as_array(acc))"
      ],
      "execution_count": null,
      "outputs": []
    },
    {
      "cell_type": "markdown",
      "metadata": {
        "id": "F9abQYPxxIMv"
      },
      "source": [
        "이제 학습을 진행해보자."
      ]
    },
    {
      "cell_type": "code",
      "metadata": {
        "colab": {
          "base_uri": "https://localhost:8080/",
          "height": 1000
        },
        "id": "GtiEZ2FZxGAq",
        "outputId": "84ec5e13-d8b0-4258-988e-f7f9bee37608"
      },
      "source": [
        "from dezero import datasets, optimizers\n",
        "from dezero.models import MLP\n",
        "import dezero.functions as F\n",
        "import matplotlib.pyplot as plt\n",
        "\n",
        "\n",
        "max_epoch = 300\n",
        "batch_size = 30\n",
        "hidden_size = 10\n",
        "lr = 1.0\n",
        "\n",
        "train_set = dezero.datasets.Spiral(train=True)\n",
        "test_set = dezero.datasets.Spiral(train=False)\n",
        "train_loader = DataLoader(train_set, batch_size)\n",
        "test_loader = DataLoader(test_set, batch_size, shuffle=False)\n",
        "\n",
        "model = MLP((hidden_size, 3))\n",
        "optimizer = optimizers.SGD(lr).setup(model)\n",
        "\n",
        "\n",
        "train_loss_list = []\n",
        "test_loss_list = []\n",
        "train_acc_list = []\n",
        "test_acc_list = []\n",
        "for epoch in range(max_epoch):\n",
        "  sum_loss, sum_acc = 0, 0\n",
        "\n",
        "  for x, t in train_loader:\n",
        "    y = model(x)\n",
        "    loss = F.softmax_cross_entropy(y, t)\n",
        "    acc = accuracy(y, t)\n",
        "    model.cleargrads()\n",
        "    loss.backward()\n",
        "    optimizer.update()\n",
        "\n",
        "    sum_loss += float(loss.data) * len(t)\n",
        "    sum_acc += float(acc.data) * len(t)\n",
        "\n",
        "  train_loss_list.append(sum_loss / len(train_set))\n",
        "  train_acc_list.append(sum_acc / len(train_set))\n",
        "\n",
        "  print('epoch: {}'.format(epoch+1))\n",
        "  print('train loss: {:.4f}, accuracy: {:.4f}'.format(sum_loss / len(train_set), sum_acc / len(train_set)))\n",
        "\n",
        "  sum_loss, sum_acc = 0, 0\n",
        "  with dezero.no_grad():\n",
        "    for x, t in test_loader:\n",
        "      y = model(x)\n",
        "      loss = F.softmax_cross_entropy(y, t)\n",
        "      acc = accuracy(y, t)\n",
        "      sum_loss += float(loss.data) * len(t)\n",
        "      sum_acc += float(acc.data) * len(t)\n",
        "\n",
        "  test_loss_list.append(sum_loss / len(train_set))\n",
        "  test_acc_list.append(sum_acc / len(train_set))\n",
        "\n",
        "  print('test loss: {:.4f}, accuracy: {:.4f}'.format(sum_loss / len(train_set), sum_acc / len(train_set)))\n",
        "\n",
        "\n",
        "# 결과 시각화\n",
        "plt.plot(range(max_epoch), train_loss_list, label='train loss')\n",
        "plt.plot(range(max_epoch), test_loss_list, label='test loss')\n",
        "plt.legend()\n",
        "plt.xlabel('epochs')\n",
        "plt.ylabel('loss')\n",
        "plt.title('loss graph')\n",
        "plt.show()\n",
        "\n",
        "plt.plot(range(max_epoch), train_acc_list, label='train acc')\n",
        "plt.plot(range(max_epoch), test_acc_list, label='test acc')\n",
        "plt.legend()\n",
        "plt.xlabel('epochs')\n",
        "plt.ylabel('accuracy')\n",
        "plt.title('acc graph')\n",
        "plt.show()"
      ],
      "execution_count": null,
      "outputs": [
        {
          "output_type": "stream",
          "name": "stdout",
          "text": [
            "epoch: 1\n",
            "train loss: 1.0944, accuracy: 0.4033\n",
            "test loss: 1.0468, accuracy: 0.3267\n",
            "epoch: 2\n",
            "train loss: 0.9882, accuracy: 0.4933\n",
            "test loss: 0.9729, accuracy: 0.4333\n",
            "epoch: 3\n",
            "train loss: 0.9403, accuracy: 0.5133\n",
            "test loss: 0.8965, accuracy: 0.6233\n",
            "epoch: 4\n",
            "train loss: 0.8820, accuracy: 0.5700\n",
            "test loss: 0.8771, accuracy: 0.5967\n",
            "epoch: 5\n",
            "train loss: 0.8617, accuracy: 0.5600\n",
            "test loss: 0.8670, accuracy: 0.5867\n",
            "epoch: 6\n",
            "train loss: 0.8313, accuracy: 0.5300\n",
            "test loss: 0.8654, accuracy: 0.6000\n",
            "epoch: 7\n",
            "train loss: 0.8086, accuracy: 0.5833\n",
            "test loss: 0.7950, accuracy: 0.5600\n",
            "epoch: 8\n",
            "train loss: 0.7948, accuracy: 0.5733\n",
            "test loss: 0.7921, accuracy: 0.5900\n",
            "epoch: 9\n",
            "train loss: 0.7728, accuracy: 0.5500\n",
            "test loss: 0.7718, accuracy: 0.5300\n",
            "epoch: 10\n",
            "train loss: 0.7643, accuracy: 0.5633\n",
            "test loss: 0.7796, accuracy: 0.5800\n",
            "epoch: 11\n",
            "train loss: 0.7862, accuracy: 0.5600\n",
            "test loss: 0.7701, accuracy: 0.5633\n",
            "epoch: 12\n",
            "train loss: 0.7914, accuracy: 0.5500\n",
            "test loss: 0.8218, accuracy: 0.6067\n",
            "epoch: 13\n",
            "train loss: 0.7633, accuracy: 0.5567\n",
            "test loss: 0.7757, accuracy: 0.5800\n",
            "epoch: 14\n",
            "train loss: 0.7612, accuracy: 0.5833\n",
            "test loss: 0.7800, accuracy: 0.5667\n",
            "epoch: 15\n",
            "train loss: 0.7408, accuracy: 0.5667\n",
            "test loss: 0.7654, accuracy: 0.5867\n",
            "epoch: 16\n",
            "train loss: 0.7453, accuracy: 0.5733\n",
            "test loss: 0.7648, accuracy: 0.6033\n",
            "epoch: 17\n",
            "train loss: 0.7843, accuracy: 0.5667\n",
            "test loss: 0.7415, accuracy: 0.5267\n",
            "epoch: 18\n",
            "train loss: 0.7592, accuracy: 0.5633\n",
            "test loss: 0.7388, accuracy: 0.5267\n",
            "epoch: 19\n",
            "train loss: 0.7396, accuracy: 0.5567\n",
            "test loss: 0.7791, accuracy: 0.5667\n",
            "epoch: 20\n",
            "train loss: 0.7376, accuracy: 0.5533\n",
            "test loss: 0.7478, accuracy: 0.5200\n",
            "epoch: 21\n",
            "train loss: 0.7469, accuracy: 0.5600\n",
            "test loss: 0.7617, accuracy: 0.6100\n",
            "epoch: 22\n",
            "train loss: 0.7349, accuracy: 0.5667\n",
            "test loss: 0.7476, accuracy: 0.5967\n",
            "epoch: 23\n",
            "train loss: 0.7650, accuracy: 0.5600\n",
            "test loss: 0.7336, accuracy: 0.5433\n",
            "epoch: 24\n",
            "train loss: 0.7495, accuracy: 0.5667\n",
            "test loss: 0.7366, accuracy: 0.5500\n",
            "epoch: 25\n",
            "train loss: 0.7414, accuracy: 0.5700\n",
            "test loss: 0.7516, accuracy: 0.6133\n",
            "epoch: 26\n",
            "train loss: 0.7298, accuracy: 0.5900\n",
            "test loss: 0.7327, accuracy: 0.5533\n",
            "epoch: 27\n",
            "train loss: 0.7297, accuracy: 0.5700\n",
            "test loss: 0.7356, accuracy: 0.5933\n",
            "epoch: 28\n",
            "train loss: 0.7267, accuracy: 0.5900\n",
            "test loss: 0.7240, accuracy: 0.5233\n",
            "epoch: 29\n",
            "train loss: 0.7359, accuracy: 0.5800\n",
            "test loss: 0.7203, accuracy: 0.5533\n",
            "epoch: 30\n",
            "train loss: 0.7273, accuracy: 0.5600\n",
            "test loss: 0.7382, accuracy: 0.5433\n",
            "epoch: 31\n",
            "train loss: 0.7338, accuracy: 0.5867\n",
            "test loss: 0.7492, accuracy: 0.5933\n",
            "epoch: 32\n",
            "train loss: 0.7092, accuracy: 0.5900\n",
            "test loss: 0.7241, accuracy: 0.5500\n",
            "epoch: 33\n",
            "train loss: 0.6970, accuracy: 0.5767\n",
            "test loss: 0.7483, accuracy: 0.6167\n",
            "epoch: 34\n",
            "train loss: 0.7048, accuracy: 0.5967\n",
            "test loss: 0.7170, accuracy: 0.5433\n",
            "epoch: 35\n",
            "train loss: 0.7069, accuracy: 0.5967\n",
            "test loss: 0.7164, accuracy: 0.5467\n",
            "epoch: 36\n",
            "train loss: 0.7199, accuracy: 0.5800\n",
            "test loss: 0.7318, accuracy: 0.6133\n",
            "epoch: 37\n",
            "train loss: 0.7035, accuracy: 0.6167\n",
            "test loss: 0.7266, accuracy: 0.5900\n",
            "epoch: 38\n",
            "train loss: 0.6992, accuracy: 0.5767\n",
            "test loss: 0.7419, accuracy: 0.6000\n",
            "epoch: 39\n",
            "train loss: 0.7103, accuracy: 0.6000\n",
            "test loss: 0.7077, accuracy: 0.5333\n",
            "epoch: 40\n",
            "train loss: 0.7064, accuracy: 0.5733\n",
            "test loss: 0.7335, accuracy: 0.5900\n",
            "epoch: 41\n",
            "train loss: 0.7022, accuracy: 0.5767\n",
            "test loss: 0.7087, accuracy: 0.6100\n",
            "epoch: 42\n",
            "train loss: 0.7047, accuracy: 0.6000\n",
            "test loss: 0.6951, accuracy: 0.5800\n",
            "epoch: 43\n",
            "train loss: 0.7071, accuracy: 0.6000\n",
            "test loss: 0.7009, accuracy: 0.6133\n",
            "epoch: 44\n",
            "train loss: 0.7041, accuracy: 0.6033\n",
            "test loss: 0.6914, accuracy: 0.5833\n",
            "epoch: 45\n",
            "train loss: 0.6854, accuracy: 0.5767\n",
            "test loss: 0.7122, accuracy: 0.6100\n",
            "epoch: 46\n",
            "train loss: 0.6771, accuracy: 0.6067\n",
            "test loss: 0.6874, accuracy: 0.5600\n",
            "epoch: 47\n",
            "train loss: 0.6781, accuracy: 0.5900\n",
            "test loss: 0.6995, accuracy: 0.6467\n",
            "epoch: 48\n",
            "train loss: 0.6875, accuracy: 0.5933\n",
            "test loss: 0.7021, accuracy: 0.6300\n",
            "epoch: 49\n",
            "train loss: 0.6641, accuracy: 0.6000\n",
            "test loss: 0.6897, accuracy: 0.6000\n",
            "epoch: 50\n",
            "train loss: 0.6683, accuracy: 0.6200\n",
            "test loss: 0.6850, accuracy: 0.5867\n",
            "epoch: 51\n",
            "train loss: 0.6554, accuracy: 0.6033\n",
            "test loss: 0.6698, accuracy: 0.6367\n",
            "epoch: 52\n",
            "train loss: 0.6528, accuracy: 0.6200\n",
            "test loss: 0.6789, accuracy: 0.5800\n",
            "epoch: 53\n",
            "train loss: 0.6500, accuracy: 0.6467\n",
            "test loss: 0.6691, accuracy: 0.6467\n",
            "epoch: 54\n",
            "train loss: 0.6449, accuracy: 0.6267\n",
            "test loss: 0.6562, accuracy: 0.6633\n",
            "epoch: 55\n",
            "train loss: 0.6549, accuracy: 0.6500\n",
            "test loss: 0.6892, accuracy: 0.6467\n",
            "epoch: 56\n",
            "train loss: 0.6504, accuracy: 0.6400\n",
            "test loss: 0.6421, accuracy: 0.6167\n",
            "epoch: 57\n",
            "train loss: 0.6396, accuracy: 0.6667\n",
            "test loss: 0.6451, accuracy: 0.6167\n",
            "epoch: 58\n",
            "train loss: 0.6251, accuracy: 0.6733\n",
            "test loss: 0.6415, accuracy: 0.6200\n",
            "epoch: 59\n",
            "train loss: 0.6150, accuracy: 0.6433\n",
            "test loss: 0.6285, accuracy: 0.6267\n",
            "epoch: 60\n",
            "train loss: 0.6122, accuracy: 0.6633\n",
            "test loss: 0.6169, accuracy: 0.6400\n",
            "epoch: 61\n",
            "train loss: 0.5987, accuracy: 0.6767\n",
            "test loss: 0.6183, accuracy: 0.6167\n",
            "epoch: 62\n",
            "train loss: 0.5920, accuracy: 0.6667\n",
            "test loss: 0.6076, accuracy: 0.6967\n",
            "epoch: 63\n",
            "train loss: 0.5914, accuracy: 0.6700\n",
            "test loss: 0.6020, accuracy: 0.6300\n",
            "epoch: 64\n",
            "train loss: 0.5911, accuracy: 0.6867\n",
            "test loss: 0.5981, accuracy: 0.6533\n",
            "epoch: 65\n",
            "train loss: 0.5626, accuracy: 0.7000\n",
            "test loss: 0.6124, accuracy: 0.7100\n",
            "epoch: 66\n",
            "train loss: 0.5707, accuracy: 0.7067\n",
            "test loss: 0.5760, accuracy: 0.6567\n",
            "epoch: 67\n",
            "train loss: 0.5574, accuracy: 0.6900\n",
            "test loss: 0.5834, accuracy: 0.6967\n",
            "epoch: 68\n",
            "train loss: 0.5560, accuracy: 0.7133\n",
            "test loss: 0.5589, accuracy: 0.6933\n",
            "epoch: 69\n",
            "train loss: 0.5355, accuracy: 0.7267\n",
            "test loss: 0.5530, accuracy: 0.6967\n",
            "epoch: 70\n",
            "train loss: 0.5303, accuracy: 0.7300\n",
            "test loss: 0.5380, accuracy: 0.7267\n",
            "epoch: 71\n",
            "train loss: 0.5207, accuracy: 0.7167\n",
            "test loss: 0.5315, accuracy: 0.7367\n",
            "epoch: 72\n",
            "train loss: 0.5094, accuracy: 0.7533\n",
            "test loss: 0.5340, accuracy: 0.7367\n",
            "epoch: 73\n",
            "train loss: 0.5110, accuracy: 0.7400\n",
            "test loss: 0.5127, accuracy: 0.7433\n",
            "epoch: 74\n",
            "train loss: 0.4921, accuracy: 0.7500\n",
            "test loss: 0.5051, accuracy: 0.7400\n",
            "epoch: 75\n",
            "train loss: 0.4882, accuracy: 0.7700\n",
            "test loss: 0.5268, accuracy: 0.7467\n",
            "epoch: 76\n",
            "train loss: 0.4859, accuracy: 0.7533\n",
            "test loss: 0.4997, accuracy: 0.7400\n",
            "epoch: 77\n",
            "train loss: 0.4701, accuracy: 0.7767\n",
            "test loss: 0.4814, accuracy: 0.7800\n",
            "epoch: 78\n",
            "train loss: 0.4574, accuracy: 0.7733\n",
            "test loss: 0.4736, accuracy: 0.7700\n",
            "epoch: 79\n",
            "train loss: 0.4547, accuracy: 0.7533\n",
            "test loss: 0.4665, accuracy: 0.7900\n",
            "epoch: 80\n",
            "train loss: 0.4533, accuracy: 0.7667\n",
            "test loss: 0.4601, accuracy: 0.7900\n",
            "epoch: 81\n",
            "train loss: 0.4431, accuracy: 0.7967\n",
            "test loss: 0.4496, accuracy: 0.7900\n",
            "epoch: 82\n",
            "train loss: 0.4309, accuracy: 0.8167\n",
            "test loss: 0.4421, accuracy: 0.7867\n",
            "epoch: 83\n",
            "train loss: 0.4282, accuracy: 0.8167\n",
            "test loss: 0.4431, accuracy: 0.7833\n",
            "epoch: 84\n",
            "train loss: 0.4132, accuracy: 0.8167\n",
            "test loss: 0.4353, accuracy: 0.8200\n",
            "epoch: 85\n",
            "train loss: 0.4132, accuracy: 0.8167\n",
            "test loss: 0.4260, accuracy: 0.8367\n",
            "epoch: 86\n",
            "train loss: 0.4047, accuracy: 0.8167\n",
            "test loss: 0.4248, accuracy: 0.8400\n",
            "epoch: 87\n",
            "train loss: 0.3968, accuracy: 0.8367\n",
            "test loss: 0.4031, accuracy: 0.8333\n",
            "epoch: 88\n",
            "train loss: 0.3942, accuracy: 0.8267\n",
            "test loss: 0.4091, accuracy: 0.8333\n",
            "epoch: 89\n",
            "train loss: 0.3746, accuracy: 0.8333\n",
            "test loss: 0.3962, accuracy: 0.8100\n",
            "epoch: 90\n",
            "train loss: 0.3772, accuracy: 0.8333\n",
            "test loss: 0.3831, accuracy: 0.8300\n",
            "epoch: 91\n",
            "train loss: 0.3669, accuracy: 0.8467\n",
            "test loss: 0.3844, accuracy: 0.8433\n",
            "epoch: 92\n",
            "train loss: 0.3554, accuracy: 0.8600\n",
            "test loss: 0.3752, accuracy: 0.8567\n",
            "epoch: 93\n",
            "train loss: 0.3491, accuracy: 0.8700\n",
            "test loss: 0.3720, accuracy: 0.8400\n",
            "epoch: 94\n",
            "train loss: 0.3440, accuracy: 0.8533\n",
            "test loss: 0.3595, accuracy: 0.8600\n",
            "epoch: 95\n",
            "train loss: 0.3408, accuracy: 0.8633\n",
            "test loss: 0.3533, accuracy: 0.8700\n",
            "epoch: 96\n",
            "train loss: 0.3336, accuracy: 0.8600\n",
            "test loss: 0.3515, accuracy: 0.8800\n",
            "epoch: 97\n",
            "train loss: 0.3295, accuracy: 0.8700\n",
            "test loss: 0.3437, accuracy: 0.8933\n",
            "epoch: 98\n",
            "train loss: 0.3208, accuracy: 0.9133\n",
            "test loss: 0.3433, accuracy: 0.8533\n",
            "epoch: 99\n",
            "train loss: 0.3212, accuracy: 0.8667\n",
            "test loss: 0.3302, accuracy: 0.8633\n",
            "epoch: 100\n",
            "train loss: 0.3146, accuracy: 0.8700\n",
            "test loss: 0.3248, accuracy: 0.8600\n",
            "epoch: 101\n",
            "train loss: 0.3090, accuracy: 0.8633\n",
            "test loss: 0.3268, accuracy: 0.8833\n",
            "epoch: 102\n",
            "train loss: 0.3024, accuracy: 0.8933\n",
            "test loss: 0.3195, accuracy: 0.8533\n",
            "epoch: 103\n",
            "train loss: 0.3009, accuracy: 0.8933\n",
            "test loss: 0.3122, accuracy: 0.8900\n",
            "epoch: 104\n",
            "train loss: 0.2930, accuracy: 0.9067\n",
            "test loss: 0.3087, accuracy: 0.8633\n",
            "epoch: 105\n",
            "train loss: 0.2881, accuracy: 0.9067\n",
            "test loss: 0.3111, accuracy: 0.8567\n",
            "epoch: 106\n",
            "train loss: 0.2785, accuracy: 0.9167\n",
            "test loss: 0.3026, accuracy: 0.8867\n",
            "epoch: 107\n",
            "train loss: 0.2786, accuracy: 0.8933\n",
            "test loss: 0.2952, accuracy: 0.8833\n",
            "epoch: 108\n",
            "train loss: 0.2756, accuracy: 0.9100\n",
            "test loss: 0.2912, accuracy: 0.8800\n",
            "epoch: 109\n",
            "train loss: 0.2744, accuracy: 0.9200\n",
            "test loss: 0.2965, accuracy: 0.8667\n",
            "epoch: 110\n",
            "train loss: 0.2705, accuracy: 0.9267\n",
            "test loss: 0.2856, accuracy: 0.8933\n",
            "epoch: 111\n",
            "train loss: 0.2645, accuracy: 0.9067\n",
            "test loss: 0.2814, accuracy: 0.8867\n",
            "epoch: 112\n",
            "train loss: 0.2624, accuracy: 0.9100\n",
            "test loss: 0.2835, accuracy: 0.8700\n",
            "epoch: 113\n",
            "train loss: 0.2608, accuracy: 0.9067\n",
            "test loss: 0.2752, accuracy: 0.8933\n",
            "epoch: 114\n",
            "train loss: 0.2524, accuracy: 0.9167\n",
            "test loss: 0.2740, accuracy: 0.9033\n",
            "epoch: 115\n",
            "train loss: 0.2484, accuracy: 0.9167\n",
            "test loss: 0.2688, accuracy: 0.8967\n",
            "epoch: 116\n",
            "train loss: 0.2480, accuracy: 0.9200\n",
            "test loss: 0.2768, accuracy: 0.8600\n",
            "epoch: 117\n",
            "train loss: 0.2445, accuracy: 0.9133\n",
            "test loss: 0.2635, accuracy: 0.9067\n",
            "epoch: 118\n",
            "train loss: 0.2444, accuracy: 0.9267\n",
            "test loss: 0.2593, accuracy: 0.8967\n",
            "epoch: 119\n",
            "train loss: 0.2379, accuracy: 0.9267\n",
            "test loss: 0.2576, accuracy: 0.8867\n",
            "epoch: 120\n",
            "train loss: 0.2361, accuracy: 0.9200\n",
            "test loss: 0.2573, accuracy: 0.9200\n",
            "epoch: 121\n",
            "train loss: 0.2372, accuracy: 0.9333\n",
            "test loss: 0.2534, accuracy: 0.9067\n",
            "epoch: 122\n",
            "train loss: 0.2305, accuracy: 0.9333\n",
            "test loss: 0.2511, accuracy: 0.8867\n",
            "epoch: 123\n",
            "train loss: 0.2277, accuracy: 0.9367\n",
            "test loss: 0.2531, accuracy: 0.9000\n",
            "epoch: 124\n",
            "train loss: 0.2318, accuracy: 0.9233\n",
            "test loss: 0.2456, accuracy: 0.9067\n",
            "epoch: 125\n",
            "train loss: 0.2248, accuracy: 0.9400\n",
            "test loss: 0.2454, accuracy: 0.9133\n",
            "epoch: 126\n",
            "train loss: 0.2229, accuracy: 0.9433\n",
            "test loss: 0.2427, accuracy: 0.9033\n",
            "epoch: 127\n",
            "train loss: 0.2264, accuracy: 0.9167\n",
            "test loss: 0.2433, accuracy: 0.9000\n",
            "epoch: 128\n",
            "train loss: 0.2152, accuracy: 0.9333\n",
            "test loss: 0.2373, accuracy: 0.9133\n",
            "epoch: 129\n",
            "train loss: 0.2176, accuracy: 0.9367\n",
            "test loss: 0.2402, accuracy: 0.8967\n",
            "epoch: 130\n",
            "train loss: 0.2149, accuracy: 0.9200\n",
            "test loss: 0.2332, accuracy: 0.9033\n",
            "epoch: 131\n",
            "train loss: 0.2136, accuracy: 0.9333\n",
            "test loss: 0.2377, accuracy: 0.8933\n",
            "epoch: 132\n",
            "train loss: 0.2143, accuracy: 0.9200\n",
            "test loss: 0.2304, accuracy: 0.9167\n",
            "epoch: 133\n",
            "train loss: 0.2141, accuracy: 0.9267\n",
            "test loss: 0.2449, accuracy: 0.8833\n",
            "epoch: 134\n",
            "train loss: 0.2088, accuracy: 0.9133\n",
            "test loss: 0.2362, accuracy: 0.8900\n",
            "epoch: 135\n",
            "train loss: 0.2046, accuracy: 0.9333\n",
            "test loss: 0.2278, accuracy: 0.9133\n",
            "epoch: 136\n",
            "train loss: 0.2021, accuracy: 0.9333\n",
            "test loss: 0.2275, accuracy: 0.9200\n",
            "epoch: 137\n",
            "train loss: 0.2046, accuracy: 0.9333\n",
            "test loss: 0.2236, accuracy: 0.9167\n",
            "epoch: 138\n",
            "train loss: 0.1991, accuracy: 0.9267\n",
            "test loss: 0.2207, accuracy: 0.9233\n",
            "epoch: 139\n",
            "train loss: 0.1960, accuracy: 0.9433\n",
            "test loss: 0.2216, accuracy: 0.9267\n",
            "epoch: 140\n",
            "train loss: 0.1981, accuracy: 0.9333\n",
            "test loss: 0.2178, accuracy: 0.9233\n",
            "epoch: 141\n",
            "train loss: 0.1945, accuracy: 0.9367\n",
            "test loss: 0.2194, accuracy: 0.9200\n",
            "epoch: 142\n",
            "train loss: 0.1969, accuracy: 0.9233\n",
            "test loss: 0.2158, accuracy: 0.9233\n",
            "epoch: 143\n",
            "train loss: 0.1942, accuracy: 0.9333\n",
            "test loss: 0.2127, accuracy: 0.9167\n",
            "epoch: 144\n",
            "train loss: 0.1886, accuracy: 0.9433\n",
            "test loss: 0.2288, accuracy: 0.8933\n",
            "epoch: 145\n",
            "train loss: 0.1966, accuracy: 0.9133\n",
            "test loss: 0.2103, accuracy: 0.9167\n",
            "epoch: 146\n",
            "train loss: 0.1899, accuracy: 0.9300\n",
            "test loss: 0.2124, accuracy: 0.9100\n",
            "epoch: 147\n",
            "train loss: 0.1890, accuracy: 0.9400\n",
            "test loss: 0.2104, accuracy: 0.9200\n",
            "epoch: 148\n",
            "train loss: 0.1865, accuracy: 0.9333\n",
            "test loss: 0.2080, accuracy: 0.9267\n",
            "epoch: 149\n",
            "train loss: 0.1825, accuracy: 0.9367\n",
            "test loss: 0.2285, accuracy: 0.8967\n",
            "epoch: 150\n",
            "train loss: 0.1890, accuracy: 0.9233\n",
            "test loss: 0.2152, accuracy: 0.9067\n",
            "epoch: 151\n",
            "train loss: 0.1828, accuracy: 0.9400\n",
            "test loss: 0.2042, accuracy: 0.9300\n",
            "epoch: 152\n",
            "train loss: 0.1807, accuracy: 0.9467\n",
            "test loss: 0.2136, accuracy: 0.9067\n",
            "epoch: 153\n",
            "train loss: 0.1795, accuracy: 0.9333\n",
            "test loss: 0.2076, accuracy: 0.9033\n",
            "epoch: 154\n",
            "train loss: 0.1797, accuracy: 0.9300\n",
            "test loss: 0.2052, accuracy: 0.9200\n",
            "epoch: 155\n",
            "train loss: 0.1816, accuracy: 0.9400\n",
            "test loss: 0.2015, accuracy: 0.9233\n",
            "epoch: 156\n",
            "train loss: 0.1791, accuracy: 0.9300\n",
            "test loss: 0.2012, accuracy: 0.9333\n",
            "epoch: 157\n",
            "train loss: 0.1791, accuracy: 0.9367\n",
            "test loss: 0.1978, accuracy: 0.9267\n",
            "epoch: 158\n",
            "train loss: 0.1751, accuracy: 0.9400\n",
            "test loss: 0.2046, accuracy: 0.9033\n",
            "epoch: 159\n",
            "train loss: 0.1719, accuracy: 0.9433\n",
            "test loss: 0.2039, accuracy: 0.9067\n",
            "epoch: 160\n",
            "train loss: 0.1730, accuracy: 0.9433\n",
            "test loss: 0.1963, accuracy: 0.9300\n",
            "epoch: 161\n",
            "train loss: 0.1690, accuracy: 0.9467\n",
            "test loss: 0.1973, accuracy: 0.9267\n",
            "epoch: 162\n",
            "train loss: 0.1676, accuracy: 0.9567\n",
            "test loss: 0.1951, accuracy: 0.9400\n",
            "epoch: 163\n",
            "train loss: 0.1734, accuracy: 0.9433\n",
            "test loss: 0.1941, accuracy: 0.9300\n",
            "epoch: 164\n",
            "train loss: 0.1725, accuracy: 0.9233\n",
            "test loss: 0.1922, accuracy: 0.9367\n",
            "epoch: 165\n",
            "train loss: 0.1665, accuracy: 0.9433\n",
            "test loss: 0.1951, accuracy: 0.9233\n",
            "epoch: 166\n",
            "train loss: 0.1698, accuracy: 0.9433\n",
            "test loss: 0.1907, accuracy: 0.9333\n",
            "epoch: 167\n",
            "train loss: 0.1737, accuracy: 0.9300\n",
            "test loss: 0.1923, accuracy: 0.9300\n",
            "epoch: 168\n",
            "train loss: 0.1661, accuracy: 0.9367\n",
            "test loss: 0.1944, accuracy: 0.9300\n",
            "epoch: 169\n",
            "train loss: 0.1635, accuracy: 0.9567\n",
            "test loss: 0.1894, accuracy: 0.9233\n",
            "epoch: 170\n",
            "train loss: 0.1688, accuracy: 0.9400\n",
            "test loss: 0.1878, accuracy: 0.9300\n",
            "epoch: 171\n",
            "train loss: 0.1675, accuracy: 0.9300\n",
            "test loss: 0.1899, accuracy: 0.9367\n",
            "epoch: 172\n",
            "train loss: 0.1602, accuracy: 0.9500\n",
            "test loss: 0.1859, accuracy: 0.9400\n",
            "epoch: 173\n",
            "train loss: 0.1644, accuracy: 0.9433\n",
            "test loss: 0.1901, accuracy: 0.9267\n",
            "epoch: 174\n",
            "train loss: 0.1597, accuracy: 0.9500\n",
            "test loss: 0.1878, accuracy: 0.9267\n",
            "epoch: 175\n",
            "train loss: 0.1599, accuracy: 0.9400\n",
            "test loss: 0.1840, accuracy: 0.9367\n",
            "epoch: 176\n",
            "train loss: 0.1612, accuracy: 0.9533\n",
            "test loss: 0.1909, accuracy: 0.9200\n",
            "epoch: 177\n",
            "train loss: 0.1582, accuracy: 0.9500\n",
            "test loss: 0.1829, accuracy: 0.9433\n",
            "epoch: 178\n",
            "train loss: 0.1599, accuracy: 0.9433\n",
            "test loss: 0.1847, accuracy: 0.9333\n",
            "epoch: 179\n",
            "train loss: 0.1541, accuracy: 0.9400\n",
            "test loss: 0.1892, accuracy: 0.9267\n",
            "epoch: 180\n",
            "train loss: 0.1539, accuracy: 0.9500\n",
            "test loss: 0.1814, accuracy: 0.9367\n",
            "epoch: 181\n",
            "train loss: 0.1572, accuracy: 0.9400\n",
            "test loss: 0.1960, accuracy: 0.9333\n",
            "epoch: 182\n",
            "train loss: 0.1612, accuracy: 0.9400\n",
            "test loss: 0.1824, accuracy: 0.9367\n",
            "epoch: 183\n",
            "train loss: 0.1533, accuracy: 0.9533\n",
            "test loss: 0.1836, accuracy: 0.9233\n",
            "epoch: 184\n",
            "train loss: 0.1526, accuracy: 0.9533\n",
            "test loss: 0.1787, accuracy: 0.9433\n",
            "epoch: 185\n",
            "train loss: 0.1530, accuracy: 0.9533\n",
            "test loss: 0.1892, accuracy: 0.9100\n",
            "epoch: 186\n",
            "train loss: 0.1558, accuracy: 0.9433\n",
            "test loss: 0.1840, accuracy: 0.9267\n",
            "epoch: 187\n",
            "train loss: 0.1559, accuracy: 0.9400\n",
            "test loss: 0.1775, accuracy: 0.9367\n",
            "epoch: 188\n",
            "train loss: 0.1513, accuracy: 0.9500\n",
            "test loss: 0.1775, accuracy: 0.9367\n",
            "epoch: 189\n",
            "train loss: 0.1491, accuracy: 0.9533\n",
            "test loss: 0.1850, accuracy: 0.9267\n",
            "epoch: 190\n",
            "train loss: 0.1488, accuracy: 0.9500\n",
            "test loss: 0.1790, accuracy: 0.9333\n",
            "epoch: 191\n",
            "train loss: 0.1499, accuracy: 0.9467\n",
            "test loss: 0.1755, accuracy: 0.9400\n",
            "epoch: 192\n",
            "train loss: 0.1469, accuracy: 0.9433\n",
            "test loss: 0.1788, accuracy: 0.9267\n",
            "epoch: 193\n",
            "train loss: 0.1528, accuracy: 0.9433\n",
            "test loss: 0.1769, accuracy: 0.9367\n",
            "epoch: 194\n",
            "train loss: 0.1482, accuracy: 0.9433\n",
            "test loss: 0.1737, accuracy: 0.9467\n",
            "epoch: 195\n",
            "train loss: 0.1425, accuracy: 0.9533\n",
            "test loss: 0.1770, accuracy: 0.9333\n",
            "epoch: 196\n",
            "train loss: 0.1493, accuracy: 0.9433\n",
            "test loss: 0.1757, accuracy: 0.9300\n",
            "epoch: 197\n",
            "train loss: 0.1436, accuracy: 0.9467\n",
            "test loss: 0.1752, accuracy: 0.9300\n",
            "epoch: 198\n",
            "train loss: 0.1449, accuracy: 0.9433\n",
            "test loss: 0.1721, accuracy: 0.9433\n",
            "epoch: 199\n",
            "train loss: 0.1456, accuracy: 0.9467\n",
            "test loss: 0.1734, accuracy: 0.9300\n",
            "epoch: 200\n",
            "train loss: 0.1447, accuracy: 0.9500\n",
            "test loss: 0.1710, accuracy: 0.9433\n",
            "epoch: 201\n",
            "train loss: 0.1426, accuracy: 0.9500\n",
            "test loss: 0.1707, accuracy: 0.9433\n",
            "epoch: 202\n",
            "train loss: 0.1406, accuracy: 0.9600\n",
            "test loss: 0.1733, accuracy: 0.9400\n",
            "epoch: 203\n",
            "train loss: 0.1388, accuracy: 0.9667\n",
            "test loss: 0.1760, accuracy: 0.9333\n",
            "epoch: 204\n",
            "train loss: 0.1427, accuracy: 0.9433\n",
            "test loss: 0.1696, accuracy: 0.9467\n",
            "epoch: 205\n",
            "train loss: 0.1403, accuracy: 0.9567\n",
            "test loss: 0.1754, accuracy: 0.9433\n",
            "epoch: 206\n",
            "train loss: 0.1436, accuracy: 0.9400\n",
            "test loss: 0.1698, accuracy: 0.9433\n",
            "epoch: 207\n",
            "train loss: 0.1410, accuracy: 0.9567\n",
            "test loss: 0.1723, accuracy: 0.9333\n",
            "epoch: 208\n",
            "train loss: 0.1418, accuracy: 0.9567\n",
            "test loss: 0.1685, accuracy: 0.9400\n",
            "epoch: 209\n",
            "train loss: 0.1408, accuracy: 0.9467\n",
            "test loss: 0.1695, accuracy: 0.9367\n",
            "epoch: 210\n",
            "train loss: 0.1382, accuracy: 0.9533\n",
            "test loss: 0.1676, accuracy: 0.9467\n",
            "epoch: 211\n",
            "train loss: 0.1359, accuracy: 0.9633\n",
            "test loss: 0.1815, accuracy: 0.9367\n",
            "epoch: 212\n",
            "train loss: 0.1377, accuracy: 0.9600\n",
            "test loss: 0.1677, accuracy: 0.9433\n",
            "epoch: 213\n",
            "train loss: 0.1350, accuracy: 0.9467\n",
            "test loss: 0.1669, accuracy: 0.9467\n",
            "epoch: 214\n",
            "train loss: 0.1340, accuracy: 0.9600\n",
            "test loss: 0.1727, accuracy: 0.9367\n",
            "epoch: 215\n",
            "train loss: 0.1425, accuracy: 0.9567\n",
            "test loss: 0.1654, accuracy: 0.9467\n",
            "epoch: 216\n",
            "train loss: 0.1404, accuracy: 0.9533\n",
            "test loss: 0.1685, accuracy: 0.9333\n",
            "epoch: 217\n",
            "train loss: 0.1349, accuracy: 0.9567\n",
            "test loss: 0.1688, accuracy: 0.9367\n",
            "epoch: 218\n",
            "train loss: 0.1410, accuracy: 0.9533\n",
            "test loss: 0.1678, accuracy: 0.9300\n",
            "epoch: 219\n",
            "train loss: 0.1342, accuracy: 0.9533\n",
            "test loss: 0.1663, accuracy: 0.9400\n",
            "epoch: 220\n",
            "train loss: 0.1361, accuracy: 0.9500\n",
            "test loss: 0.1649, accuracy: 0.9433\n",
            "epoch: 221\n",
            "train loss: 0.1361, accuracy: 0.9500\n",
            "test loss: 0.1632, accuracy: 0.9533\n",
            "epoch: 222\n",
            "train loss: 0.1318, accuracy: 0.9633\n",
            "test loss: 0.1661, accuracy: 0.9433\n",
            "epoch: 223\n",
            "train loss: 0.1345, accuracy: 0.9567\n",
            "test loss: 0.1629, accuracy: 0.9467\n",
            "epoch: 224\n",
            "train loss: 0.1319, accuracy: 0.9600\n",
            "test loss: 0.1629, accuracy: 0.9533\n",
            "epoch: 225\n",
            "train loss: 0.1334, accuracy: 0.9533\n",
            "test loss: 0.1620, accuracy: 0.9500\n",
            "epoch: 226\n",
            "train loss: 0.1339, accuracy: 0.9633\n",
            "test loss: 0.1675, accuracy: 0.9367\n",
            "epoch: 227\n",
            "train loss: 0.1364, accuracy: 0.9467\n",
            "test loss: 0.1613, accuracy: 0.9467\n",
            "epoch: 228\n",
            "train loss: 0.1319, accuracy: 0.9533\n",
            "test loss: 0.1616, accuracy: 0.9467\n",
            "epoch: 229\n",
            "train loss: 0.1301, accuracy: 0.9600\n",
            "test loss: 0.1640, accuracy: 0.9300\n",
            "epoch: 230\n",
            "train loss: 0.1298, accuracy: 0.9467\n",
            "test loss: 0.1656, accuracy: 0.9333\n",
            "epoch: 231\n",
            "train loss: 0.1289, accuracy: 0.9567\n",
            "test loss: 0.1633, accuracy: 0.9500\n",
            "epoch: 232\n",
            "train loss: 0.1276, accuracy: 0.9600\n",
            "test loss: 0.1632, accuracy: 0.9433\n",
            "epoch: 233\n",
            "train loss: 0.1269, accuracy: 0.9567\n",
            "test loss: 0.1675, accuracy: 0.9333\n",
            "epoch: 234\n",
            "train loss: 0.1311, accuracy: 0.9600\n",
            "test loss: 0.1630, accuracy: 0.9433\n",
            "epoch: 235\n",
            "train loss: 0.1335, accuracy: 0.9500\n",
            "test loss: 0.1602, accuracy: 0.9467\n",
            "epoch: 236\n",
            "train loss: 0.1275, accuracy: 0.9633\n",
            "test loss: 0.1596, accuracy: 0.9500\n",
            "epoch: 237\n",
            "train loss: 0.1227, accuracy: 0.9633\n",
            "test loss: 0.1619, accuracy: 0.9467\n",
            "epoch: 238\n",
            "train loss: 0.1275, accuracy: 0.9600\n",
            "test loss: 0.1588, accuracy: 0.9433\n",
            "epoch: 239\n",
            "train loss: 0.1270, accuracy: 0.9533\n",
            "test loss: 0.1657, accuracy: 0.9367\n",
            "epoch: 240\n",
            "train loss: 0.1251, accuracy: 0.9500\n",
            "test loss: 0.1583, accuracy: 0.9433\n",
            "epoch: 241\n",
            "train loss: 0.1273, accuracy: 0.9533\n",
            "test loss: 0.1589, accuracy: 0.9500\n",
            "epoch: 242\n",
            "train loss: 0.1268, accuracy: 0.9567\n",
            "test loss: 0.1584, accuracy: 0.9500\n",
            "epoch: 243\n",
            "train loss: 0.1242, accuracy: 0.9633\n",
            "test loss: 0.1580, accuracy: 0.9433\n",
            "epoch: 244\n",
            "train loss: 0.1232, accuracy: 0.9633\n",
            "test loss: 0.1642, accuracy: 0.9433\n",
            "epoch: 245\n",
            "train loss: 0.1247, accuracy: 0.9600\n",
            "test loss: 0.1562, accuracy: 0.9500\n",
            "epoch: 246\n",
            "train loss: 0.1273, accuracy: 0.9567\n",
            "test loss: 0.1555, accuracy: 0.9500\n",
            "epoch: 247\n",
            "train loss: 0.1305, accuracy: 0.9500\n",
            "test loss: 0.1552, accuracy: 0.9533\n",
            "epoch: 248\n",
            "train loss: 0.1274, accuracy: 0.9500\n",
            "test loss: 0.1579, accuracy: 0.9467\n",
            "epoch: 249\n",
            "train loss: 0.1282, accuracy: 0.9500\n",
            "test loss: 0.1589, accuracy: 0.9500\n",
            "epoch: 250\n",
            "train loss: 0.1286, accuracy: 0.9600\n",
            "test loss: 0.1548, accuracy: 0.9533\n",
            "epoch: 251\n",
            "train loss: 0.1251, accuracy: 0.9667\n",
            "test loss: 0.1566, accuracy: 0.9400\n",
            "epoch: 252\n",
            "train loss: 0.1213, accuracy: 0.9533\n",
            "test loss: 0.1615, accuracy: 0.9167\n",
            "epoch: 253\n",
            "train loss: 0.1232, accuracy: 0.9633\n",
            "test loss: 0.1588, accuracy: 0.9433\n",
            "epoch: 254\n",
            "train loss: 0.1238, accuracy: 0.9567\n",
            "test loss: 0.1564, accuracy: 0.9400\n",
            "epoch: 255\n",
            "train loss: 0.1212, accuracy: 0.9633\n",
            "test loss: 0.1571, accuracy: 0.9533\n",
            "epoch: 256\n",
            "train loss: 0.1261, accuracy: 0.9600\n",
            "test loss: 0.1546, accuracy: 0.9433\n",
            "epoch: 257\n",
            "train loss: 0.1238, accuracy: 0.9600\n",
            "test loss: 0.1575, accuracy: 0.9533\n",
            "epoch: 258\n",
            "train loss: 0.1224, accuracy: 0.9633\n",
            "test loss: 0.1583, accuracy: 0.9333\n",
            "epoch: 259\n",
            "train loss: 0.1239, accuracy: 0.9533\n",
            "test loss: 0.1534, accuracy: 0.9467\n",
            "epoch: 260\n",
            "train loss: 0.1288, accuracy: 0.9567\n",
            "test loss: 0.1522, accuracy: 0.9500\n",
            "epoch: 261\n",
            "train loss: 0.1245, accuracy: 0.9567\n",
            "test loss: 0.1530, accuracy: 0.9500\n",
            "epoch: 262\n",
            "train loss: 0.1225, accuracy: 0.9600\n",
            "test loss: 0.1549, accuracy: 0.9433\n",
            "epoch: 263\n",
            "train loss: 0.1193, accuracy: 0.9533\n",
            "test loss: 0.1523, accuracy: 0.9533\n",
            "epoch: 264\n",
            "train loss: 0.1177, accuracy: 0.9633\n",
            "test loss: 0.1553, accuracy: 0.9433\n",
            "epoch: 265\n",
            "train loss: 0.1140, accuracy: 0.9633\n",
            "test loss: 0.1566, accuracy: 0.9500\n",
            "epoch: 266\n",
            "train loss: 0.1210, accuracy: 0.9500\n",
            "test loss: 0.1507, accuracy: 0.9533\n",
            "epoch: 267\n",
            "train loss: 0.1224, accuracy: 0.9567\n",
            "test loss: 0.1511, accuracy: 0.9500\n",
            "epoch: 268\n",
            "train loss: 0.1234, accuracy: 0.9500\n",
            "test loss: 0.1504, accuracy: 0.9533\n",
            "epoch: 269\n",
            "train loss: 0.1163, accuracy: 0.9567\n",
            "test loss: 0.1511, accuracy: 0.9500\n",
            "epoch: 270\n",
            "train loss: 0.1191, accuracy: 0.9567\n",
            "test loss: 0.1507, accuracy: 0.9533\n",
            "epoch: 271\n",
            "train loss: 0.1187, accuracy: 0.9567\n",
            "test loss: 0.1543, accuracy: 0.9367\n",
            "epoch: 272\n",
            "train loss: 0.1182, accuracy: 0.9633\n",
            "test loss: 0.1567, accuracy: 0.9267\n",
            "epoch: 273\n",
            "train loss: 0.1137, accuracy: 0.9567\n",
            "test loss: 0.1490, accuracy: 0.9533\n",
            "epoch: 274\n",
            "train loss: 0.1205, accuracy: 0.9467\n",
            "test loss: 0.1541, accuracy: 0.9400\n",
            "epoch: 275\n",
            "train loss: 0.1159, accuracy: 0.9633\n",
            "test loss: 0.1508, accuracy: 0.9467\n",
            "epoch: 276\n",
            "train loss: 0.1151, accuracy: 0.9633\n",
            "test loss: 0.1518, accuracy: 0.9533\n",
            "epoch: 277\n",
            "train loss: 0.1166, accuracy: 0.9633\n",
            "test loss: 0.1578, accuracy: 0.9233\n",
            "epoch: 278\n",
            "train loss: 0.1172, accuracy: 0.9667\n",
            "test loss: 0.1548, accuracy: 0.9400\n",
            "epoch: 279\n",
            "train loss: 0.1134, accuracy: 0.9633\n",
            "test loss: 0.1499, accuracy: 0.9533\n",
            "epoch: 280\n",
            "train loss: 0.1162, accuracy: 0.9533\n",
            "test loss: 0.1506, accuracy: 0.9500\n",
            "epoch: 281\n",
            "train loss: 0.1189, accuracy: 0.9700\n",
            "test loss: 0.1478, accuracy: 0.9567\n",
            "epoch: 282\n",
            "train loss: 0.1188, accuracy: 0.9600\n",
            "test loss: 0.1484, accuracy: 0.9533\n",
            "epoch: 283\n",
            "train loss: 0.1142, accuracy: 0.9667\n",
            "test loss: 0.1524, accuracy: 0.9433\n",
            "epoch: 284\n",
            "train loss: 0.1123, accuracy: 0.9700\n",
            "test loss: 0.1500, accuracy: 0.9433\n",
            "epoch: 285\n",
            "train loss: 0.1192, accuracy: 0.9600\n",
            "test loss: 0.1508, accuracy: 0.9467\n",
            "epoch: 286\n",
            "train loss: 0.1114, accuracy: 0.9600\n",
            "test loss: 0.1471, accuracy: 0.9533\n",
            "epoch: 287\n",
            "train loss: 0.1109, accuracy: 0.9633\n",
            "test loss: 0.1481, accuracy: 0.9567\n",
            "epoch: 288\n",
            "train loss: 0.1143, accuracy: 0.9533\n",
            "test loss: 0.1534, accuracy: 0.9467\n",
            "epoch: 289\n",
            "train loss: 0.1126, accuracy: 0.9600\n",
            "test loss: 0.1486, accuracy: 0.9500\n",
            "epoch: 290\n",
            "train loss: 0.1125, accuracy: 0.9733\n",
            "test loss: 0.1485, accuracy: 0.9533\n",
            "epoch: 291\n",
            "train loss: 0.1136, accuracy: 0.9700\n",
            "test loss: 0.1472, accuracy: 0.9500\n",
            "epoch: 292\n",
            "train loss: 0.1130, accuracy: 0.9600\n",
            "test loss: 0.1495, accuracy: 0.9433\n",
            "epoch: 293\n",
            "train loss: 0.1118, accuracy: 0.9700\n",
            "test loss: 0.1456, accuracy: 0.9533\n",
            "epoch: 294\n",
            "train loss: 0.1111, accuracy: 0.9600\n",
            "test loss: 0.1591, accuracy: 0.9367\n",
            "epoch: 295\n",
            "train loss: 0.1170, accuracy: 0.9533\n",
            "test loss: 0.1451, accuracy: 0.9533\n",
            "epoch: 296\n",
            "train loss: 0.1115, accuracy: 0.9567\n",
            "test loss: 0.1459, accuracy: 0.9567\n",
            "epoch: 297\n",
            "train loss: 0.1096, accuracy: 0.9667\n",
            "test loss: 0.1464, accuracy: 0.9533\n",
            "epoch: 298\n",
            "train loss: 0.1128, accuracy: 0.9500\n",
            "test loss: 0.1476, accuracy: 0.9533\n",
            "epoch: 299\n",
            "train loss: 0.1090, accuracy: 0.9633\n",
            "test loss: 0.1471, accuracy: 0.9467\n",
            "epoch: 300\n",
            "train loss: 0.1082, accuracy: 0.9667\n",
            "test loss: 0.1458, accuracy: 0.9600\n"
          ]
        },
        {
          "output_type": "display_data",
          "data": {
            "image/png": "[encoded data removed]",
            "text/plain": [
              "<Figure size 432x288 with 1 Axes>"
            ]
          },
          "metadata": {
            "needs_background": "light"
          }
        },
        {
          "output_type": "display_data",
          "data": {
            "image/png": "[encoded data removed]",
            "text/plain": [
              "<Figure size 432x288 with 1 Axes>"
            ]
          },
          "metadata": {
            "needs_background": "light"
          }
        }
      ]
    },
    {
      "cell_type": "markdown",
      "metadata": {
        "id": "VOyE2YTKnmkg"
      },
      "source": [
        "### Step 51. MNIST 학습\n",
        "\n",
        "이번에는 지금까지 구현했던 모듈을 활용하여 실제  MNIST 데이터셋을 학습시켜볼 것이다. 먼저, 데이터를 불러와보겠다."
      ]
    },
    {
      "cell_type": "code",
      "metadata": {
        "colab": {
          "base_uri": "https://localhost:8080/"
        },
        "id": "-JJxWK2DnsRL",
        "outputId": "fb53e1b6-1a25-479a-f728-167713fa1f39"
      },
      "source": [
        "from dezero import datasets\n",
        "\n",
        "train_set = datasets.MNIST(train=True, transform=None)\n",
        "test_set = datasets.MNIST(train=False, transform=None)\n",
        "\n",
        "print(len(train_set))\n",
        "print(len(test_set))"
      ],
      "execution_count": 4,
      "outputs": [
        {
          "output_type": "stream",
          "name": "stdout",
          "text": [
            "Downloading: train-images-idx3-ubyte.gz\n",
            "[##############################] 100.00% Done\n",
            "Downloading: train-labels-idx1-ubyte.gz\n",
            "[##############################] 100.00% Done\n",
            "Downloading: t10k-images-idx3-ubyte.gz\n",
            "[##############################] 100.00% Done\n",
            "Downloading: t10k-labels-idx1-ubyte.gz\n",
            "[##############################] 100.00% Done\n",
            "60000\n",
            "10000\n"
          ]
        }
      ]
    },
    {
      "cell_type": "markdown",
      "metadata": {
        "id": "Bb6yHVe6D-5O"
      },
      "source": [
        "데이터 중 하나를 뽑아, 그려보자."
      ]
    },
    {
      "cell_type": "code",
      "metadata": {
        "colab": {
          "base_uri": "https://localhost:8080/",
          "height": 248
        },
        "id": "qlo16zkxEB7e",
        "outputId": "3d52a323-233c-4e1c-f435-03515b1c7d28"
      },
      "source": [
        "import matplotlib.pyplot as plt\n",
        "\n",
        "x, t = train_set[0]\n",
        "plt.imshow(x.reshape(28, 28), cmap='gray')\n",
        "plt.axis('off')\n",
        "plt.show()"
      ],
      "execution_count": 7,
      "outputs": [
        {
          "output_type": "display_data",
          "data": {
            "image/png": "[encoded data removed]",
            "text/plain": [
              "<Figure size 432x288 with 1 Axes>"
            ]
          },
          "metadata": {
            "needs_background": "light"
          }
        }
      ]
    },
    {
      "cell_type": "markdown",
      "metadata": {
        "id": "HRPdEg3SEc5o"
      },
      "source": [
        "먼저, 데이터를 전처리 해줄 수 있는 함수를 작성한다. 여기서는 데이터를 `flatten()` 처리해주고, 255.0으로 나누어 픽셀값이 0 ~ 1 사이가 되도록 설정한다."
      ]
    },
    {
      "cell_type": "code",
      "metadata": {
        "id": "HMLNICtoEUeg"
      },
      "source": [
        "def f(x):\n",
        "  x = x.flatten()\n",
        "  x = x.astype(np.float32)\n",
        "  x /= 255.0\n",
        "  return x"
      ],
      "execution_count": 3,
      "outputs": []
    },
    {
      "cell_type": "markdown",
      "metadata": {
        "id": "nSEepgJ2E6Et"
      },
      "source": [
        "이제 MNIST 데이터로 학습해보자."
      ]
    },
    {
      "cell_type": "code",
      "metadata": {
        "colab": {
          "base_uri": "https://localhost:8080/"
        },
        "id": "Q9vOrvq0E9zn",
        "outputId": "6c90452d-7167-4c06-fdd8-04bee55a4367"
      },
      "source": [
        "import dezero.functions as F\n",
        "from dezero.models import MLP\n",
        "from dezero import optimizers\n",
        "from dezero import datasets\n",
        "from dezero.dataloaders import DataLoader\n",
        "\n",
        "import numpy as np\n",
        "\n",
        "max_epoch = 5\n",
        "batch_size = 100\n",
        "hidden_size = 1000\n",
        "\n",
        "train_set = datasets.MNIST(train=True, transform = f)\n",
        "test_set = dezero.datasets.MNIST(train=False, transform = f)\n",
        "train_loader = DataLoader(train_set, batch_size)\n",
        "test_loader = DataLoader(test_set, batch_size)\n",
        "\n",
        "model = MLP((hidden_size, 10))\n",
        "optimizer = optimizers.SGD().setup(model)\n",
        "\n",
        "for epoch in range(max_epoch):\n",
        "  sum_loss, sum_acc = 0, 0\n",
        "\n",
        "  for x, t in train_loader:\n",
        "    y = model(x)\n",
        "    loss = F.softmax_cross_entropy(y, t)\n",
        "    acc = F.accuracy(y, t)\n",
        "    model.cleargrads()\n",
        "    loss.backward()\n",
        "    optimizer.update()\n",
        "\n",
        "    sum_loss += float(loss.data) * len(t)\n",
        "    sum_acc += float(acc.data) * len(t)\n",
        "\n",
        "  print('epoch : {}'.format(epoch+1))\n",
        "  print('train loss : {:4f}, accuracy: {:.4f}'.format(sum_loss / len(train_set), sum_acc / len(train_set)))\n",
        "\n",
        "  sum_loss, sum_acc = 0, 0\n",
        "  with dezero.no_grad():\n",
        "    for x, t in test_loader:\n",
        "      y = model(x)\n",
        "      y = model(x)\n",
        "      loss = F.softmax_cross_entropy(y, t)\n",
        "      acc = F.accuracy(y, t)\n",
        "\n",
        "      sum_loss += float(loss.data) * len(t)\n",
        "      sum_acc += float(acc.data) * len(t)\n",
        "\n",
        "  print('test loss : {:4f}, accuracy: {:.4f}'.format(sum_loss / len(test_set), sum_acc / len(test_set)))"
      ],
      "execution_count": 10,
      "outputs": [
        {
          "output_type": "stream",
          "name": "stdout",
          "text": [
            "epoch : 1\n",
            "train loss : 1.906649, accuracy: 0.5594\n",
            "test loss : 1.534348, accuracy: 0.7053\n",
            "epoch : 2\n",
            "train loss : 1.278307, accuracy: 0.7764\n",
            "test loss : 1.039302, accuracy: 0.8159\n",
            "epoch : 3\n",
            "train loss : 0.922019, accuracy: 0.8220\n",
            "test loss : 0.791605, accuracy: 0.8426\n",
            "epoch : 4\n",
            "train loss : 0.738871, accuracy: 0.8425\n",
            "test loss : 0.658436, accuracy: 0.8530\n",
            "epoch : 5\n",
            "train loss : 0.635072, accuracy: 0.8552\n",
            "test loss : 0.577089, accuracy: 0.8654\n"
          ]
        }
      ]
    },
    {
      "cell_type": "markdown",
      "metadata": {
        "id": "qSL1_-IrIr-K"
      },
      "source": [
        "이번에는 활성화함수를 Relu로 바꾸어 다시한번 학습시켜보겠다. Relu의 코드는 다음과 같다.\n",
        "\n",
        "```python\n",
        "class Relu(Function):\n",
        "    def forward(self, x):\n",
        "        y = np.maximum(x, 0,0)\n",
        "        return y\n",
        "\n",
        "    def backward(self, gy):\n",
        "      x = self.inputs[0]\n",
        "      mask = x .data > 0\n",
        "      return gy * mask\n",
        "\n",
        "def relu(x):\n",
        "  return Relu()(x)\n",
        "```"
      ]
    },
    {
      "cell_type": "code",
      "metadata": {
        "colab": {
          "base_uri": "https://localhost:8080/"
        },
        "id": "TaPgXf02Ivan",
        "outputId": "ffd752bc-3f27-4bcb-ce2d-d98ed82ac3ef"
      },
      "source": [
        "from dezero import Function\n",
        "\n",
        "model = MLP((hidden_size, hidden_size, 10), activation=relu)\n",
        "optimizer = optimizers.SGD().setup(model)\n",
        "\n",
        "for epoch in range(max_epoch):\n",
        "  sum_loss, sum_acc = 0, 0\n",
        "\n",
        "  for x, t in train_loader:\n",
        "    y = model(x)\n",
        "    loss = F.softmax_cross_entropy(y, t)\n",
        "    acc = F.accuracy(y, t)\n",
        "    model.cleargrads()\n",
        "    loss.backward()\n",
        "    optimizer.update()\n",
        "\n",
        "    sum_loss += float(loss.data) * len(t)\n",
        "    sum_acc += float(acc.data) * len(t)\n",
        "\n",
        "  print('epoch : {}'.format(epoch+1))\n",
        "  print('train loss : {:4f}, accuracy: {:.4f}'.format(sum_loss / len(train_set), sum_acc / len(train_set)))\n",
        "\n",
        "  sum_loss, sum_acc = 0, 0\n",
        "  with dezero.no_grad():\n",
        "    for x, t in test_loader:\n",
        "      y = model(x)\n",
        "      y = model(x)\n",
        "      loss = F.softmax_cross_entropy(y, t)\n",
        "      acc = F.accuracy(y, t)\n",
        "\n",
        "      sum_loss += float(loss.data) * len(t)\n",
        "      sum_acc += float(acc.data) * len(t)\n",
        "\n",
        "  print('test loss : {:4f}, accuracy: {:.4f}'.format(sum_loss / len(test_set), sum_acc / len(test_set)))"
      ],
      "execution_count": 16,
      "outputs": [
        {
          "output_type": "stream",
          "name": "stdout",
          "text": [
            "epoch : 1\n",
            "train loss : 1.072977, accuracy: 0.7657\n",
            "test loss : 0.485408, accuracy: 0.8844\n",
            "epoch : 2\n",
            "train loss : 0.419505, accuracy: 0.8904\n",
            "test loss : 0.343136, accuracy: 0.9074\n",
            "epoch : 3\n",
            "train loss : 0.336828, accuracy: 0.9067\n",
            "test loss : 0.297524, accuracy: 0.9163\n",
            "epoch : 4\n",
            "train loss : 0.299111, accuracy: 0.9157\n",
            "test loss : 0.270803, accuracy: 0.9228\n",
            "epoch : 5\n",
            "train loss : 0.273833, accuracy: 0.9230\n",
            "test loss : 0.253915, accuracy: 0.9304\n"
          ]
        }
      ]
    }
  ]
}