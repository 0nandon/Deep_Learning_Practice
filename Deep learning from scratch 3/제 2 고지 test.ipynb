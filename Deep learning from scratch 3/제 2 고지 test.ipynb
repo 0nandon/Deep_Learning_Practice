{
  "nbformat": 4,
  "nbformat_minor": 0,
  "metadata": {
    "colab": {
      "name": "Untitled3.ipynb",
      "provenance": [],
      "collapsed_sections": []
    },
    "kernelspec": {
      "display_name": "Python 3",
      "name": "python3"
    },
    "language_info": {
      "name": "python"
    }
  },
  "cells": [
    {
      "cell_type": "code",
      "metadata": {
        "colab": {
          "base_uri": "https://localhost:8080/"
        },
        "id": "CauQ_jvpuXJx",
        "outputId": "36576de3-6bf6-465c-f3aa-237cb45d7b6a"
      },
      "source": [
        "import os, sys\n",
        "from google.colab import drive\n",
        "\n",
        "drive.mount('/content/drive')\n",
        "%cd drive/MyDrive/Colab\\ Notebooks/"
      ],
      "execution_count": 1,
      "outputs": [
        {
          "output_type": "stream",
          "name": "stdout",
          "text": [
            "Mounted at /content/drive\n",
            "/content/drive/MyDrive/Colab Notebooks\n"
          ]
        }
      ]
    },
    {
      "cell_type": "code",
      "metadata": {
        "colab": {
          "base_uri": "https://localhost:8080/"
        },
        "id": "zE1OoIOJzBAb",
        "outputId": "776bff78-39ce-4511-ebe3-ba5e197241ce"
      },
      "source": [
        "!ls"
      ],
      "execution_count": 3,
      "outputs": [
        {
          "output_type": "stream",
          "name": "stdout",
          "text": [
            "'개인화 추천 시스템'\t   numpy-1.19.4.dist-info\t     six.py\n",
            "'딥러닝의 정석'\t\t   numpy-1.19.5.dist-info\t     surprise\n",
            " bin\t\t\t   numpy.libs\t\t\t     Test2.ipynb\n",
            " dezero\t\t\t   __pycache__\t\t\t     Untitled0.ipynb\n",
            "'Do it! 딥러닝'\t\t   scikit_surprise-1.1.1.dist-info   Untitled1.ipynb\n",
            " joblib\t\t\t   scipy\t\t\t     Untitled2.ipynb\n",
            " joblib-0.17.0.dist-info   scipy-1.5.4.dist-info\t     Untitled3.ipynb\n",
            " joblib-1.0.0.dist-info    scipy.libs\n",
            " numpy\t\t\t   six-1.15.0.dist-info\n"
          ]
        }
      ]
    },
    {
      "cell_type": "markdown",
      "metadata": {
        "id": "12Lk-627IK6r"
      },
      "source": [
        "### 최적화 문제\n",
        "\n",
        "이번 단계에서는 지금까지 구현한 역전파 기법들의 성능을 테스트해 보기 위해, 복잡한 함수들을 직접 미분해 볼 것이다.\n",
        "\n",
        "> 이번 단계에서는 최적화 문제의 테스트 함수를 사용할 것이다. 최적화 문제의 테스트 함수란 다양한 최적화 기법이 '얼마나 좋은가'를 평가하는 데 사용되는 함수를 말한다. (Test functions for optimization)\n",
        "\n"
      ]
    },
    {
      "cell_type": "markdown",
      "metadata": {
        "id": "HlVwFhK9I_ie"
      },
      "source": [
        "#### sphere 함수"
      ]
    },
    {
      "cell_type": "code",
      "metadata": {
        "colab": {
          "base_uri": "https://localhost:8080/"
        },
        "id": "Wi2jwA0fzD5o",
        "outputId": "5796c69a-19f5-4b21-d5a3-2ff5bda368bc"
      },
      "source": [
        "import numpy as np\n",
        "from dezero import *\n",
        "\n",
        "def sphere(x, y):\n",
        "  z = x ** 2 + y ** 2\n",
        "  return z\n",
        "\n",
        "x = Variable(np.array(1.0))\n",
        "y = Variable(np.array(1.0))\n",
        "z = sphere(x, y)\n",
        "z.backward()\n",
        "print(x.grad, y.grad)"
      ],
      "execution_count": 8,
      "outputs": [
        {
          "output_type": "stream",
          "name": "stdout",
          "text": [
            "2.0 2.0\n"
          ]
        }
      ]
    },
    {
      "cell_type": "markdown",
      "metadata": {
        "id": "QECa78B_JDpW"
      },
      "source": [
        "#### matyas 함수"
      ]
    },
    {
      "cell_type": "code",
      "metadata": {
        "colab": {
          "base_uri": "https://localhost:8080/"
        },
        "id": "vjXW42ybBGgE",
        "outputId": "04d85e59-1f6b-47f1-9dd3-7c36bba467fc"
      },
      "source": [
        "def matyas(x, y):\n",
        "  z = 0.26 * (x ** 2 + y ** 2) - 0.48 * x * y\n",
        "  return z\n",
        "\n",
        "x = Variable(np.array(1.0))\n",
        "y = Variable(np.array(1.0))\n",
        "z = matyas(x, y)\n",
        "z.backward()\n",
        "print(x.grad, y.grad)"
      ],
      "execution_count": 9,
      "outputs": [
        {
          "output_type": "stream",
          "name": "stdout",
          "text": [
            "variable(0.040000000000000036) variable(0.040000000000000036)\n"
          ]
        }
      ]
    },
    {
      "cell_type": "markdown",
      "metadata": {
        "id": "oQZpCeo2JORg"
      },
      "source": [
        "#### goldstein 함수"
      ]
    },
    {
      "cell_type": "code",
      "metadata": {
        "colab": {
          "base_uri": "https://localhost:8080/"
        },
        "id": "SUBC0IL2GBAc",
        "outputId": "b792ce6d-b023-4a77-997f-e09f885e168d"
      },
      "source": [
        "def goldstein(x, y):\n",
        "  z0 = (1 + (x + y + 1)**2 * (19 - 14*x + 3*x**2 - 14*y + 6*x*y + 3*y**2))\n",
        "  z1 = (30 + (2*x - 3*y)**2 * (18 - 32*x + 12*x**2 + 48*y - 36*x*y + 27*y**2))\n",
        "  return z0 * z1\n",
        "\n",
        "x = Variable(np.array(1.0))\n",
        "y = Variable(np.array(1.0))\n",
        "z = goldstein(x, y)\n",
        "z.backward()\n",
        "print(x.grad, y.grad)"
      ],
      "execution_count": 10,
      "outputs": [
        {
          "output_type": "stream",
          "name": "stdout",
          "text": [
            "variable(-5376.0) variable(8064.0)\n"
          ]
        }
      ]
    }
  ]
}