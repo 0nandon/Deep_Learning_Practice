{
  "nbformat": 4,
  "nbformat_minor": 0,
  "metadata": {
    "colab": {
      "name": "Untitled3.ipynb",
      "provenance": [],
      "collapsed_sections": []
    },
    "kernelspec": {
      "display_name": "Python 3",
      "name": "python3"
    },
    "language_info": {
      "name": "python"
    }
  },
  "cells": [
    {
      "cell_type": "markdown",
      "metadata": {
        "id": "XNKX-yc44WmU"
      },
      "source": [
        "### Step 1.\n",
        "\n",
        "변수가 담기는 Variable 클래스를 구현한다. "
      ]
    },
    {
      "cell_type": "code",
      "metadata": {
        "id": "kkCcD4q021y5"
      },
      "source": [
        "import numpy as np\n",
        "\n",
        "class Variable:\n",
        "  def __init__(self, data):\n",
        "    self.data = data"
      ],
      "execution_count": null,
      "outputs": []
    },
    {
      "cell_type": "markdown",
      "metadata": {
        "id": "mfLiJF_h4ssR"
      },
      "source": [
        "### Step 2.\n",
        "\n",
        "Step 1에서 다루었던 Variable 클래스를 다루는 함수 클래스를 구현한다. 다음과 같은 2가지 원칙을 따른다.\n",
        "\n",
        "* Function 클래스는 Variable 인스턴스를 입력받아 Variable 인스턴스를 출력한다.\n",
        "* Variable 인스턴스의 실제 데이터는 인스턴스 변수인 data에 있다.\n",
        "\n",
        "> __call__메서드는 파이썬의 특수 메서드이다. 이 메서드를 정의하면 f = Functinon() 형태로 함수의 인스턴스를 변수 f에 대입해두고, 나중에 f(...) 형태로 __call__ 메서드를 호출할 수 있다.\n",
        "\n",
        "앞으로 구현할 함수는 이 Function 클래스를 상속하여, 구체화하기로 한다. 다음과 같은 2가지 원칙을 따른다.\n",
        "\n",
        "* Function 클래스는 기반 클래스로서, 모든 함수에 공통되는 기능을 구현하다.\n",
        "* 구체적인 함수는 Function 클래스를 상속한 클래스에서 구현한다."
      ]
    },
    {
      "cell_type": "code",
      "metadata": {
        "colab": {
          "base_uri": "https://localhost:8080/"
        },
        "id": "JHs-HYd74s6O",
        "outputId": "c12a2850-2a28-4b07-a869-640b77779bd0"
      },
      "source": [
        "class Function:\n",
        "  def __init__(self):\n",
        "    pass\n",
        "\n",
        "  # input은 Variable 클래스라고 가정한다.\n",
        "  def __call__(self, input):\n",
        "    x = input.data\n",
        "    y = self.forward(x)\n",
        "    output = Variable(y)\n",
        "    return output\n",
        "\n",
        "  def forward(self, x):\n",
        "    raise NotImplementedError()\n",
        "\n",
        "# Function 클래스를 상속받아, 기능을 구체화시킨다.\n",
        "class Square(Function):\n",
        "  def forward(self, x):\n",
        "    return x ** 2\n",
        "\n",
        "x = Variable(np.array(10))\n",
        "f = Square()\n",
        "y = f(x)\n",
        "print(y.data)"
      ],
      "execution_count": null,
      "outputs": [
        {
          "output_type": "stream",
          "name": "stdout",
          "text": [
            "100\n"
          ]
        }
      ]
    },
    {
      "cell_type": "markdown",
      "metadata": {
        "id": "r7RTkONm6GmS"
      },
      "source": [
        "### Step 4.\n",
        "\n",
        "모델을 학습하는 것에 있어, 가장 중요한 것은 손실함수를 미분함으로써, 손실함수의 값을 최소화시키는 것이다. 이때 가장 쉽게 생각할 수 있는 미분법이 수치 미분(numerical differentiation) 이다. 보통 수치미분에서는 오차값을 가장 줄일 수 있는 중앙 차분(centered difference)을 많이 사용한다.\n",
        "\n",
        "> 중앙차분 : (f(x + h) - f(x - h)) /  2*h\n",
        "\n",
        "그러나 이러한 수치미분에는 치명적인 단점 2가지가 있는데, 다음과 같다.\n",
        "\n",
        "* 수치 미분의 결과에는 오차가 포함되어 있는데, 경우에 따라 그 오차값이 매우 커질 수도 있다. 주로 '자릿수 누락' 때문인데, 중앙차분 등 '차이'를 구하는 계산은 주로 크기가 비슷한 값들을 다루므로 계산 결과에서 자릿수 누락이 생겨 유효 자릿수가 줄어들 수 있다.\n",
        "\n",
        "* 수치 미분은 계산량이 많다. 신경망에서는 매개변수를 수백만개 이상 사용하는 건 일도 아니므로, 이 모두를 수치미분으로 구하는 것은 현실적이지 않다.\n",
        "\n",
        "따라서, 수치미분은 보통 역전파를 정확하게 구현했는지 확인하는 용도로 사용된다. 이를 기울기 확인(gradient checking) 이라고 한다."
      ]
    },
    {
      "cell_type": "code",
      "metadata": {
        "id": "DauPTwGs6GDm",
        "colab": {
          "base_uri": "https://localhost:8080/"
        },
        "outputId": "c9672930-bb10-4339-f1fb-a781c6f65428"
      },
      "source": [
        "def numerical_diff(f, x, eps=1e-4):\n",
        "  x0 = Variable(x.data - eps)\n",
        "  x1 = Variable(x.data + eps)\n",
        "  y0 = f(x0)\n",
        "  y1 = f(x1)\n",
        "  return (y1.data - y0.data) / (eps * 2)\n",
        "\n",
        "f = Square()\n",
        "x = Variable(np.array(2.0))\n",
        "dy = numerical_diff(f, x)\n",
        "print(dy)"
      ],
      "execution_count": null,
      "outputs": [
        {
          "output_type": "stream",
          "name": "stdout",
          "text": [
            "4.000000000004\n"
          ]
        }
      ]
    },
    {
      "cell_type": "markdown",
      "metadata": {
        "id": "N6LxYHgxBrBG"
      },
      "source": [
        "### Step 6.\n",
        "\n",
        "이번 단계에서는 Function 클래스를 발전시켜, Square, Exp 같은 세부적인 기능을 가진 함수가 Function 클래스를 상속받아 구현될 수 있도록 틀을 마련한다."
      ]
    },
    {
      "cell_type": "code",
      "metadata": {
        "colab": {
          "base_uri": "https://localhost:8080/"
        },
        "id": "hoJVixU1BhNN",
        "outputId": "cf87da57-c1d2-46d4-d8bf-9fe9f3b0387c"
      },
      "source": [
        "class Variable:\n",
        "  def __init__(self, x):\n",
        "    self.data = x\n",
        "    self.grad = None # 역전파를 위해 Variable 클래스에 self.grad 속성을 추가\n",
        "\n",
        "class Function:\n",
        "  def __init__(self):\n",
        "    self.input = None\n",
        "\n",
        "  def __call__(self, input):\n",
        "    x = input.data\n",
        "    y = self.forward(x)\n",
        "    output = Variable(y)\n",
        "    self.input = input\n",
        "    return output\n",
        "\n",
        "  def forward(self, x):\n",
        "    return NotImplementedError()\n",
        "\n",
        "  def backward(self, x):\n",
        "    return NotImplementedError()\n",
        "\n",
        "# square\n",
        "class Square(Function):\n",
        "  def forward(self, x):\n",
        "    y = x ** 2\n",
        "    return y\n",
        "\n",
        "  def backward(self, gy):\n",
        "    x = self.input.data\n",
        "    gx = 2 * x * gy\n",
        "    return gx\n",
        "\n",
        "# exp\n",
        "class Exp(Function):\n",
        "  def forward(self, x):\n",
        "    y = np.exp(x)\n",
        "    return y\n",
        "\n",
        "  def backward(self, gy):\n",
        "    x = self.input.data\n",
        "    gx = np.exp(x) * gy\n",
        "    return gx\n",
        "\n",
        "# 역전파 구현\n",
        "A = Square()\n",
        "B = Exp()\n",
        "C = Square()\n",
        "\n",
        "x = Variable(np.array(0.5))\n",
        "a = A(x)\n",
        "b = B(a)\n",
        "y = C(b)\n",
        "\n",
        "y.grad = np.array(1.0)\n",
        "b.grad = C.backward(y.grad)\n",
        "a.grad = B.backward(b.grad)\n",
        "x.grad = A.backward(a.grad)\n",
        "print(x.grad)"
      ],
      "execution_count": 42,
      "outputs": [
        {
          "output_type": "stream",
          "name": "stdout",
          "text": [
            "3.297442541400256\n"
          ]
        }
      ]
    },
    {
      "cell_type": "markdown",
      "metadata": {
        "id": "Mx3wQYMDMKBZ"
      },
      "source": [
        "### Step 7.\n",
        "\n",
        "이번 단계에서는 Define-by-Run을 활용하여, 역전파를 자동화하려고 한다.\n",
        "\n",
        "> Define-by-Run이란 딥러닝에서 수행하는 계산들을 계산 시점에 '연결'하는 방식으로, '동적 계산 그래프'라고도 한다.\n",
        "\n",
        "지금까지의 계산 그래프들은 모두 일직선으로 늘어선 계산이므로, 함수의 순서를 리스트 형태로 저장해두면 나중에 거꾸로 추척하는 식으로 역전파를 자동화할 수 있다. 그러나 분기가 있는 계싼 그래프나 같은 변수가 여러번 사용되는 복잡한 계산 그래프는 단순히 리스트로 저장하는 식으로 해결할 수 없다."
      ]
    },
    {
      "cell_type": "code",
      "metadata": {
        "id": "vUXVwUq3MJ0H",
        "colab": {
          "base_uri": "https://localhost:8080/"
        },
        "outputId": "b8904cd5-2c8b-4161-e6c4-3c1f47840824"
      },
      "source": [
        "import numpy as np\n",
        "\n",
        "class Variable:\n",
        "  def __init__(self, data):\n",
        "    self.data = data\n",
        "    self.grad = None\n",
        "    self.creator = None\n",
        "\n",
        "  def set_creator(self, func):\n",
        "    self.creator = func\n",
        "\n",
        "class Function:\n",
        "  def __init__(self):\n",
        "    self.input = None\n",
        "    self.output = None\n",
        "\n",
        "  # 계산 시점에서 함수와 변수의 관계를 저장한다. (Define-by-Run)\n",
        "  def __call__(self, input):\n",
        "    x = input.data\n",
        "    y = self.forward(x)\n",
        "    output = Variable(y)\n",
        "    output.set_creator(self)\n",
        "    self.input = input\n",
        "    self.output = output\n",
        "    return output\n",
        "\n",
        "  def forward(self, x):\n",
        "    return NotImplementedError()\n",
        "\n",
        "  def backward(self, x):\n",
        "    return NotImplementedError()\n",
        "\n",
        "A = Square()\n",
        "B = Exp()\n",
        "C = Square()\n",
        "\n",
        "x = Variable(np.array(0.5))\n",
        "a = A(x)\n",
        "b = B(a)\n",
        "y = C(b)\n",
        "\n",
        "assert y.creator == C\n",
        "assert y.creator.input == b\n",
        "assert y.creator.input.creator == B\n",
        "assert y.creator.input.creator.input == a\n",
        "assert y.creator.input.creator.input.creator == A\n",
        "assert y.creator.input.creator.input.creator.input == x\n",
        "\n",
        "# 역전파 시행\n",
        "y.grad = np.array(1.0)\n",
        "C = y.creator\n",
        "b = C.input\n",
        "b.grad = C.backward(y.grad)\n",
        "\n",
        "B = b.creator\n",
        "a = B.input\n",
        "a.grad = B.backward(b.grad)\n",
        "A = a.creator\n",
        "x = A.input\n",
        "x.grad = A.backward(a.grad)\n",
        "print(x.grad)"
      ],
      "execution_count": 8,
      "outputs": [
        {
          "output_type": "stream",
          "name": "stdout",
          "text": [
            "3.297442541400256\n"
          ]
        }
      ]
    },
    {
      "cell_type": "markdown",
      "metadata": {
        "id": "ENW7lMPxnjiF"
      },
      "source": [
        "위의 미분 작업을 자동화할 수 있도록, Variable 클래스에 backward 메소드를 추가한다."
      ]
    },
    {
      "cell_type": "code",
      "metadata": {
        "colab": {
          "base_uri": "https://localhost:8080/"
        },
        "id": "4JzYvw7mnW8r",
        "outputId": "a3176557-634b-49ec-ab60-44dcba034ac2"
      },
      "source": [
        "class Variable:\n",
        "  def __init__(self, data):\n",
        "    self.data = data\n",
        "    self.grad = None\n",
        "    self.creator = None\n",
        "  \n",
        "  def set_creator(self, func):\n",
        "    self.creator = func\n",
        "\n",
        "  # Define-by-run 구현\n",
        "  def backward(self):\n",
        "    f = self.creator\n",
        "    \n",
        "    if f is not None:\n",
        "      x = f.input\n",
        "      x.grad = f.backward(self.grad)\n",
        "      x.backward()\n",
        "\n",
        "A = Square()\n",
        "B = Exp()\n",
        "C = Square()\n",
        "\n",
        "x = Variable(np.array(0.5))\n",
        "a = A(x)\n",
        "b = B(a)\n",
        "y = C(b)\n",
        "\n",
        "y.grad = np.array(1.0)\n",
        "y.backward()\n",
        "print(x.grad)"
      ],
      "execution_count": 9,
      "outputs": [
        {
          "output_type": "stream",
          "name": "stdout",
          "text": [
            "3.297442541400256\n"
          ]
        }
      ]
    },
    {
      "cell_type": "markdown",
      "metadata": {
        "id": "6y9zeHZ6pp59"
      },
      "source": [
        "### Step 8.\n",
        "\n",
        "앞에서 Variable 클래스의 backward 메서드를 통해 Define-by-run 기법을 구현해 보았다. 앞의 backward 함수는 재귀적으로 backward 함수를 호출하여 역전파를 구현하는데, 이번 장에서는 이것을 반복문으로 대체해보겠다."
      ]
    },
    {
      "cell_type": "code",
      "metadata": {
        "colab": {
          "base_uri": "https://localhost:8080/"
        },
        "id": "V5ZHDp0BrIjq",
        "outputId": "d94dfef1-ab8b-474b-d381-5d96e4469da2"
      },
      "source": [
        "import numpy as np\n",
        "class Variable:\n",
        "  def __init__(self, data):\n",
        "    self.data = data\n",
        "    self.grad = None\n",
        "    self.creator = None\n",
        "  \n",
        "  def set_creator(self, func):\n",
        "    self.creator = func\n",
        "\n",
        "  def backward(self):\n",
        "    funcs = [self.creator]\n",
        "    while funcs:\n",
        "      f = funcs.pop()\n",
        "      x, y = f.input, f.output\n",
        "      x.grad = f.backward(y.grad)\n",
        "\n",
        "      if x.creator is not None:\n",
        "        funcs.append(x.creator)\n",
        "  \n",
        "A = Square()\n",
        "B = Exp()\n",
        "C = Square()\n",
        "\n",
        "x = Variable(np.array(0.5))\n",
        "a = A(x)\n",
        "b = B(a)\n",
        "y = C(b)\n",
        "\n",
        "y.grad = np.array(1.0)\n",
        "y.backward()\n",
        "print(x.grad)"
      ],
      "execution_count": 2,
      "outputs": [
        {
          "output_type": "stream",
          "name": "stdout",
          "text": [
            "3.297442541400256\n"
          ]
        }
      ]
    },
    {
      "cell_type": "markdown",
      "metadata": {
        "id": "2ZaeLaEgtUjw"
      },
      "source": [
        "### Step 9.\n",
        "\n",
        "지금까지의 DeZero는 함수를 '파이썬 클래스'로 정의해 사용했다. 그래서 가령 Square 클래스를 사용하는 계산을 하려면 코드를 다음처럼 작성해야 했다.\n",
        "\n",
        "```python\n",
        "x = Variable(np.array(0.5))\n",
        "f = Square()\n",
        "y = f(x)\n",
        "```\n",
        "\n",
        "이번 단계에서는 3가지의 개선을 추가할 것인데 다음과 같다.\n",
        "\n",
        "* 클래스인 Sqaure, Exp를 좀 더 함수 형식으로 사용할 수 있게 할 것.\n",
        "```python\n",
        "  def square(x):\n",
        "    return Square()(x)\n",
        "```\n",
        "* Variable 클래스에 대입될 수 있는 data의 타입이 np.ndarray만 가능하도록 할 것.\n",
        "```python\n",
        "  if not isinstance(data, np.ndarray):\n",
        "    raise TypeError('{}은 지원하지 않습니다.'.format(type(data)))\n",
        "```\n",
        "* 스칼라 형식의 넘파이 객체를 계산할 때, np.ndarray로 변환한 후 계산할 것.\n",
        "```python\n",
        "  def as_array(x):\n",
        "    if np.isscalar(x):\n",
        "      return np.array(x)\n",
        "    return x\n",
        "```"
      ]
    },
    {
      "cell_type": "code",
      "metadata": {
        "colab": {
          "base_uri": "https://localhost:8080/"
        },
        "id": "EdQtbZQAt9fn",
        "outputId": "e6737007-467a-4328-e895-2a3317f78c96"
      },
      "source": [
        "class Variable:\n",
        "  def __init__(self, data):\n",
        "    # 오로지 np.ndarray만 지원\n",
        "    if data is not None:\n",
        "      if not isinstance(data, np.ndarray):\n",
        "        raise TypeError('{}은(는) 지원하지 않습니다.'.format(type(data)))\n",
        "\n",
        "    self.data = data\n",
        "    self.grad = None\n",
        "    self.creator = None\n",
        "  \n",
        "  def set_creator(self, func):\n",
        "    self.creator = func\n",
        "\n",
        "  def backward(self):\n",
        "    # 미분값이 없을 때, 자동으로 1.0을 할당\n",
        "    if self.grad is None:\n",
        "      self.grad = np.ones_like(self.data)\n",
        "\n",
        "    funcs = [self.creator]\n",
        "    while funcs:\n",
        "      f = funcs.pop()\n",
        "      x, y = f.input, f.output\n",
        "      x.grad = f.backward(y.grad)\n",
        "\n",
        "      if x.creator is not None:\n",
        "        funcs.append(x.creator)\n",
        "\n",
        "class Function:\n",
        "  def __init__(self):\n",
        "    self.input = None\n",
        "    self.output = None\n",
        "\n",
        "  def __call__(self, input):\n",
        "    x = input.data\n",
        "    y = self.forward(x)\n",
        "    output = Variable(self.as_array(y))\n",
        "    output.set_creator(self)\n",
        "    self.input = input\n",
        "    self.output = output\n",
        "    return output\n",
        "  \n",
        "  # x가 스칼라이면 np.ndarray 타입으로 변경해준다.\n",
        "  def as_array(self, x):\n",
        "    if np.isscalar(x):\n",
        "      return np.array(x)\n",
        "    return x\n",
        "\n",
        "  def forward(self, x):\n",
        "    return NotImplementedError()\n",
        "\n",
        "  def backward(self, x):\n",
        "    return NotImplementedError()\n",
        "\n",
        "def square(x):\n",
        "  f = Square()\n",
        "  return f(x)\n",
        "\n",
        "def exp(x):\n",
        "  f = Exp()\n",
        "  return f(x)\n",
        "\n",
        "x = Variable(np.array(0.5))\n",
        "a = square(x)\n",
        "b = exp(a)\n",
        "y = square(b)\n",
        "\n",
        "y.grad = np.array(1.0)\n",
        "y.backward()\n",
        "print(x.grad)"
      ],
      "execution_count": 3,
      "outputs": [
        {
          "output_type": "stream",
          "name": "stdout",
          "text": [
            "3.297442541400256\n"
          ]
        }
      ]
    },
    {
      "cell_type": "markdown",
      "metadata": {
        "id": "Z9VtBMqD4ITi"
      },
      "source": [
        "### Step 10.\n",
        "\n",
        "이번에는 지금까지 개발한 DeZero 기능들을 테스트해볼 것이다.\n",
        "\n",
        "파이썬으로 테스트할 때는, 표준 라이브러리에 포함된 unittest를 사용하면 편하다. 아래 코드와 같이 unittest를 임포트하고, unittest.TestCase를 상속한 SquareTest 클래스를 구현한다. 이때, 테스트를 할 때는, 이름이 test로 시작하는 메서드를 만들고 그 안에 테스트할 내용을 적는다.\n",
        "\n",
        "> 아래 코드에서는 square 함수의 출력이 기댓값과 같은지 확인하기 위해 self.assertEqual이라는 메서드를 사용했다. 이외에도, self.assertGreater, self.assertTrue 등 unittest에는 다양한 메서드가 준비되어 있다.\n",
        "\n",
        "아래의 테스트 코드가 steps/step10.py 파일에 있다고 가정했을 때, 터미널에서 다음 명령을 실행하면 된다.\n",
        "\n",
        "> $ python -m unittest steps/step10.py"
      ]
    },
    {
      "cell_type": "code",
      "metadata": {
        "id": "oHzemCHI7-BY"
      },
      "source": [
        "import unittest\n",
        "\n",
        "def numerical_diff(f, x, eps=1e-4):\n",
        "  x0 = Variable(x.data - eps)\n",
        "  x1 = Variable(x.data + eps)\n",
        "  y0 = f(x0)\n",
        "  y1 = f(x1)\n",
        "  return (y1.data - y0.data) / (2*eps)\n",
        "\n",
        "# Square 클래스를 테스트\n",
        "class SquareTest(unittest.TestCase):\n",
        "  # 테스트 메소드는 무조건 'test' 단어로 시작되어야 한다.\n",
        "  def test_forward(self):\n",
        "    x = Variable(np.array(2.0))\n",
        "    y = Square(x)\n",
        "    expected = np.array(4.0)\n",
        "    self.assertEqual(y, expected)\n",
        "\n",
        "  def test_backward(self):\n",
        "    x = Variable(np.array(3.0))\n",
        "    y = square(x)\n",
        "    y.backward()\n",
        "    expected = np.array(6.0)\n",
        "    self.assertEqual(x.grad, expected)\n",
        "\n",
        "  def test_gradient_check(self):\n",
        "    x = Variable(np.random.rand(1))\n",
        "    y = square(x)\n",
        "    y.backward()\n",
        "    num_grad = numerical_diff(f, x, eps=1e-4)\n",
        "    flg = np.allclose(x.grad, num_grad)\n",
        "    self.assertTrue(flg)"
      ],
      "execution_count": 10,
      "outputs": []
    }
  ]
}
