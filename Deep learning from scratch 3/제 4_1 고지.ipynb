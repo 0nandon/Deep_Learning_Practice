{
  "nbformat": 4,
  "nbformat_minor": 0,
  "metadata": {
    "colab": {
      "name": "Untitled3.ipynb",
      "provenance": [],
      "collapsed_sections": []
    },
    "kernelspec": {
      "display_name": "Python 3",
      "name": "python3"
    },
    "language_info": {
      "name": "python"
    }
  },
  "cells": [
    {
      "cell_type": "markdown",
      "metadata": {
        "id": "81E58CxMbmHh"
      },
      "source": [
        "### Step 37. 텐서를 다루다.\n",
        "\n",
        "지금까지의 변수는 주로 '스칼라'를 다루었으나, 머신러닝 데이터로는 벡터나 행렬 등이 '텐서'가 주로 쓰인다. 이번 단계에서는 텐서를 사용할 때의 주의점을 알아보면서 Dezero를 확장한다."
      ]
    },
    {
      "cell_type": "markdown",
      "metadata": {
        "id": "j0Ip3z2NgTgH"
      },
      "source": [
        "Variable의 data에는 ndarray 타입의 넘파이 객체가 대입되는데, 넘파이에는 브로드캐스팅 기능이 있어, 원소별 계산을 하는 함수는 입력값이 스칼라든, 행렬이든 기존의 Dezero도 계산과 역전파를 진행할 수 있다. 요약하면 다음과 같다.\n",
        "\n",
        "* 원소별 연산을 수행하는 함수(add, sin 등)는 입출력 데이터가 스칼라라고 가정하고, 순전파와 역전파를 구현할 수 있다.\n",
        "* 이 경우 텐서를 입력해도 역전파가 올바르게 성립한다."
      ]
    },
    {
      "cell_type": "code",
      "metadata": {
        "colab": {
          "base_uri": "https://localhost:8080/"
        },
        "id": "jnUdUsOXgUY4",
        "outputId": "f16be937-5e1a-4b0a-ca86-34534944504a"
      },
      "source": [
        "import numpy as np\n",
        "import dezero.functions as F\n",
        "from dezero import Variable\n",
        "\n",
        "x = Variable(np.array([[1, 2, 3], [4, 5, 6]]))\n",
        "y = F.sin(x)\n",
        "print(y)\n",
        "\n",
        "y.backward()\n",
        "print(x.grad)"
      ],
      "execution_count": null,
      "outputs": [
        {
          "output_type": "stream",
          "name": "stdout",
          "text": [
            "variable([[ 0.84147098  0.90929743  0.14112001]\n",
            "          [-0.7568025  -0.95892427 -0.2794155 ]])\n",
            "variable([[ 0.54030231 -0.41614684 -0.9899925 ]\n",
            "          [-0.65364362  0.28366219  0.96017029]])\n"
          ]
        }
      ]
    },
    {
      "cell_type": "markdown",
      "metadata": {
        "id": "0pJ1O2PXhHYH"
      },
      "source": [
        "### Step 38. 형상 변환 함수\n",
        "\n",
        "앞으로는 원소별로 계산하지 않는 함수에 대해 살펴보겠다. 이번 단계에서는 그 첫걸음으로 두 가지 함수를 구현한다. 텐서의 형상을 변환하는 reshape 함수와, 행렬을 전치하는 transpose 함수이다."
      ]
    },
    {
      "cell_type": "code",
      "metadata": {
        "colab": {
          "base_uri": "https://localhost:8080/"
        },
        "id": "A8qZI2KpiiwU",
        "outputId": "bd90dec8-b026-4ec9-c34d-95c931b1cfdf"
      },
      "source": [
        "from dezero import Function\n",
        "\n",
        "class Reshape(Function):\n",
        "  def __init__(self, shape):\n",
        "    self.shape = shape\n",
        "\n",
        "  def forward(self, x):\n",
        "    self.x_shape = x.shape\n",
        "    y = x.reshape(self.shape)\n",
        "    return y\n",
        "\n",
        "  def backward(self, gy):\n",
        "    return reshape(gy, self.x_shape)\n",
        "\n",
        "def reshape(x, shape):\n",
        "  if x.shape == shape:\n",
        "    return as_variable(x)\n",
        "  return Reshape(shape)(x)\n",
        "\n",
        "x = Variable(np.array([[1, 2, 3], [4, 5, 6]]))\n",
        "y = reshape(x, (6,))\n",
        "print(y)\n",
        "y.backward(retain_grad=True)\n",
        "print(x.grad)"
      ],
      "execution_count": null,
      "outputs": [
        {
          "output_type": "stream",
          "name": "stdout",
          "text": [
            "variable([1 2 3 4 5 6])\n",
            "variable([[1 1 1]\n",
            "          [1 1 1]])\n"
          ]
        }
      ]
    },
    {
      "cell_type": "markdown",
      "metadata": {
        "id": "TezJepLnlZUN"
      },
      "source": [
        "이어서, Dezero의 Variable 변수로도 넘파이에서처럼 reshape을 활용할 수 있도록 Variable 클래스에 코드를 추가해준다.\n",
        "\n",
        "```python\n",
        "class Variable:\n",
        "  ...\n",
        "  def reshape(self, *shape):\n",
        "    if len(shape) == 1 and isinstance(shape[0], (tuple, list)):\n",
        "      shape = shape[0]\n",
        "    return dezero.functions.reshape(self, shape)\n",
        "```"
      ]
    },
    {
      "cell_type": "code",
      "metadata": {
        "colab": {
          "base_uri": "https://localhost:8080/"
        },
        "id": "mgSrGraQmeLa",
        "outputId": "058ddf88-7eb2-4717-c6eb-86cab115c371"
      },
      "source": [
        "# test\n",
        "x = Variable(np.random.randn(1, 2, 3))\n",
        "y = x.reshape(2, 3)\n",
        "print(y)"
      ],
      "execution_count": null,
      "outputs": [
        {
          "output_type": "stream",
          "name": "stdout",
          "text": [
            "variable([[ 1.66995045  0.05488989  0.80820596]\n",
            "          [ 0.66173862 -1.59093227 -0.88178582]])\n"
          ]
        }
      ]
    },
    {
      "cell_type": "markdown",
      "metadata": {
        "id": "6Nfmkw99osvE"
      },
      "source": [
        "다음은 행렬의 전치, transpose 함수를 구현해 보도록 하겠다."
      ]
    },
    {
      "cell_type": "code",
      "metadata": {
        "colab": {
          "base_uri": "https://localhost:8080/"
        },
        "id": "JeeqGTcsp5Rc",
        "outputId": "8a62b7c1-2be3-4149-dbd1-b07eb043b6bb"
      },
      "source": [
        "from dezero import Function\n",
        "\n",
        "class Transpose(Function):\n",
        "  def forward(self, x):\n",
        "    y = x.T\n",
        "    return y\n",
        "\n",
        "  def backward(self, gy):\n",
        "    gx = transpose(gy)\n",
        "    return gx\n",
        "\n",
        "def transpose(x):\n",
        "  return Transpose()(x)\n",
        "\n",
        "# test\n",
        "x = Variable(np.array([[1, 2, 3], [4, 5, 6]]))\n",
        "y = transpose(x)\n",
        "print(y)\n",
        "y.backward()\n",
        "print(x.grad)"
      ],
      "execution_count": null,
      "outputs": [
        {
          "output_type": "stream",
          "name": "stdout",
          "text": [
            "variable([[1 4]\n",
            "          [2 5]\n",
            "          [3 6]])\n",
            "variable([[1 1 1]\n",
            "          [1 1 1]])\n"
          ]
        }
      ]
    },
    {
      "cell_type": "markdown",
      "metadata": {
        "id": "0lIsQvR3q_Oc"
      },
      "source": [
        "Variable 함수에서, 이 transpose 함수를 원활히 사용할 수 있도록 다음 함수를 추가한다.\n",
        "\n",
        "```python\n",
        "class Variable:\n",
        "  ...\n",
        "  @property\n",
        "  def T(self):\n",
        "    return dezero.functions.transpose(self)\n",
        "```"
      ]
    },
    {
      "cell_type": "code",
      "metadata": {
        "colab": {
          "base_uri": "https://localhost:8080/"
        },
        "id": "uKNguY_9rTqq",
        "outputId": "2ba64b71-494c-4055-c7dc-bbcc33ac0beb"
      },
      "source": [
        "# test\n",
        "x = Variable(np.random.randn(2, 3))\n",
        "y = x.T\n",
        "print(y)"
      ],
      "execution_count": 2,
      "outputs": [
        {
          "output_type": "stream",
          "name": "stdout",
          "text": [
            "variable([[-0.20722328  0.59093764]\n",
            "          [-0.04202923 -0.3450468 ]\n",
            "          [-1.31850134  1.27172508]])\n"
          ]
        }
      ]
    },
    {
      "cell_type": "code",
      "metadata": {
        "colab": {
          "base_uri": "https://localhost:8080/"
        },
        "id": "RJuf9paqiI21",
        "outputId": "a736bfa9-9565-4118-a81f-157522193b55"
      },
      "source": [
        "import os, sys\n",
        "from google.colab import drive\n",
        "\n",
        "drive.mount('/content/drive')\n",
        "%cd drive/MyDrive/Colab\\ Notebooks/"
      ],
      "execution_count": 1,
      "outputs": [
        {
          "output_type": "stream",
          "name": "stdout",
          "text": [
            "Drive already mounted at /content/drive; to attempt to forcibly remount, call drive.mount(\"/content/drive\", force_remount=True).\n",
            "/content/drive/MyDrive/Colab Notebooks\n"
          ]
        }
      ]
    },
    {
      "cell_type": "markdown",
      "metadata": {
        "id": "i6znhY-SjnqR"
      },
      "source": [
        "### Step 39. 합계 함수\n",
        "\n",
        "이번에는 numpy의 sum 함수를 구현해 보도록 하겠다. 보통 numpy에서 sum 함수는 다음과 같이 사용된다.\n",
        "\n",
        "```python\n",
        "import numpy as np\n",
        "\n",
        "x = np.array([[1, 2, 3], [4, 5, 6]])\n",
        "\n",
        "y = x - x.sum(axis=1, keepdims = True)\n",
        "\n",
        "\"\"\"\n",
        "[results]\n",
        "y = [[-5, -4, -3], [-11, -10, -9]]\n",
        "\"\"\"\n",
        "```"
      ]
    },
    {
      "cell_type": "code",
      "metadata": {
        "colab": {
          "base_uri": "https://localhost:8080/"
        },
        "id": "sncVqlGakzUR",
        "outputId": "0b8612e2-c768-42ed-f4dd-2d91d5737b0e"
      },
      "source": [
        "from dezero import utils\n",
        "import dezero.functions as F\n",
        "from dezero import Function, Variable\n",
        "import numpy as np\n",
        "\n",
        "class Sum(Function):\n",
        "  def __init__(self, axis, keepdims):\n",
        "    self.axis = axis\n",
        "    self.keepdims = keepdims\n",
        "    super().__init__()\n",
        "\n",
        "  def forward(self, x):\n",
        "    self.x_shape = x.shape\n",
        "    y = x.sum(axis=self.axis, keepdims=self.keepdims)\n",
        "    return y\n",
        "\n",
        "  def backward(self, gy):\n",
        "    gy = utils.reshape_sum_backward(gy, self.x_shape, self.axis, self.keepdims)\n",
        "    gx = broadcast_to(gy, self.x_shape)\n",
        "    return gx\n",
        "\n",
        "def sum(x, axis=None, keepdims=False):\n",
        "    return Sum(axis, keepdims)(x)\n",
        "\n",
        "# test\n",
        "x = Variable(np.array([[1, 2, 3], [4, 5, 6]]))\n",
        "y = sum(x, axis=0)\n",
        "print(y)\n",
        "\n",
        "y.backward()\n",
        "print(x.grad)"
      ],
      "execution_count": 3,
      "outputs": [
        {
          "output_type": "stream",
          "name": "stdout",
          "text": [
            "variable([5 7 9])\n",
            "variable([[1 1 1]\n",
            "          [1 1 1]])\n"
          ]
        }
      ]
    },
    {
      "cell_type": "markdown",
      "metadata": {
        "id": "-hPbzN2Dy-zT"
      },
      "source": [
        "### Step 40. 브로드캐스트 함수\n",
        "\n",
        "이번에는 넘파이의 브로드 캐스팅 기능을 Dezero에 도입시키기 위해, `BroadcastTo `, `SumTo` 클래스를 구현해보겠다. 먼저, 넘파이에 `np.braodcast_to()` 함수의 사용법을 알아보겠다.\n",
        "\n",
        "```python\n",
        "x = np.array([1, 2, 3])\n",
        "y = np.broadcast_to(x, (2, 3))\n",
        "print(y)\n",
        "\n",
        "\"\"\"\n",
        "[result]\n",
        "y = np.array([[1, 2, 3], [1, 2, 3]])\n",
        "\"\"\"\n",
        "```\n",
        "\n",
        "`BroadcastTo` 클래스는 정확히 `np.broadcast_to()`함수와 동일한 기능을 하며, `SumTo` 클래스는 `BroadcastTo` 클래스의 미분 기능을 하며, 펼려놓은 shape을 다시 압축시킨다."
      ]
    },
    {
      "cell_type": "code",
      "metadata": {
        "id": "N6HRZeCoy_Ev"
      },
      "source": [
        "from dezero import *\n",
        "\n",
        "# broadcast_to\n",
        "class BroadcastTo(Function):\n",
        "  def __init__(self, shape):\n",
        "    self.shape = shape\n",
        "    super().__init__()\n",
        "\n",
        "  def forward(self, x):\n",
        "    self.x_shape = x.shape\n",
        "    y = np.broadcast_to(x, self.shape)\n",
        "    return y\n",
        "\n",
        "  def backward(self, gy):\n",
        "    gx = sum_to(gy, self.x_shape)\n",
        "    return gx\n",
        "\n",
        "def broadcast_to(x, shape):\n",
        "  if x.shape == shape:\n",
        "    return as_variable(x)\n",
        "  return BroadcastTo(shape)(x)\n",
        "\n",
        "# sum_to\n",
        "class SumTo(Function):\n",
        "  def __init__(self, shape):\n",
        "    x.shape = shape\n",
        "    super().__init__()\n",
        "\n",
        "  def forward(self, x):\n",
        "    self.x_shape = x.shape\n",
        "    y = utils.sum_to(x, self.x_shape)\n",
        "    return y\n",
        "\n",
        "  def backward(self, gy):\n",
        "    gx = broadcast_to(gy, self.x_shape)\n",
        "    return gx\n",
        "\n",
        "def sum_to(x, shape):\n",
        "  if x.shape == shape:\n",
        "    return as_variable(x)\n",
        "  return SumTo(shape)(x)"
      ],
      "execution_count": 2,
      "outputs": []
    },
    {
      "cell_type": "markdown",
      "metadata": {
        "id": "67xAXIcm-yO-"
      },
      "source": [
        "이제 Dezero도 넘파이의 브로드캐스팅 기능을 사용할 수 있게 되었다. 제대로 작동하는지 시험해 보도록 하자. "
      ]
    },
    {
      "cell_type": "code",
      "metadata": {
        "colab": {
          "base_uri": "https://localhost:8080/"
        },
        "id": "dzXMDE7V9hdf",
        "outputId": "c4c3402c-6586-4c29-ebbd-e5ad21fbab3e"
      },
      "source": [
        "x0 = Variable(np.array([1, 2, 3]))\n",
        "x1 = Variable(np.array([10]))\n",
        "y = x0 + x1\n",
        "print(y)\n",
        "\n",
        "y.backward()\n",
        "print(x1.grad)"
      ],
      "execution_count": 4,
      "outputs": [
        {
          "output_type": "stream",
          "name": "stdout",
          "text": [
            "variable([11 12 13])\n",
            "variable([3])\n"
          ]
        }
      ]
    },
    {
      "cell_type": "markdown",
      "metadata": {
        "id": "TqQs9SpdQirF"
      },
      "source": [
        "### Step 41. 행렬의 곱\n",
        "\n",
        "이번에는 딥러닝 모델을 구현할 때, 반드시 필요한 행렬 곱 클래스를 구현해보겠다."
      ]
    },
    {
      "cell_type": "code",
      "metadata": {
        "colab": {
          "base_uri": "https://localhost:8080/"
        },
        "id": "HmAprx3BRmFw",
        "outputId": "8cad2036-2577-40c6-81cb-2fd7271ae17a"
      },
      "source": [
        "class MatMul(Function):\n",
        "  def forward(self, x, W):\n",
        "    y = np.dot(x, W)\n",
        "    return y\n",
        "\n",
        "  def backward(self, gy):\n",
        "    x, W = self.inputs\n",
        "    gx = matmul(gy, W.T)\n",
        "    gW = matmul(x.T, gy)\n",
        "    return gx, gW\n",
        "\n",
        "def matmul(x, W):\n",
        "  return MatMul()(x, W)\n",
        "  \n",
        "x = Variable(np.random.randn(2, 3))\n",
        "W = Variable(np.random.randn(3, 4))\n",
        "y = matmul(x, W)\n",
        "y.backward()\n",
        "\n",
        "print(x.grad.shape)\n",
        "print(W.grad.shape)"
      ],
      "execution_count": 8,
      "outputs": [
        {
          "output_type": "stream",
          "name": "stdout",
          "text": [
            "(2, 3)\n",
            "(3, 4)\n"
          ]
        }
      ]
    }
  ]
}